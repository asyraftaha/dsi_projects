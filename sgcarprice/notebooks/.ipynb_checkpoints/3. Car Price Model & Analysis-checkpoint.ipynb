{
 "cells": [
  {
   "cell_type": "markdown",
   "metadata": {},
   "source": [
    "# Introduction"
   ]
  },
  {
   "cell_type": "markdown",
   "metadata": {},
   "source": [
    "## Problem Statement"
   ]
  },
  {
   "cell_type": "markdown",
   "metadata": {},
   "source": [
    "Selling a car can be a stressful situation for car owners. Not knowing the market price of their vehicles leave them comparing quotes between dealers and figuring out to sell the car directly. Not knowing the price of their vehicle can leave them vulnerable to being \"under-quoted\" by car agencies.\n",
    "\n",
    "Having the knowledge of the market price of their vehicles would empower car-owners to be able to make informed decisions and review the trade off between selling to car agencies or selling directly. Knowing the difference in price would allow the car owners to evaluate the effort and time in dollars. That is what I intend to achieve with this project."
   ]
  },
  {
   "cell_type": "markdown",
   "metadata": {},
   "source": [
    "## Background of Data"
   ]
  },
  {
   "cell_type": "markdown",
   "metadata": {},
   "source": [
    "For this project, the data for the cars listing were scraped from [SG Car Mart](SGCarMart.com). The data was scraped on the 17th December 2020. The below table is the dictionary of the data that I will be working with. The scraping of data were done in a separate notebook as they are date sensitive. I have also scraped data on the 22nd January 2021 to validate my model on more recent listings in the website.\n",
    "\n",
    "|**Feature**|**Type**|**Description**|\n",
    "|---|---|---|\n",
    "|price|object|Price of Cars Listed|\n",
    "|mileage|integer|The total distance the car has travelled|\n",
    "|road_tax|integer|The amount of tax payable for a vehicle to use the roads in a year|\n",
    "|coe|integer|The price of COE (latest) that was registered to the vehicle : note that COE expires every 10 years and subject to renewal or termination|\n",
    "|eng_cap|integer|The engine capacity of a car|\n",
    "|curb_weight|integer|The weight of the vehicle|\n",
    "|manufactured|integer|The year the car was manufactured|\n",
    "|transmission|object|Gear transmission of the car: Automatic or Manual|\n",
    "|omv|integer|The machine price of the car (coe not included)|\n",
    "|power|integer|Engine power|\n",
    "|num_owners|integer|Toal number of owners (past & present): [1: 1 owner, 2: 2 owners, 3: 3 owners, 4: 4 owners, 5: 5 owners, 6: 6 owners, 7: 7 or more owners]|\n",
    "|type|object|The vehicle types: [Hatchback, MPV, SUV, Luxury Sedan, Mid-Size Sedan, Sports Car, Stationwagon]|\n",
    "|category|object|The categories of cars listing: [Premium Ad Car, COE Car, PARF Car, Almost New Car, Direct Owner Sale, STA Evaluated Car, sgCarMart Warranty Cars, Consignment Car, Rare & Exotic, Low Mileage Car]|"
   ]
  },
  {
   "cell_type": "markdown",
   "metadata": {},
   "source": [
    "# Data Cleaning"
   ]
  },
  {
   "cell_type": "code",
   "execution_count": 1,
   "metadata": {
    "ExecuteTime": {
     "end_time": "2021-01-25T15:13:46.852018Z",
     "start_time": "2021-01-25T15:13:45.939386Z"
    }
   },
   "outputs": [],
   "source": [
    "#import packages\n",
    "import pandas as pd\n",
    "import numpy as np\n",
    "import re\n",
    "import seaborn as sns\n",
    "import matplotlib.pyplot as plt\n",
    "import matplotlib.dates as mdates\n",
    "import statistics"
   ]
  },
  {
   "cell_type": "code",
   "execution_count": 2,
   "metadata": {
    "ExecuteTime": {
     "end_time": "2021-01-25T15:13:46.899855Z",
     "start_time": "2021-01-25T15:13:46.852981Z"
    }
   },
   "outputs": [],
   "source": [
    "#converting csv into dataframe\n",
    "cars = pd.read_csv('../data/cars_info.csv')"
   ]
  },
  {
   "cell_type": "code",
   "execution_count": 3,
   "metadata": {
    "ExecuteTime": {
     "end_time": "2021-01-25T15:13:46.931770Z",
     "start_time": "2021-01-25T15:13:46.901881Z"
    }
   },
   "outputs": [
    {
     "data": {
      "text/html": [
       "<div>\n",
       "<style scoped>\n",
       "    .dataframe tbody tr th:only-of-type {\n",
       "        vertical-align: middle;\n",
       "    }\n",
       "\n",
       "    .dataframe tbody tr th {\n",
       "        vertical-align: top;\n",
       "    }\n",
       "\n",
       "    .dataframe thead th {\n",
       "        text-align: right;\n",
       "    }\n",
       "</style>\n",
       "<table border=\"1\" class=\"dataframe\">\n",
       "  <thead>\n",
       "    <tr style=\"text-align: right;\">\n",
       "      <th></th>\n",
       "      <th>Unnamed: 0</th>\n",
       "      <th>model</th>\n",
       "      <th>link</th>\n",
       "      <th>price</th>\n",
       "      <th>depreciation</th>\n",
       "      <th>reg_date</th>\n",
       "      <th>mileage</th>\n",
       "      <th>road_tax</th>\n",
       "      <th>coe</th>\n",
       "      <th>eng_cap</th>\n",
       "      <th>curb_weight</th>\n",
       "      <th>manufactured</th>\n",
       "      <th>transmission</th>\n",
       "      <th>omv</th>\n",
       "      <th>power</th>\n",
       "      <th>num_owners</th>\n",
       "      <th>type</th>\n",
       "      <th>category</th>\n",
       "    </tr>\n",
       "  </thead>\n",
       "  <tbody>\n",
       "    <tr>\n",
       "      <th>0</th>\n",
       "      <td>0</td>\n",
       "      <td>BMW 1 Series 116d</td>\n",
       "      <td>info.php?ID=950050&amp;DL=2913</td>\n",
       "      <td>$77,800</td>\n",
       "      <td>$10,770 /yrVie...</td>\n",
       "      <td>26-Jul-2017(6yrs 7mths 9days COE left)        ...</td>\n",
       "      <td>76,600...</td>\n",
       "      <td>\\t$1,082 /yr</td>\n",
       "      <td>$44,002</td>\n",
       "      <td>1,496 cc</td>\n",
       "      <td>1,350 kg  ...</td>\n",
       "      <td>2017</td>\n",
       "      <td>Auto</td>\n",
       "      <td>$25,894</td>\n",
       "      <td>85.0 kW (113 bhp)</td>\n",
       "      <td>1</td>\n",
       "      <td>Hatchback</td>\n",
       "      <td>Category\\nPARF Car</td>\n",
       "    </tr>\n",
       "    <tr>\n",
       "      <th>1</th>\n",
       "      <td>1</td>\n",
       "      <td>Toyota Wish 1.8A (COE till 11/2022)</td>\n",
       "      <td>info.php?ID=928124&amp;DL=1220</td>\n",
       "      <td>$15,500</td>\n",
       "      <td>$8,200 /yr    ...</td>\n",
       "      <td>07-Nov-2007(1yr 10mths 21days COE left)       ...</td>\n",
       "      <td>172,00...</td>\n",
       "      <td>\\t$1,361 /yr</td>\n",
       "      <td>$25,084</td>\n",
       "      <td>1,794 cc</td>\n",
       "      <td>1,300 kg  ...</td>\n",
       "      <td>2007</td>\n",
       "      <td>Auto</td>\n",
       "      <td>$16,527</td>\n",
       "      <td>97.0 kW (130 bhp)</td>\n",
       "      <td>3</td>\n",
       "      <td>MPV</td>\n",
       "      <td>Category\\nCOE Car</td>\n",
       "    </tr>\n",
       "    <tr>\n",
       "      <th>2</th>\n",
       "      <td>2</td>\n",
       "      <td>Audi TT Roadster 2.0A TFSI S-tronic (New 10-yr...</td>\n",
       "      <td>info.php?ID=944820&amp;DL=3125</td>\n",
       "      <td>$83,800</td>\n",
       "      <td>$8,380 /yr    ...</td>\n",
       "      <td>23-Dec-2010(10yrs  COE left)                  ...</td>\n",
       "      <td>N.A.  ...</td>\n",
       "      <td>\\t$1,194 /yr</td>\n",
       "      <td>N.A.</td>\n",
       "      <td>1,984 cc</td>\n",
       "      <td>1,315 kg  ...</td>\n",
       "      <td>2009</td>\n",
       "      <td>Auto</td>\n",
       "      <td>$54,102</td>\n",
       "      <td>147.0 kW (197 bhp)</td>\n",
       "      <td>3</td>\n",
       "      <td>Sports Car</td>\n",
       "      <td>Category\\nCOE Car, Premium Ad Car</td>\n",
       "    </tr>\n",
       "    <tr>\n",
       "      <th>3</th>\n",
       "      <td>3</td>\n",
       "      <td>BMW 5 Series 520i (New 10-yr COE)</td>\n",
       "      <td>info.php?ID=941944&amp;DL=1220</td>\n",
       "      <td>$86,800</td>\n",
       "      <td>$8,680 /yr    ...</td>\n",
       "      <td>31-Oct-2011(10yrs  COE left)                  ...</td>\n",
       "      <td>140,00...</td>\n",
       "      <td>\\t$1,210 /yr</td>\n",
       "      <td>N.A.</td>\n",
       "      <td>1,997 cc</td>\n",
       "      <td>1,610 kg  ...</td>\n",
       "      <td>2011</td>\n",
       "      <td>Auto</td>\n",
       "      <td>$45,036</td>\n",
       "      <td>135.0 kW (181 bhp)</td>\n",
       "      <td>1</td>\n",
       "      <td>Luxury Sedan</td>\n",
       "      <td>Category\\nCOE Car</td>\n",
       "    </tr>\n",
       "    <tr>\n",
       "      <th>4</th>\n",
       "      <td>4</td>\n",
       "      <td>Honda Civic Type R 2.0M (COE till 03/2029)</td>\n",
       "      <td>info.php?ID=952605&amp;DL=1000</td>\n",
       "      <td>N.A</td>\n",
       "      <td>N.A           ...</td>\n",
       "      <td>02-Jun-2009(8yrs 3mths 15days COE left)       ...</td>\n",
       "      <td>N.A.  ...</td>\n",
       "      <td>\\t$1,452 /yr</td>\n",
       "      <td>$33,018</td>\n",
       "      <td>1,998 cc</td>\n",
       "      <td>1,270 kg  ...</td>\n",
       "      <td>2008</td>\n",
       "      <td>Manual</td>\n",
       "      <td>$34,597</td>\n",
       "      <td>165.0 kW (221 bhp)</td>\n",
       "      <td>1</td>\n",
       "      <td>Sports Car</td>\n",
       "      <td>Category\\nCOE Car, Direct Owner Sale, Low Mile...</td>\n",
       "    </tr>\n",
       "  </tbody>\n",
       "</table>\n",
       "</div>"
      ],
      "text/plain": [
       "   Unnamed: 0                                              model  \\\n",
       "0           0                                  BMW 1 Series 116d   \n",
       "1           1                Toyota Wish 1.8A (COE till 11/2022)   \n",
       "2           2  Audi TT Roadster 2.0A TFSI S-tronic (New 10-yr...   \n",
       "3           3                  BMW 5 Series 520i (New 10-yr COE)   \n",
       "4           4         Honda Civic Type R 2.0M (COE till 03/2029)   \n",
       "\n",
       "                         link     price  \\\n",
       "0  info.php?ID=950050&DL=2913  $77,800    \n",
       "1  info.php?ID=928124&DL=1220  $15,500    \n",
       "2  info.php?ID=944820&DL=3125  $83,800    \n",
       "3  info.php?ID=941944&DL=1220  $86,800    \n",
       "4  info.php?ID=952605&DL=1000      N.A    \n",
       "\n",
       "                                        depreciation  \\\n",
       "0                                  $10,770 /yrVie...   \n",
       "1                                  $8,200 /yr    ...   \n",
       "2                                  $8,380 /yr    ...   \n",
       "3                                  $8,680 /yr    ...   \n",
       "4                                  N.A           ...   \n",
       "\n",
       "                                            reg_date  \\\n",
       "0  26-Jul-2017(6yrs 7mths 9days COE left)        ...   \n",
       "1  07-Nov-2007(1yr 10mths 21days COE left)       ...   \n",
       "2  23-Dec-2010(10yrs  COE left)                  ...   \n",
       "3  31-Oct-2011(10yrs  COE left)                  ...   \n",
       "4  02-Jun-2009(8yrs 3mths 15days COE left)       ...   \n",
       "\n",
       "                                             mileage  \\\n",
       "0                                          76,600...   \n",
       "1                                          172,00...   \n",
       "2                                          N.A.  ...   \n",
       "3                                          140,00...   \n",
       "4                                          N.A.  ...   \n",
       "\n",
       "                                           road_tax      coe  \\\n",
       "0                                      \\t$1,082 /yr  $44,002   \n",
       "1                                      \\t$1,361 /yr  $25,084   \n",
       "2                                      \\t$1,194 /yr     N.A.   \n",
       "3                                      \\t$1,210 /yr     N.A.   \n",
       "4                                      \\t$1,452 /yr  $33,018   \n",
       "\n",
       "                                        eng_cap  \\\n",
       "0  1,496 cc                                       \n",
       "1  1,794 cc                                       \n",
       "2  1,984 cc                                       \n",
       "3  1,997 cc                                       \n",
       "4  1,998 cc                                       \n",
       "\n",
       "                                         curb_weight manufactured  \\\n",
       "0                                      1,350 kg  ...         2017   \n",
       "1                                      1,300 kg  ...         2007   \n",
       "2                                      1,315 kg  ...         2009   \n",
       "3                                      1,610 kg  ...         2011   \n",
       "4                                      1,270 kg  ...         2008   \n",
       "\n",
       "  transmission      omv               power num_owners          type  \\\n",
       "0         Auto  $25,894   85.0 kW (113 bhp)          1     Hatchback   \n",
       "1         Auto  $16,527   97.0 kW (130 bhp)          3           MPV   \n",
       "2         Auto  $54,102  147.0 kW (197 bhp)          3    Sports Car   \n",
       "3         Auto  $45,036  135.0 kW (181 bhp)          1  Luxury Sedan   \n",
       "4       Manual  $34,597  165.0 kW (221 bhp)          1    Sports Car   \n",
       "\n",
       "                                            category  \n",
       "0                                Category\\nPARF Car   \n",
       "1                                 Category\\nCOE Car   \n",
       "2                 Category\\nCOE Car, Premium Ad Car   \n",
       "3                                 Category\\nCOE Car   \n",
       "4  Category\\nCOE Car, Direct Owner Sale, Low Mile...  "
      ]
     },
     "execution_count": 3,
     "metadata": {},
     "output_type": "execute_result"
    }
   ],
   "source": [
    "#checking the dataframe\n",
    "cars.head()"
   ]
  },
  {
   "cell_type": "markdown",
   "metadata": {},
   "source": [
    "We can see that there are unwanted columns in the dataframe. The `Unnamed: 0` column was due to the conversion of dataframe to csv in the previous notebook. `depreciation` column is derived from the sale price as it is calculated by:\n",
    "\n",
    "$$ (Sale Price - PARF) / 12 $$\n",
    "\n",
    "Since `depreciation` is not independent of `price`, our target variable, we will be dropping the column as well."
   ]
  },
  {
   "cell_type": "code",
   "execution_count": 4,
   "metadata": {
    "ExecuteTime": {
     "end_time": "2021-01-25T15:13:46.947556Z",
     "start_time": "2021-01-25T15:13:46.933765Z"
    }
   },
   "outputs": [],
   "source": [
    "#dropping columns\n",
    "cars.drop(columns=['depreciation','Unnamed: 0','link'],inplace=True)"
   ]
  },
  {
   "cell_type": "markdown",
   "metadata": {},
   "source": [
    "## Dealing with Null Values"
   ]
  },
  {
   "cell_type": "markdown",
   "metadata": {},
   "source": [
    "There were imperfections in the scraping portion of the data. As we can see from the image below, there exists a possibility that the data scraped might have some missing data. These are largely due to the car listed being sold. Since we cannot impute logically, as these are all car data, we will try and remove them and see if we have a large enough dataset to train our model.\n",
    "\n",
    "<img src=\"../images/sgcarmart_sold.jpg\" alt=\"drawing\" width=\"900\"/>\n"
   ]
  },
  {
   "cell_type": "code",
   "execution_count": 5,
   "metadata": {
    "ExecuteTime": {
     "end_time": "2021-01-25T15:13:46.963489Z",
     "start_time": "2021-01-25T15:13:46.949520Z"
    }
   },
   "outputs": [
    {
     "data": {
      "text/plain": [
       "model           0\n",
       "price           1\n",
       "reg_date        1\n",
       "mileage         1\n",
       "road_tax        1\n",
       "coe             1\n",
       "eng_cap         1\n",
       "curb_weight     1\n",
       "manufactured    1\n",
       "transmission    1\n",
       "omv             1\n",
       "power           1\n",
       "num_owners      1\n",
       "type            1\n",
       "category        1\n",
       "dtype: int64"
      ]
     },
     "execution_count": 5,
     "metadata": {},
     "output_type": "execute_result"
    }
   ],
   "source": [
    "#checking for null values\n",
    "cars.isnull().sum()"
   ]
  },
  {
   "cell_type": "code",
   "execution_count": 6,
   "metadata": {
    "ExecuteTime": {
     "end_time": "2021-01-25T15:13:46.979441Z",
     "start_time": "2021-01-25T15:13:46.964480Z"
    }
   },
   "outputs": [
    {
     "data": {
      "text/html": [
       "<div>\n",
       "<style scoped>\n",
       "    .dataframe tbody tr th:only-of-type {\n",
       "        vertical-align: middle;\n",
       "    }\n",
       "\n",
       "    .dataframe tbody tr th {\n",
       "        vertical-align: top;\n",
       "    }\n",
       "\n",
       "    .dataframe thead th {\n",
       "        text-align: right;\n",
       "    }\n",
       "</style>\n",
       "<table border=\"1\" class=\"dataframe\">\n",
       "  <thead>\n",
       "    <tr style=\"text-align: right;\">\n",
       "      <th></th>\n",
       "      <th>model</th>\n",
       "      <th>price</th>\n",
       "      <th>reg_date</th>\n",
       "      <th>mileage</th>\n",
       "      <th>road_tax</th>\n",
       "      <th>coe</th>\n",
       "      <th>eng_cap</th>\n",
       "      <th>curb_weight</th>\n",
       "      <th>manufactured</th>\n",
       "      <th>transmission</th>\n",
       "      <th>omv</th>\n",
       "      <th>power</th>\n",
       "      <th>num_owners</th>\n",
       "      <th>type</th>\n",
       "      <th>category</th>\n",
       "    </tr>\n",
       "  </thead>\n",
       "  <tbody>\n",
       "    <tr>\n",
       "      <th>100</th>\n",
       "      <td>Expired ads</td>\n",
       "      <td>NaN</td>\n",
       "      <td>NaN</td>\n",
       "      <td>NaN</td>\n",
       "      <td>NaN</td>\n",
       "      <td>NaN</td>\n",
       "      <td>NaN</td>\n",
       "      <td>NaN</td>\n",
       "      <td>NaN</td>\n",
       "      <td>NaN</td>\n",
       "      <td>NaN</td>\n",
       "      <td>NaN</td>\n",
       "      <td>NaN</td>\n",
       "      <td>NaN</td>\n",
       "      <td>NaN</td>\n",
       "    </tr>\n",
       "  </tbody>\n",
       "</table>\n",
       "</div>"
      ],
      "text/plain": [
       "           model price reg_date mileage road_tax  coe eng_cap curb_weight  \\\n",
       "100  Expired ads   NaN      NaN     NaN      NaN  NaN     NaN         NaN   \n",
       "\n",
       "    manufactured transmission  omv power num_owners type category  \n",
       "100          NaN          NaN  NaN   NaN        NaN  NaN      NaN  "
      ]
     },
     "execution_count": 6,
     "metadata": {},
     "output_type": "execute_result"
    }
   ],
   "source": [
    "#checking for the null\n",
    "cars[cars['transmission'].isnull()]"
   ]
  },
  {
   "cell_type": "code",
   "execution_count": 7,
   "metadata": {
    "ExecuteTime": {
     "end_time": "2021-01-25T15:13:46.994460Z",
     "start_time": "2021-01-25T15:13:46.980439Z"
    }
   },
   "outputs": [],
   "source": [
    "#dropping null value\n",
    "cars.drop(index=100,inplace=True)"
   ]
  },
  {
   "cell_type": "code",
   "execution_count": 8,
   "metadata": {
    "ExecuteTime": {
     "end_time": "2021-01-25T15:13:47.010409Z",
     "start_time": "2021-01-25T15:13:46.996395Z"
    }
   },
   "outputs": [
    {
     "data": {
      "text/plain": [
       "model           0\n",
       "price           0\n",
       "reg_date        0\n",
       "mileage         0\n",
       "road_tax        0\n",
       "coe             0\n",
       "eng_cap         0\n",
       "curb_weight     0\n",
       "manufactured    0\n",
       "transmission    0\n",
       "omv             0\n",
       "power           0\n",
       "num_owners      0\n",
       "type            0\n",
       "category        0\n",
       "dtype: int64"
      ]
     },
     "execution_count": 8,
     "metadata": {},
     "output_type": "execute_result"
    }
   ],
   "source": [
    "#checking null once more\n",
    "cars.isnull().sum()"
   ]
  },
  {
   "cell_type": "code",
   "execution_count": 9,
   "metadata": {
    "ExecuteTime": {
     "end_time": "2021-01-25T15:13:47.026365Z",
     "start_time": "2021-01-25T15:13:47.012382Z"
    }
   },
   "outputs": [
    {
     "data": {
      "text/plain": [
       "Int64Index([   4,  148,  201,  353,  355,  368,  447,  526,  660,  667,\n",
       "            ...\n",
       "            4959, 4961, 4964, 4966, 4974, 4979, 4981, 4985, 4993, 4998],\n",
       "           dtype='int64', length=429)"
      ]
     },
     "execution_count": 9,
     "metadata": {},
     "output_type": "execute_result"
    }
   ],
   "source": [
    "#checking cars without price\n",
    "cars[cars['price'].str.contains('N')].index"
   ]
  },
  {
   "cell_type": "code",
   "execution_count": 10,
   "metadata": {
    "ExecuteTime": {
     "end_time": "2021-01-25T15:13:47.042309Z",
     "start_time": "2021-01-25T15:13:47.027340Z"
    }
   },
   "outputs": [],
   "source": [
    "#dropping observations without price\n",
    "cars.drop(index=cars[cars['price'].str.contains('N')].index,inplace=True)"
   ]
  },
  {
   "cell_type": "code",
   "execution_count": 11,
   "metadata": {
    "ExecuteTime": {
     "end_time": "2021-01-25T15:13:47.057268Z",
     "start_time": "2021-01-25T15:13:47.043307Z"
    }
   },
   "outputs": [
    {
     "data": {
      "text/plain": [
       "Int64Index([  56,  105,  262,  270,  285,  378,  381,  390,  394,  402,\n",
       "            ...\n",
       "            4308, 4454, 4661, 4807, 4836, 4838, 4841, 4842, 4844, 4925],\n",
       "           dtype='int64', length=108)"
      ]
     },
     "execution_count": 11,
     "metadata": {},
     "output_type": "execute_result"
    }
   ],
   "source": [
    "#checking wrongly inputted curb_weight\n",
    "cars[cars['curb_weight'].str.contains('N')].index"
   ]
  },
  {
   "cell_type": "code",
   "execution_count": 12,
   "metadata": {
    "ExecuteTime": {
     "end_time": "2021-01-25T15:13:47.073225Z",
     "start_time": "2021-01-25T15:13:47.058229Z"
    }
   },
   "outputs": [],
   "source": [
    "#removing wrongly inputted curb_weight\n",
    "cars.drop(index=cars[cars['curb_weight'].str.contains('N')].index,inplace=True)"
   ]
  },
  {
   "cell_type": "code",
   "execution_count": 13,
   "metadata": {
    "ExecuteTime": {
     "end_time": "2021-01-25T15:13:47.089174Z",
     "start_time": "2021-01-25T15:13:47.074238Z"
    }
   },
   "outputs": [
    {
     "data": {
      "text/plain": [
       "Int64Index([1444, 2322, 2950, 3894], dtype='int64')"
      ]
     },
     "execution_count": 13,
     "metadata": {},
     "output_type": "execute_result"
    }
   ],
   "source": [
    "#checking wrongly inputted eng_cap\n",
    "cars[cars['eng_cap'].str.contains('N')].index"
   ]
  },
  {
   "cell_type": "code",
   "execution_count": 14,
   "metadata": {
    "ExecuteTime": {
     "end_time": "2021-01-25T15:13:47.105106Z",
     "start_time": "2021-01-25T15:13:47.090180Z"
    }
   },
   "outputs": [],
   "source": [
    "#removing wrongly inputted eng_cap\n",
    "cars.drop(index=cars[cars['eng_cap'].str.contains('N')].index,inplace=True)"
   ]
  },
  {
   "cell_type": "code",
   "execution_count": 15,
   "metadata": {
    "ExecuteTime": {
     "end_time": "2021-01-25T15:13:47.121096Z",
     "start_time": "2021-01-25T15:13:47.106103Z"
    }
   },
   "outputs": [
    {
     "data": {
      "text/plain": [
       "Int64Index([   2,    3,   12,   17,   30,   55,   69,   83,   88,  139,\n",
       "            ...\n",
       "            4893, 4900, 4927, 4935, 4942, 4947, 4967, 4968, 4980, 4997],\n",
       "           dtype='int64', length=479)"
      ]
     },
     "execution_count": 15,
     "metadata": {},
     "output_type": "execute_result"
    }
   ],
   "source": [
    "#checking for missing coe\n",
    "cars[cars['coe'].str.contains('N')].index"
   ]
  },
  {
   "cell_type": "code",
   "execution_count": 16,
   "metadata": {
    "ExecuteTime": {
     "end_time": "2021-01-25T15:13:47.137020Z",
     "start_time": "2021-01-25T15:13:47.122102Z"
    }
   },
   "outputs": [],
   "source": [
    "#dropping the wrongly inputted coe\n",
    "cars.drop(index=cars[cars['coe'].str.contains('N')].index,inplace=True)"
   ]
  },
  {
   "cell_type": "code",
   "execution_count": 17,
   "metadata": {
    "ExecuteTime": {
     "end_time": "2021-01-25T15:13:47.152524Z",
     "start_time": "2021-01-25T15:13:47.138016Z"
    }
   },
   "outputs": [
    {
     "data": {
      "text/plain": [
       "Int64Index([   1,   25,   36,   66,   81,   86,  123,  129,  138,  154,\n",
       "            ...\n",
       "            4930, 4938, 4948, 4954, 4956, 4984, 4986, 4989, 4990, 4994],\n",
       "           dtype='int64', length=385)"
      ]
     },
     "execution_count": 17,
     "metadata": {},
     "output_type": "execute_result"
    }
   ],
   "source": [
    "#checking for missing reg_date\n",
    "cars[cars['reg_date'].str.contains('N')].index"
   ]
  },
  {
   "cell_type": "code",
   "execution_count": 18,
   "metadata": {
    "ExecuteTime": {
     "end_time": "2021-01-25T15:13:47.168498Z",
     "start_time": "2021-01-25T15:13:47.154482Z"
    }
   },
   "outputs": [],
   "source": [
    "#removing wrongly inputted reg_date\n",
    "cars.drop(index=cars[cars['reg_date'].str.contains('N')].index,inplace=True)"
   ]
  },
  {
   "cell_type": "code",
   "execution_count": 19,
   "metadata": {
    "ExecuteTime": {
     "end_time": "2021-01-25T15:13:47.184453Z",
     "start_time": "2021-01-25T15:13:47.169477Z"
    }
   },
   "outputs": [
    {
     "data": {
      "text/plain": [
       "Int64Index([], dtype='int64')"
      ]
     },
     "execution_count": 19,
     "metadata": {},
     "output_type": "execute_result"
    }
   ],
   "source": [
    "#checking for missing power\n",
    "cars[cars['power'].str.contains('N')].index"
   ]
  },
  {
   "cell_type": "code",
   "execution_count": 20,
   "metadata": {
    "ExecuteTime": {
     "end_time": "2021-01-25T15:13:47.199360Z",
     "start_time": "2021-01-25T15:13:47.185428Z"
    }
   },
   "outputs": [
    {
     "data": {
      "text/plain": [
       "Int64Index([], dtype='int64')"
      ]
     },
     "execution_count": 20,
     "metadata": {},
     "output_type": "execute_result"
    }
   ],
   "source": [
    "#checking for missing omv\n",
    "cars[cars['omv'].str.contains('N')].index"
   ]
  },
  {
   "cell_type": "code",
   "execution_count": 21,
   "metadata": {
    "ExecuteTime": {
     "end_time": "2021-01-25T15:13:47.214323Z",
     "start_time": "2021-01-25T15:13:47.200359Z"
    }
   },
   "outputs": [
    {
     "data": {
      "text/plain": [
       "Int64Index([   7,   11,   31,   37,   47,   50,   54,   64,   71,   85,\n",
       "            ...\n",
       "            4915, 4916, 4921, 4928, 4929, 4949, 4955, 4963, 4969, 4983],\n",
       "           dtype='int64', length=532)"
      ]
     },
     "execution_count": 21,
     "metadata": {},
     "output_type": "execute_result"
    }
   ],
   "source": [
    "#checking wrongly inputted mileage\n",
    "cars[cars['mileage'].str.contains('N')].index"
   ]
  },
  {
   "cell_type": "code",
   "execution_count": 22,
   "metadata": {
    "ExecuteTime": {
     "end_time": "2021-01-25T15:13:47.230305Z",
     "start_time": "2021-01-25T15:13:47.215318Z"
    }
   },
   "outputs": [],
   "source": [
    "#removing wrongly inputted observations\n",
    "cars.drop(index=cars[cars['mileage'].str.contains('N')].index,inplace=True)"
   ]
  },
  {
   "cell_type": "code",
   "execution_count": 23,
   "metadata": {
    "ExecuteTime": {
     "end_time": "2021-01-25T15:13:47.245275Z",
     "start_time": "2021-01-25T15:13:47.233270Z"
    }
   },
   "outputs": [
    {
     "data": {
      "text/plain": [
       "Int64Index([538, 2491, 3205, 3654, 3676, 4940], dtype='int64')"
      ]
     },
     "execution_count": 23,
     "metadata": {},
     "output_type": "execute_result"
    }
   ],
   "source": [
    "#checking for missing road_tax\n",
    "cars[cars['road_tax'].str.contains('N')].index"
   ]
  },
  {
   "cell_type": "code",
   "execution_count": 24,
   "metadata": {
    "ExecuteTime": {
     "end_time": "2021-01-25T15:13:47.261196Z",
     "start_time": "2021-01-25T15:13:47.247233Z"
    }
   },
   "outputs": [],
   "source": [
    "#dropping the wrongly inputted road_tax\n",
    "cars.drop(index=cars[cars['road_tax'].str.contains('N')].index,inplace=True)"
   ]
  },
  {
   "cell_type": "markdown",
   "metadata": {},
   "source": [
    "## Dealing With Special Characters and Scraping Error"
   ]
  },
  {
   "cell_type": "code",
   "execution_count": 25,
   "metadata": {
    "ExecuteTime": {
     "end_time": "2021-01-25T15:13:47.277153Z",
     "start_time": "2021-01-25T15:13:47.262243Z"
    },
    "scrolled": true
   },
   "outputs": [
    {
     "data": {
      "text/html": [
       "<div>\n",
       "<style scoped>\n",
       "    .dataframe tbody tr th:only-of-type {\n",
       "        vertical-align: middle;\n",
       "    }\n",
       "\n",
       "    .dataframe tbody tr th {\n",
       "        vertical-align: top;\n",
       "    }\n",
       "\n",
       "    .dataframe thead th {\n",
       "        text-align: right;\n",
       "    }\n",
       "</style>\n",
       "<table border=\"1\" class=\"dataframe\">\n",
       "  <thead>\n",
       "    <tr style=\"text-align: right;\">\n",
       "      <th></th>\n",
       "      <th>model</th>\n",
       "      <th>price</th>\n",
       "      <th>reg_date</th>\n",
       "      <th>mileage</th>\n",
       "      <th>road_tax</th>\n",
       "      <th>coe</th>\n",
       "      <th>eng_cap</th>\n",
       "      <th>curb_weight</th>\n",
       "      <th>manufactured</th>\n",
       "      <th>transmission</th>\n",
       "      <th>omv</th>\n",
       "      <th>power</th>\n",
       "      <th>num_owners</th>\n",
       "      <th>type</th>\n",
       "      <th>category</th>\n",
       "    </tr>\n",
       "  </thead>\n",
       "  <tbody>\n",
       "    <tr>\n",
       "      <th>0</th>\n",
       "      <td>BMW 1 Series 116d</td>\n",
       "      <td>$77,800</td>\n",
       "      <td>26-Jul-2017(6yrs 7mths 9days COE left)        ...</td>\n",
       "      <td>76,600...</td>\n",
       "      <td>\\t$1,082 /yr</td>\n",
       "      <td>$44,002</td>\n",
       "      <td>1,496 cc</td>\n",
       "      <td>1,350 kg  ...</td>\n",
       "      <td>2017</td>\n",
       "      <td>Auto</td>\n",
       "      <td>$25,894</td>\n",
       "      <td>85.0 kW (113 bhp)</td>\n",
       "      <td>1</td>\n",
       "      <td>Hatchback</td>\n",
       "      <td>Category\\nPARF Car</td>\n",
       "    </tr>\n",
       "    <tr>\n",
       "      <th>5</th>\n",
       "      <td>Opel Astra 1.4A Turbo</td>\n",
       "      <td>$59,800</td>\n",
       "      <td>30-Dec-2016(6yrs 13days COE left)             ...</td>\n",
       "      <td>43,000...</td>\n",
       "      <td>\\t$626 /yr</td>\n",
       "      <td>$51,109</td>\n",
       "      <td>1,399 cc</td>\n",
       "      <td>1,233 kg  ...</td>\n",
       "      <td>2016</td>\n",
       "      <td>Auto</td>\n",
       "      <td>$19,839</td>\n",
       "      <td>110.0 kW (147 bhp)</td>\n",
       "      <td>2</td>\n",
       "      <td>Hatchback</td>\n",
       "      <td>Category\\nPARF Car</td>\n",
       "    </tr>\n",
       "    <tr>\n",
       "      <th>6</th>\n",
       "      <td>Toyota Harrier 2.0A Premium</td>\n",
       "      <td>$83,888</td>\n",
       "      <td>15-Apr-2016(5yrs 3mths 29days COE left)       ...</td>\n",
       "      <td>60,540...</td>\n",
       "      <td>\\t$1,196 /yr</td>\n",
       "      <td>$50,089</td>\n",
       "      <td>1,986 cc</td>\n",
       "      <td>1,610 kg  ...</td>\n",
       "      <td>2016</td>\n",
       "      <td>Auto</td>\n",
       "      <td>$30,993</td>\n",
       "      <td>111.0 kW (148 bhp)</td>\n",
       "      <td>1</td>\n",
       "      <td>SUV</td>\n",
       "      <td>Category\\nPARF Car, Premium Ad Car</td>\n",
       "    </tr>\n",
       "    <tr>\n",
       "      <th>8</th>\n",
       "      <td>BMW 2 Series 216d Active Tourer</td>\n",
       "      <td>$82,800</td>\n",
       "      <td>22-Aug-2017(6yrs 8mths 5days COE left)        ...</td>\n",
       "      <td>70,000...</td>\n",
       "      <td>\\t$1,082 /yr</td>\n",
       "      <td>$46,778</td>\n",
       "      <td>1,496 cc</td>\n",
       "      <td>1,395 kg  ...</td>\n",
       "      <td>2017</td>\n",
       "      <td>Auto</td>\n",
       "      <td>$28,674</td>\n",
       "      <td>85.0 kW (113 bhp)</td>\n",
       "      <td>1</td>\n",
       "      <td>Hatchback</td>\n",
       "      <td>Category\\nPARF Car</td>\n",
       "    </tr>\n",
       "    <tr>\n",
       "      <th>9</th>\n",
       "      <td>Mercedes-Benz E-Class E200</td>\n",
       "      <td>$91,800</td>\n",
       "      <td>25-May-2015(4yrs 5mths 8days COE left)        ...</td>\n",
       "      <td>60,000...</td>\n",
       "      <td>\\t$1,202 /yr</td>\n",
       "      <td>$76,612</td>\n",
       "      <td>1,991 cc</td>\n",
       "      <td>1,655 kg  ...</td>\n",
       "      <td>2014</td>\n",
       "      <td>Auto</td>\n",
       "      <td>$42,793</td>\n",
       "      <td>135.0 kW (181 bhp)</td>\n",
       "      <td>2</td>\n",
       "      <td>Luxury Sedan</td>\n",
       "      <td>Category\\nPARF Car</td>\n",
       "    </tr>\n",
       "  </tbody>\n",
       "</table>\n",
       "</div>"
      ],
      "text/plain": [
       "                             model     price  \\\n",
       "0                BMW 1 Series 116d  $77,800    \n",
       "5            Opel Astra 1.4A Turbo  $59,800    \n",
       "6      Toyota Harrier 2.0A Premium  $83,888    \n",
       "8  BMW 2 Series 216d Active Tourer  $82,800    \n",
       "9       Mercedes-Benz E-Class E200  $91,800    \n",
       "\n",
       "                                            reg_date  \\\n",
       "0  26-Jul-2017(6yrs 7mths 9days COE left)        ...   \n",
       "5  30-Dec-2016(6yrs 13days COE left)             ...   \n",
       "6  15-Apr-2016(5yrs 3mths 29days COE left)       ...   \n",
       "8  22-Aug-2017(6yrs 8mths 5days COE left)        ...   \n",
       "9  25-May-2015(4yrs 5mths 8days COE left)        ...   \n",
       "\n",
       "                                             mileage  \\\n",
       "0                                          76,600...   \n",
       "5                                          43,000...   \n",
       "6                                          60,540...   \n",
       "8                                          70,000...   \n",
       "9                                          60,000...   \n",
       "\n",
       "                                           road_tax      coe  \\\n",
       "0                                      \\t$1,082 /yr  $44,002   \n",
       "5                                        \\t$626 /yr  $51,109   \n",
       "6                                      \\t$1,196 /yr  $50,089   \n",
       "8                                      \\t$1,082 /yr  $46,778   \n",
       "9                                      \\t$1,202 /yr  $76,612   \n",
       "\n",
       "                                        eng_cap  \\\n",
       "0  1,496 cc                                       \n",
       "5  1,399 cc                                       \n",
       "6  1,986 cc                                       \n",
       "8  1,496 cc                                       \n",
       "9  1,991 cc                                       \n",
       "\n",
       "                                         curb_weight manufactured  \\\n",
       "0                                      1,350 kg  ...         2017   \n",
       "5                                      1,233 kg  ...         2016   \n",
       "6                                      1,610 kg  ...         2016   \n",
       "8                                      1,395 kg  ...         2017   \n",
       "9                                      1,655 kg  ...         2014   \n",
       "\n",
       "  transmission      omv               power num_owners          type  \\\n",
       "0         Auto  $25,894   85.0 kW (113 bhp)          1     Hatchback   \n",
       "5         Auto  $19,839  110.0 kW (147 bhp)          2     Hatchback   \n",
       "6         Auto  $30,993  111.0 kW (148 bhp)          1           SUV   \n",
       "8         Auto  $28,674   85.0 kW (113 bhp)          1     Hatchback   \n",
       "9         Auto  $42,793  135.0 kW (181 bhp)          2  Luxury Sedan   \n",
       "\n",
       "                              category  \n",
       "0                  Category\\nPARF Car   \n",
       "5                  Category\\nPARF Car   \n",
       "6  Category\\nPARF Car, Premium Ad Car   \n",
       "8                  Category\\nPARF Car   \n",
       "9                  Category\\nPARF Car   "
      ]
     },
     "execution_count": 25,
     "metadata": {},
     "output_type": "execute_result"
    }
   ],
   "source": [
    "#checking the dataframe\n",
    "cars.head(5)"
   ]
  },
  {
   "cell_type": "markdown",
   "metadata": {},
   "source": [
    "We also notice that there are many special characters in the columns. Let's proceed to remove them."
   ]
  },
  {
   "cell_type": "code",
   "execution_count": 26,
   "metadata": {
    "ExecuteTime": {
     "end_time": "2021-01-25T15:13:47.293110Z",
     "start_time": "2021-01-25T15:13:47.278150Z"
    },
    "scrolled": true
   },
   "outputs": [
    {
     "data": {
      "text/plain": [
       "array(['Hatchback', 'SUV', 'Luxury Sedan', 'Sports Car',\n",
       "       'Mid-Sized Sedan', 'MPV', 'Stationwagon'], dtype=object)"
      ]
     },
     "execution_count": 26,
     "metadata": {},
     "output_type": "execute_result"
    }
   ],
   "source": [
    "#checking car types\n",
    "cars['type'].unique()"
   ]
  },
  {
   "cell_type": "code",
   "execution_count": 27,
   "metadata": {
    "ExecuteTime": {
     "end_time": "2021-01-25T15:13:47.309126Z",
     "start_time": "2021-01-25T15:13:47.294124Z"
    }
   },
   "outputs": [
    {
     "data": {
      "text/plain": [
       "array(['Auto', 'Manual'], dtype=object)"
      ]
     },
     "execution_count": 27,
     "metadata": {},
     "output_type": "execute_result"
    }
   ],
   "source": [
    "#checking for wrongly inputted transmission column\n",
    "cars['transmission'].unique()"
   ]
  },
  {
   "cell_type": "code",
   "execution_count": 28,
   "metadata": {
    "ExecuteTime": {
     "end_time": "2021-01-25T15:13:47.325059Z",
     "start_time": "2021-01-25T15:13:47.310099Z"
    }
   },
   "outputs": [],
   "source": [
    "#removing wrongly scraped transmission data\n",
    "cars = cars[cars['transmission'].str.contains('Manual') | cars['transmission'].str.contains('Auto')]"
   ]
  },
  {
   "cell_type": "code",
   "execution_count": 29,
   "metadata": {
    "ExecuteTime": {
     "end_time": "2021-01-25T15:13:47.341017Z",
     "start_time": "2021-01-25T15:13:47.326022Z"
    }
   },
   "outputs": [
    {
     "name": "stderr",
     "output_type": "stream",
     "text": [
      "<ipython-input-29-8c0819e483a2>:2: FutureWarning: The default value of regex will change from True to False in a future version. In addition, single character regular expressions will*not* be treated as literal strings when regex=True.\n",
      "  cars['price'] = cars['price'].str.replace(\"$\",\"\")\n"
     ]
    }
   ],
   "source": [
    "#removing special characters in price\n",
    "cars['price'] = cars['price'].str.replace(\"$\",\"\")\n",
    "cars['price'] = cars['price'].str.replace(\",\",\"\")"
   ]
  },
  {
   "cell_type": "code",
   "execution_count": 30,
   "metadata": {
    "ExecuteTime": {
     "end_time": "2021-01-25T15:13:47.356940Z",
     "start_time": "2021-01-25T15:13:47.342014Z"
    }
   },
   "outputs": [],
   "source": [
    "#removing special characters in curb_weight\n",
    "cars['curb_weight'] = cars['curb_weight'].str.replace(\",\",\"\")\n",
    "cars['curb_weight'] = cars.curb_weight.str.extract('(\\d+)')"
   ]
  },
  {
   "cell_type": "code",
   "execution_count": 31,
   "metadata": {
    "ExecuteTime": {
     "end_time": "2021-01-25T15:13:47.372959Z",
     "start_time": "2021-01-25T15:13:47.357938Z"
    }
   },
   "outputs": [],
   "source": [
    "#removing special characters in eng_cap\n",
    "cars['eng_cap'] = cars['eng_cap'].str.replace(\",\",\"\")\n",
    "cars['eng_cap'] = cars.eng_cap.str.extract('(\\d+)')"
   ]
  },
  {
   "cell_type": "code",
   "execution_count": 32,
   "metadata": {
    "ExecuteTime": {
     "end_time": "2021-01-25T15:13:47.388889Z",
     "start_time": "2021-01-25T15:13:47.373929Z"
    }
   },
   "outputs": [
    {
     "name": "stderr",
     "output_type": "stream",
     "text": [
      "<ipython-input-32-bcc8b4c3a4c5>:2: FutureWarning: The default value of regex will change from True to False in a future version. In addition, single character regular expressions will*not* be treated as literal strings when regex=True.\n",
      "  cars['coe'] = cars['coe'].str.replace(\"$\",\"\")\n"
     ]
    }
   ],
   "source": [
    "#removing special characters in coe\n",
    "cars['coe'] = cars['coe'].str.replace(\"$\",\"\")\n",
    "cars['coe'] = cars['coe'].str.replace(\",\",\"\")"
   ]
  },
  {
   "cell_type": "markdown",
   "metadata": {},
   "source": [
    "Since the registration date has the coe balance in it, let's extract them and convert the years and months into COE in months feature."
   ]
  },
  {
   "cell_type": "code",
   "execution_count": 33,
   "metadata": {
    "ExecuteTime": {
     "end_time": "2021-01-25T15:13:47.420804Z",
     "start_time": "2021-01-25T15:13:47.389886Z"
    }
   },
   "outputs": [],
   "source": [
    "#extracting years and months values from reg_date\n",
    "cars['years'] = cars['reg_date'].str.findall('(\\d+)yr').str[0]\n",
    "cars['months'] = cars['reg_date'].str.findall('(\\d+)mth').str[0]"
   ]
  },
  {
   "cell_type": "code",
   "execution_count": 34,
   "metadata": {
    "ExecuteTime": {
     "end_time": "2021-01-25T15:13:47.436753Z",
     "start_time": "2021-01-25T15:13:47.421766Z"
    }
   },
   "outputs": [
    {
     "name": "stdout",
     "output_type": "stream",
     "text": [
      "['6' '5' '4' '8' '9' '3' '7' '1' '2' nan '10']\n",
      "['7' nan '3' '8' '5' '11' '4' '10' '6' '2' '9' '1']\n"
     ]
    }
   ],
   "source": [
    "#checking for values extracted for years and months\n",
    "print(cars['years'].unique())\n",
    "print(cars['months'].unique())"
   ]
  },
  {
   "cell_type": "code",
   "execution_count": 35,
   "metadata": {
    "ExecuteTime": {
     "end_time": "2021-01-25T15:13:47.483600Z",
     "start_time": "2021-01-25T15:13:47.438720Z"
    }
   },
   "outputs": [
    {
     "data": {
      "text/html": [
       "<div>\n",
       "<style scoped>\n",
       "    .dataframe tbody tr th:only-of-type {\n",
       "        vertical-align: middle;\n",
       "    }\n",
       "\n",
       "    .dataframe tbody tr th {\n",
       "        vertical-align: top;\n",
       "    }\n",
       "\n",
       "    .dataframe thead th {\n",
       "        text-align: right;\n",
       "    }\n",
       "</style>\n",
       "<table border=\"1\" class=\"dataframe\">\n",
       "  <thead>\n",
       "    <tr style=\"text-align: right;\">\n",
       "      <th></th>\n",
       "      <th>model</th>\n",
       "      <th>price</th>\n",
       "      <th>reg_date</th>\n",
       "      <th>mileage</th>\n",
       "      <th>road_tax</th>\n",
       "      <th>coe</th>\n",
       "      <th>eng_cap</th>\n",
       "      <th>curb_weight</th>\n",
       "      <th>manufactured</th>\n",
       "      <th>transmission</th>\n",
       "      <th>omv</th>\n",
       "      <th>power</th>\n",
       "      <th>num_owners</th>\n",
       "      <th>type</th>\n",
       "      <th>category</th>\n",
       "      <th>years</th>\n",
       "      <th>months</th>\n",
       "    </tr>\n",
       "  </thead>\n",
       "  <tbody>\n",
       "    <tr>\n",
       "      <th>101</th>\n",
       "      <td>BMW 7 Series 730Li Sunroof</td>\n",
       "      <td>54879</td>\n",
       "      <td>28-Oct-2011(10mths 11days COE left)           ...</td>\n",
       "      <td>139,00...</td>\n",
       "      <td>\\t$2,382 /yr</td>\n",
       "      <td>75889</td>\n",
       "      <td>2996</td>\n",
       "      <td>1855</td>\n",
       "      <td>2011</td>\n",
       "      <td>Auto</td>\n",
       "      <td>$72,702</td>\n",
       "      <td>190.0 kW (254 bhp)</td>\n",
       "      <td>1</td>\n",
       "      <td>Luxury Sedan</td>\n",
       "      <td>Category\\nPARF Car</td>\n",
       "      <td>NaN</td>\n",
       "      <td>10</td>\n",
       "    </tr>\n",
       "    <tr>\n",
       "      <th>130</th>\n",
       "      <td>Mercedes-Benz E-Class E250 CGI</td>\n",
       "      <td>38200</td>\n",
       "      <td>06-Jul-2011(6mths 19days COE left)            ...</td>\n",
       "      <td>128,00...</td>\n",
       "      <td>\\t$974 /yr</td>\n",
       "      <td>56001</td>\n",
       "      <td>1796</td>\n",
       "      <td>1650</td>\n",
       "      <td>2011</td>\n",
       "      <td>Auto</td>\n",
       "      <td>$52,909</td>\n",
       "      <td>150.0 kW (201 bhp)</td>\n",
       "      <td>4</td>\n",
       "      <td>Luxury Sedan</td>\n",
       "      <td>Category\\nPARF Car, Direct Owner Sale</td>\n",
       "      <td>NaN</td>\n",
       "      <td>6</td>\n",
       "    </tr>\n",
       "    <tr>\n",
       "      <th>143</th>\n",
       "      <td>Mercedes-Benz S-Class S350L CGI</td>\n",
       "      <td>109000</td>\n",
       "      <td>10-Oct-2011(9mths 23days COE left)            ...</td>\n",
       "      <td>111,00...</td>\n",
       "      <td>\\t$3,164 /yr</td>\n",
       "      <td>68811</td>\n",
       "      <td>3498</td>\n",
       "      <td>1975</td>\n",
       "      <td>2011</td>\n",
       "      <td>Auto</td>\n",
       "      <td>$98,214</td>\n",
       "      <td>225.0 kW (301 bhp)</td>\n",
       "      <td>2</td>\n",
       "      <td>Luxury Sedan</td>\n",
       "      <td>Category\\nPARF Car</td>\n",
       "      <td>NaN</td>\n",
       "      <td>9</td>\n",
       "    </tr>\n",
       "    <tr>\n",
       "      <th>292</th>\n",
       "      <td>BMW 3 Series 320i M-Sport Sunroof</td>\n",
       "      <td>26800</td>\n",
       "      <td>14-Mar-2011(2mths 25days COE left)            ...</td>\n",
       "      <td>136,45...</td>\n",
       "      <td>\\t$1,208 /yr</td>\n",
       "      <td>62010</td>\n",
       "      <td>1995</td>\n",
       "      <td>1390</td>\n",
       "      <td>2010</td>\n",
       "      <td>Auto</td>\n",
       "      <td>$40,475</td>\n",
       "      <td>115.0 kW (154 bhp)</td>\n",
       "      <td>3</td>\n",
       "      <td>Luxury Sedan</td>\n",
       "      <td>Category\\nPARF Car, Premium Ad Car</td>\n",
       "      <td>NaN</td>\n",
       "      <td>2</td>\n",
       "    </tr>\n",
       "    <tr>\n",
       "      <th>301</th>\n",
       "      <td>BMW 5 Series 523i Highline</td>\n",
       "      <td>38800</td>\n",
       "      <td>30-May-2011(5mths 13days COE left)            ...</td>\n",
       "      <td>137,51...</td>\n",
       "      <td>\\t$1,796 /yr</td>\n",
       "      <td>57100</td>\n",
       "      <td>2497</td>\n",
       "      <td>1650</td>\n",
       "      <td>2011</td>\n",
       "      <td>Auto</td>\n",
       "      <td>$49,316</td>\n",
       "      <td>150.0 kW (201 bhp)</td>\n",
       "      <td>4</td>\n",
       "      <td>Luxury Sedan</td>\n",
       "      <td>Category\\nPARF Car</td>\n",
       "      <td>NaN</td>\n",
       "      <td>5</td>\n",
       "    </tr>\n",
       "    <tr>\n",
       "      <th>305</th>\n",
       "      <td>Hyundai Avante 1.6A</td>\n",
       "      <td>10800</td>\n",
       "      <td>29-Apr-2011(4mths 12days COE left)            ...</td>\n",
       "      <td>138,33...</td>\n",
       "      <td>\\t$738 /yr</td>\n",
       "      <td>43212</td>\n",
       "      <td>1591</td>\n",
       "      <td>1264</td>\n",
       "      <td>2010</td>\n",
       "      <td>Auto</td>\n",
       "      <td>$10,385</td>\n",
       "      <td>89.7 kW (120 bhp)</td>\n",
       "      <td>3</td>\n",
       "      <td>Mid-Sized Sedan</td>\n",
       "      <td>Category\\nPARF Car, Premium Ad Car</td>\n",
       "      <td>NaN</td>\n",
       "      <td>4</td>\n",
       "    </tr>\n",
       "    <tr>\n",
       "      <th>327</th>\n",
       "      <td>Toyota Estima 2.4A Welcab (COE till 06/2021)</td>\n",
       "      <td>5500</td>\n",
       "      <td>29-Jul-2006(6mths 14days COE left)            ...</td>\n",
       "      <td>189,00...</td>\n",
       "      <td>\\t$2,457 /yr</td>\n",
       "      <td>24240</td>\n",
       "      <td>2362</td>\n",
       "      <td>1850</td>\n",
       "      <td>2006</td>\n",
       "      <td>Auto</td>\n",
       "      <td>$29,235</td>\n",
       "      <td>125.0 kW (167 bhp)</td>\n",
       "      <td>More than 6</td>\n",
       "      <td>MPV</td>\n",
       "      <td>Category\\nCOE Car</td>\n",
       "      <td>NaN</td>\n",
       "      <td>6</td>\n",
       "    </tr>\n",
       "    <tr>\n",
       "      <th>492</th>\n",
       "      <td>Toyota Camry 2.0A</td>\n",
       "      <td>23800</td>\n",
       "      <td>15-Sep-2011(8mths 29days COE left)            ...</td>\n",
       "      <td>126,70...</td>\n",
       "      <td>\\t$1,210 /yr</td>\n",
       "      <td>72501</td>\n",
       "      <td>1998</td>\n",
       "      <td>1530</td>\n",
       "      <td>2011</td>\n",
       "      <td>Auto</td>\n",
       "      <td>$22,432</td>\n",
       "      <td>108.0 kW (144 bhp)</td>\n",
       "      <td>2</td>\n",
       "      <td>Luxury Sedan</td>\n",
       "      <td>Category\\nPARF Car</td>\n",
       "      <td>NaN</td>\n",
       "      <td>8</td>\n",
       "    </tr>\n",
       "    <tr>\n",
       "      <th>546</th>\n",
       "      <td>Toyota Camry 2.0A</td>\n",
       "      <td>21800</td>\n",
       "      <td>29-Apr-2011(4mths 12days COE left)            ...</td>\n",
       "      <td>133,00...</td>\n",
       "      <td>\\t$1,210 /yr</td>\n",
       "      <td>62010</td>\n",
       "      <td>1998</td>\n",
       "      <td>1530</td>\n",
       "      <td>2011</td>\n",
       "      <td>Auto</td>\n",
       "      <td>$23,514</td>\n",
       "      <td>108.0 kW (144 bhp)</td>\n",
       "      <td>3</td>\n",
       "      <td>Luxury Sedan</td>\n",
       "      <td>Category\\nPARF Car, Direct Owner Sale</td>\n",
       "      <td>NaN</td>\n",
       "      <td>4</td>\n",
       "    </tr>\n",
       "    <tr>\n",
       "      <th>596</th>\n",
       "      <td>BMW 5 Series 535i M-Sport Sunroof</td>\n",
       "      <td>58800</td>\n",
       "      <td>15-Dec-2011(11mths 28days COE left)           ...</td>\n",
       "      <td>119,00...</td>\n",
       "      <td>\\t$2,362 /yr</td>\n",
       "      <td>78001</td>\n",
       "      <td>2979</td>\n",
       "      <td>1700</td>\n",
       "      <td>2011</td>\n",
       "      <td>Auto</td>\n",
       "      <td>$65,662</td>\n",
       "      <td>225.0 kW (301 bhp)</td>\n",
       "      <td>3</td>\n",
       "      <td>Luxury Sedan</td>\n",
       "      <td>Category\\nPARF Car, Direct Owner Sale</td>\n",
       "      <td>NaN</td>\n",
       "      <td>11</td>\n",
       "    </tr>\n",
       "    <tr>\n",
       "      <th>600</th>\n",
       "      <td>Honda Fit 1.3A GF</td>\n",
       "      <td>16800</td>\n",
       "      <td>08-Sep-2011(8mths 22days COE left)            ...</td>\n",
       "      <td>128,55...</td>\n",
       "      <td>\\t$590 /yr</td>\n",
       "      <td>43898</td>\n",
       "      <td>1339</td>\n",
       "      <td>1010</td>\n",
       "      <td>2009</td>\n",
       "      <td>Auto</td>\n",
       "      <td>$14,211</td>\n",
       "      <td>73.0 kW (97 bhp)</td>\n",
       "      <td>2</td>\n",
       "      <td>Hatchback</td>\n",
       "      <td>Category\\nPARF Car</td>\n",
       "      <td>NaN</td>\n",
       "      <td>8</td>\n",
       "    </tr>\n",
       "    <tr>\n",
       "      <th>611</th>\n",
       "      <td>Volkswagen Jetta Sport 1.4A TSI</td>\n",
       "      <td>22999</td>\n",
       "      <td>27-Oct-2011(10mths 10days COE left)           ...</td>\n",
       "      <td>162,00...</td>\n",
       "      <td>\\t$620 /yr</td>\n",
       "      <td>56112</td>\n",
       "      <td>1390</td>\n",
       "      <td>1417</td>\n",
       "      <td>2011</td>\n",
       "      <td>Auto</td>\n",
       "      <td>$24,364</td>\n",
       "      <td>118.0 kW (158 bhp)</td>\n",
       "      <td>1</td>\n",
       "      <td>Mid-Sized Sedan</td>\n",
       "      <td>Category\\nPARF Car</td>\n",
       "      <td>NaN</td>\n",
       "      <td>10</td>\n",
       "    </tr>\n",
       "    <tr>\n",
       "      <th>742</th>\n",
       "      <td>MINI Cooper S Countryman 1.6A</td>\n",
       "      <td>29800</td>\n",
       "      <td>29-Jul-2011(7mths 12days COE left)            ...</td>\n",
       "      <td>120,00...</td>\n",
       "      <td>\\t$742 /yr</td>\n",
       "      <td>56002</td>\n",
       "      <td>1598</td>\n",
       "      <td>1335</td>\n",
       "      <td>2011</td>\n",
       "      <td>Auto</td>\n",
       "      <td>$31,543</td>\n",
       "      <td>135.0 kW (181 bhp)</td>\n",
       "      <td>3</td>\n",
       "      <td>Sports Car</td>\n",
       "      <td>Category\\nPARF Car</td>\n",
       "      <td>NaN</td>\n",
       "      <td>7</td>\n",
       "    </tr>\n",
       "    <tr>\n",
       "      <th>848</th>\n",
       "      <td>Mercedes-Benz E-Class E250 CGI</td>\n",
       "      <td>46800</td>\n",
       "      <td>23-Aug-2011(8mths 6days COE left)             ...</td>\n",
       "      <td>117,00...</td>\n",
       "      <td>\\t$974 /yr</td>\n",
       "      <td>65490</td>\n",
       "      <td>1796</td>\n",
       "      <td>1650</td>\n",
       "      <td>2011</td>\n",
       "      <td>Auto</td>\n",
       "      <td>$52,881</td>\n",
       "      <td>150.0 kW (201 bhp)</td>\n",
       "      <td>2</td>\n",
       "      <td>Luxury Sedan</td>\n",
       "      <td>Category\\nPARF Car</td>\n",
       "      <td>NaN</td>\n",
       "      <td>8</td>\n",
       "    </tr>\n",
       "    <tr>\n",
       "      <th>870</th>\n",
       "      <td>Toyota Wish 1.8A X (COE till 12/2021)</td>\n",
       "      <td>8888</td>\n",
       "      <td>11-Dec-2006(11mths 24days COE left)           ...</td>\n",
       "      <td>108,02...</td>\n",
       "      <td>\\t$1,361 /yr</td>\n",
       "      <td>27594</td>\n",
       "      <td>1794</td>\n",
       "      <td>1300</td>\n",
       "      <td>2006</td>\n",
       "      <td>Auto</td>\n",
       "      <td>$18,893</td>\n",
       "      <td>97.0 kW (130 bhp)</td>\n",
       "      <td>2</td>\n",
       "      <td>MPV</td>\n",
       "      <td>Category\\nCOE Car, Premium Ad Car, Low Mileage...</td>\n",
       "      <td>NaN</td>\n",
       "      <td>11</td>\n",
       "    </tr>\n",
       "    <tr>\n",
       "      <th>1004</th>\n",
       "      <td>Mercedes-Benz C-Class C200 CGI</td>\n",
       "      <td>34888</td>\n",
       "      <td>17-Feb-2011(2mths  COE left)                  ...</td>\n",
       "      <td>166,37...</td>\n",
       "      <td>\\t$974 /yr</td>\n",
       "      <td>53400</td>\n",
       "      <td>1796</td>\n",
       "      <td>1505</td>\n",
       "      <td>2010</td>\n",
       "      <td>Auto</td>\n",
       "      <td>$50,205</td>\n",
       "      <td>135.0 kW (181 bhp)</td>\n",
       "      <td>4</td>\n",
       "      <td>Luxury Sedan</td>\n",
       "      <td>Category\\nPARF Car, Direct Owner Sale</td>\n",
       "      <td>NaN</td>\n",
       "      <td>2</td>\n",
       "    </tr>\n",
       "    <tr>\n",
       "      <th>1075</th>\n",
       "      <td>Honda Odyssey 2.4A Sunroof</td>\n",
       "      <td>26800</td>\n",
       "      <td>24-Oct-2011(10mths 7days COE left)            ...</td>\n",
       "      <td>120,30...</td>\n",
       "      <td>\\t$1,628 /yr</td>\n",
       "      <td>63600</td>\n",
       "      <td>2354</td>\n",
       "      <td>1680</td>\n",
       "      <td>2010</td>\n",
       "      <td>Auto</td>\n",
       "      <td>$34,272</td>\n",
       "      <td>132.0 kW (177 bhp)</td>\n",
       "      <td>3</td>\n",
       "      <td>MPV</td>\n",
       "      <td>Category\\nPARF Car</td>\n",
       "      <td>NaN</td>\n",
       "      <td>10</td>\n",
       "    </tr>\n",
       "    <tr>\n",
       "      <th>1147</th>\n",
       "      <td>Toyota Wish 1.8A (COE till 06/2021)</td>\n",
       "      <td>5500</td>\n",
       "      <td>13-Jul-2006(6mths 14days COE left)            ...</td>\n",
       "      <td>226,00...</td>\n",
       "      <td>\\t$1,458 /yr</td>\n",
       "      <td>24240</td>\n",
       "      <td>1794</td>\n",
       "      <td>1300</td>\n",
       "      <td>2006</td>\n",
       "      <td>Auto</td>\n",
       "      <td>$21,625</td>\n",
       "      <td>97.0 kW (130 bhp)</td>\n",
       "      <td>3</td>\n",
       "      <td>MPV</td>\n",
       "      <td>Category\\nCOE Car</td>\n",
       "      <td>NaN</td>\n",
       "      <td>6</td>\n",
       "    </tr>\n",
       "    <tr>\n",
       "      <th>1249</th>\n",
       "      <td>Lexus CT Hybrid CT200h Premium</td>\n",
       "      <td>39800</td>\n",
       "      <td>07-Oct-2011(9mths 20days COE left)            ...</td>\n",
       "      <td>99,760...</td>\n",
       "      <td>\\t$976 /yr</td>\n",
       "      <td>62502</td>\n",
       "      <td>1798</td>\n",
       "      <td>1410</td>\n",
       "      <td>2011</td>\n",
       "      <td>Auto</td>\n",
       "      <td>$41,506</td>\n",
       "      <td>73.0 kW (97 bhp)</td>\n",
       "      <td>3</td>\n",
       "      <td>Hatchback</td>\n",
       "      <td>Category\\nPARF Car, Direct Owner Sale, Hybrid ...</td>\n",
       "      <td>NaN</td>\n",
       "      <td>9</td>\n",
       "    </tr>\n",
       "    <tr>\n",
       "      <th>1295</th>\n",
       "      <td>MINI Cooper 1.6A</td>\n",
       "      <td>21800</td>\n",
       "      <td>26-Aug-2011(8mths 9days COE left)             ...</td>\n",
       "      <td>80,200...</td>\n",
       "      <td>\\t$742 /yr</td>\n",
       "      <td>49301</td>\n",
       "      <td>1598</td>\n",
       "      <td>1105</td>\n",
       "      <td>2011</td>\n",
       "      <td>Auto</td>\n",
       "      <td>$22,901</td>\n",
       "      <td>90.0 kW (120 bhp)</td>\n",
       "      <td>1</td>\n",
       "      <td>Hatchback</td>\n",
       "      <td>Category\\nPARF Car, Premium Ad Car, Low Mileag...</td>\n",
       "      <td>NaN</td>\n",
       "      <td>8</td>\n",
       "    </tr>\n",
       "    <tr>\n",
       "      <th>1339</th>\n",
       "      <td>Mercedes-Benz C-Class C200</td>\n",
       "      <td>34555</td>\n",
       "      <td>02-Aug-2011(7mths 16days COE left)            ...</td>\n",
       "      <td>90,000...</td>\n",
       "      <td>\\t$974 /yr</td>\n",
       "      <td>68501</td>\n",
       "      <td>1796</td>\n",
       "      <td>1505</td>\n",
       "      <td>2011</td>\n",
       "      <td>Auto</td>\n",
       "      <td>$43,126</td>\n",
       "      <td>135.0 kW (181 bhp)</td>\n",
       "      <td>3</td>\n",
       "      <td>Luxury Sedan</td>\n",
       "      <td>Category\\nPARF Car, Low Mileage Car</td>\n",
       "      <td>NaN</td>\n",
       "      <td>7</td>\n",
       "    </tr>\n",
       "    <tr>\n",
       "      <th>1363</th>\n",
       "      <td>Mercedes-Benz C-Class C180 Avantgarde</td>\n",
       "      <td>37800</td>\n",
       "      <td>14-Sep-2011(8mths 28days COE left)            ...</td>\n",
       "      <td>280,00...</td>\n",
       "      <td>\\t$974 /yr</td>\n",
       "      <td>63002</td>\n",
       "      <td>1796</td>\n",
       "      <td>1495</td>\n",
       "      <td>2011</td>\n",
       "      <td>Auto</td>\n",
       "      <td>$36,691</td>\n",
       "      <td>115.0 kW (154 bhp)</td>\n",
       "      <td>2</td>\n",
       "      <td>Luxury Sedan</td>\n",
       "      <td>Category\\nPARF Car, Direct Owner Sale</td>\n",
       "      <td>NaN</td>\n",
       "      <td>8</td>\n",
       "    </tr>\n",
       "    <tr>\n",
       "      <th>1433</th>\n",
       "      <td>Honda Fit 1.3A G</td>\n",
       "      <td>14800</td>\n",
       "      <td>09-May-2011(4mths 22days COE left)            ...</td>\n",
       "      <td>145,30...</td>\n",
       "      <td>\\t$590 /yr</td>\n",
       "      <td>44790</td>\n",
       "      <td>1339</td>\n",
       "      <td>1010</td>\n",
       "      <td>2009</td>\n",
       "      <td>Auto</td>\n",
       "      <td>$14,707</td>\n",
       "      <td>73.0 kW (97 bhp)</td>\n",
       "      <td>5</td>\n",
       "      <td>Hatchback</td>\n",
       "      <td>Category\\nPARF Car, Premium Ad Car</td>\n",
       "      <td>NaN</td>\n",
       "      <td>4</td>\n",
       "    </tr>\n",
       "    <tr>\n",
       "      <th>1525</th>\n",
       "      <td>Mitsubishi Lancer EX 1.5A</td>\n",
       "      <td>19300</td>\n",
       "      <td>16-Dec-2011(11mths 29days COE left)           ...</td>\n",
       "      <td>103,86...</td>\n",
       "      <td>\\t$684 /yr</td>\n",
       "      <td>47160</td>\n",
       "      <td>1499</td>\n",
       "      <td>1313</td>\n",
       "      <td>2011</td>\n",
       "      <td>Auto</td>\n",
       "      <td>$16,733</td>\n",
       "      <td>80.0 kW (107 bhp)</td>\n",
       "      <td>3</td>\n",
       "      <td>Mid-Sized Sedan</td>\n",
       "      <td>Category\\nPARF Car, Direct Owner Sale</td>\n",
       "      <td>NaN</td>\n",
       "      <td>11</td>\n",
       "    </tr>\n",
       "    <tr>\n",
       "      <th>1658</th>\n",
       "      <td>Volvo C30 2.0A</td>\n",
       "      <td>25000</td>\n",
       "      <td>29-Dec-2010(12days COE left)                  ...</td>\n",
       "      <td>114,00...</td>\n",
       "      <td>\\t$1,212 /yr</td>\n",
       "      <td>49890</td>\n",
       "      <td>1999</td>\n",
       "      <td>1373</td>\n",
       "      <td>2010</td>\n",
       "      <td>Auto</td>\n",
       "      <td>$30,750</td>\n",
       "      <td>107.0 kW (143 bhp)</td>\n",
       "      <td>3</td>\n",
       "      <td>Sports Car</td>\n",
       "      <td>Category\\nPARF Car, Direct Owner Sale</td>\n",
       "      <td>NaN</td>\n",
       "      <td>NaN</td>\n",
       "    </tr>\n",
       "    <tr>\n",
       "      <th>1659</th>\n",
       "      <td>Audi R8 4.2A FSI Quattro R-tronic</td>\n",
       "      <td>179888</td>\n",
       "      <td>14-Jul-2011(6mths 27days COE left)            ...</td>\n",
       "      <td>59,895...</td>\n",
       "      <td>\\t$4,206 /yr</td>\n",
       "      <td>68811</td>\n",
       "      <td>4163</td>\n",
       "      <td>1565</td>\n",
       "      <td>2011</td>\n",
       "      <td>Auto</td>\n",
       "      <td>$147,728</td>\n",
       "      <td>316.0 kW (423 bhp)</td>\n",
       "      <td>5</td>\n",
       "      <td>Sports Car</td>\n",
       "      <td>Category\\nPARF Car, Direct Owner Sale, Low Mil...</td>\n",
       "      <td>NaN</td>\n",
       "      <td>6</td>\n",
       "    </tr>\n",
       "    <tr>\n",
       "      <th>1664</th>\n",
       "      <td>Saab 9-5 2.0T Vector</td>\n",
       "      <td>31800</td>\n",
       "      <td>07-Jan-2011(21days COE left)                  ...</td>\n",
       "      <td>81,000...</td>\n",
       "      <td>\\t$1,210 /yr</td>\n",
       "      <td>42501</td>\n",
       "      <td>1998</td>\n",
       "      <td>1750</td>\n",
       "      <td>2010</td>\n",
       "      <td>Auto</td>\n",
       "      <td>$43,027</td>\n",
       "      <td>162.0 kW (217 bhp)</td>\n",
       "      <td>1</td>\n",
       "      <td>Luxury Sedan</td>\n",
       "      <td>Category\\nPARF Car, Direct Owner Sale, Low Mil...</td>\n",
       "      <td>NaN</td>\n",
       "      <td>NaN</td>\n",
       "    </tr>\n",
       "    <tr>\n",
       "      <th>1815</th>\n",
       "      <td>Jaguar XJ 5.0A Premium Luxury LWB Sunroof</td>\n",
       "      <td>65888</td>\n",
       "      <td>21-Jul-2011(7mths 4days COE left)             ...</td>\n",
       "      <td>98,669...</td>\n",
       "      <td>\\t$5,514 /yr</td>\n",
       "      <td>68501</td>\n",
       "      <td>5000</td>\n",
       "      <td>1969</td>\n",
       "      <td>2011</td>\n",
       "      <td>Auto</td>\n",
       "      <td>$86,523</td>\n",
       "      <td>283.0 kW (379 bhp)</td>\n",
       "      <td>2</td>\n",
       "      <td>Luxury Sedan</td>\n",
       "      <td>Category\\nPARF Car</td>\n",
       "      <td>NaN</td>\n",
       "      <td>7</td>\n",
       "    </tr>\n",
       "    <tr>\n",
       "      <th>1937</th>\n",
       "      <td>Audi A4 1.8A TFSI MU</td>\n",
       "      <td>30800</td>\n",
       "      <td>16-Mar-2011(2mths 27days COE left)            ...</td>\n",
       "      <td>76,500...</td>\n",
       "      <td>\\t$976 /yr</td>\n",
       "      <td>61894</td>\n",
       "      <td>1798</td>\n",
       "      <td>1450</td>\n",
       "      <td>2010</td>\n",
       "      <td>Auto</td>\n",
       "      <td>$36,081</td>\n",
       "      <td>118.0 kW (158 bhp)</td>\n",
       "      <td>1</td>\n",
       "      <td>Luxury Sedan</td>\n",
       "      <td>Category\\nPARF Car, Direct Owner Sale, Low Mil...</td>\n",
       "      <td>NaN</td>\n",
       "      <td>2</td>\n",
       "    </tr>\n",
       "    <tr>\n",
       "      <th>2172</th>\n",
       "      <td>Mercedes-Benz C-Class C180K</td>\n",
       "      <td>36800</td>\n",
       "      <td>02-Jun-2011(5mths 16days COE left)            ...</td>\n",
       "      <td>88,053...</td>\n",
       "      <td>\\t$742 /yr</td>\n",
       "      <td>46989</td>\n",
       "      <td>1597</td>\n",
       "      <td>1500</td>\n",
       "      <td>2011</td>\n",
       "      <td>Auto</td>\n",
       "      <td>$31,086</td>\n",
       "      <td>115.0 kW (154 bhp)</td>\n",
       "      <td>2</td>\n",
       "      <td>Luxury Sedan</td>\n",
       "      <td>Category\\nPARF Car, Low Mileage Car</td>\n",
       "      <td>NaN</td>\n",
       "      <td>5</td>\n",
       "    </tr>\n",
       "    <tr>\n",
       "      <th>2231</th>\n",
       "      <td>Kia Optima K5 2.0A Sunroof</td>\n",
       "      <td>18888</td>\n",
       "      <td>29-Jun-2011(6mths 12days COE left)            ...</td>\n",
       "      <td>234,38...</td>\n",
       "      <td>\\t$1,210 /yr</td>\n",
       "      <td>61894</td>\n",
       "      <td>1998</td>\n",
       "      <td>1529</td>\n",
       "      <td>2011</td>\n",
       "      <td>Auto</td>\n",
       "      <td>$19,689</td>\n",
       "      <td>121.0 kW (162 bhp)</td>\n",
       "      <td>2</td>\n",
       "      <td>Luxury Sedan</td>\n",
       "      <td>Category\\nPARF Car, Direct Owner Sale</td>\n",
       "      <td>NaN</td>\n",
       "      <td>6</td>\n",
       "    </tr>\n",
       "    <tr>\n",
       "      <th>2254</th>\n",
       "      <td>MINI One 1.6A</td>\n",
       "      <td>14800</td>\n",
       "      <td>28-Dec-2010(11days COE left)                  ...</td>\n",
       "      <td>125,00...</td>\n",
       "      <td>\\t$742 /yr</td>\n",
       "      <td>44831</td>\n",
       "      <td>1598</td>\n",
       "      <td>1100</td>\n",
       "      <td>2010</td>\n",
       "      <td>Auto</td>\n",
       "      <td>$18,481</td>\n",
       "      <td>72.0 kW (96 bhp)</td>\n",
       "      <td>3</td>\n",
       "      <td>Hatchback</td>\n",
       "      <td>Category\\nPARF Car</td>\n",
       "      <td>NaN</td>\n",
       "      <td>NaN</td>\n",
       "    </tr>\n",
       "    <tr>\n",
       "      <th>2454</th>\n",
       "      <td>Peugeot 308 1.6A Turbo Glass Roof</td>\n",
       "      <td>18800</td>\n",
       "      <td>19-Sep-2011(9mths 2days COE left)             ...</td>\n",
       "      <td>127,00...</td>\n",
       "      <td>\\t$742 /yr</td>\n",
       "      <td>51000</td>\n",
       "      <td>1598</td>\n",
       "      <td>1382</td>\n",
       "      <td>2010</td>\n",
       "      <td>Auto</td>\n",
       "      <td>$20,266</td>\n",
       "      <td>115.0 kW (154 bhp)</td>\n",
       "      <td>2</td>\n",
       "      <td>Hatchback</td>\n",
       "      <td>Category\\nPARF Car</td>\n",
       "      <td>NaN</td>\n",
       "      <td>9</td>\n",
       "    </tr>\n",
       "    <tr>\n",
       "      <th>2668</th>\n",
       "      <td>Toyota Corolla Altis 1.6A</td>\n",
       "      <td>19800</td>\n",
       "      <td>24-Aug-2011(8mths 7days COE left)             ...</td>\n",
       "      <td>103,53...</td>\n",
       "      <td>\\t$742 /yr</td>\n",
       "      <td>46989</td>\n",
       "      <td>1598</td>\n",
       "      <td>1195</td>\n",
       "      <td>2011</td>\n",
       "      <td>Auto</td>\n",
       "      <td>$14,797</td>\n",
       "      <td>90.0 kW (120 bhp)</td>\n",
       "      <td>2</td>\n",
       "      <td>Mid-Sized Sedan</td>\n",
       "      <td>Category\\nPARF Car, Premium Ad Car</td>\n",
       "      <td>NaN</td>\n",
       "      <td>8</td>\n",
       "    </tr>\n",
       "    <tr>\n",
       "      <th>2770</th>\n",
       "      <td>BMW 5 Series 523i Highline</td>\n",
       "      <td>42800</td>\n",
       "      <td>27-Jun-2011(6mths 10days COE left)            ...</td>\n",
       "      <td>160,00...</td>\n",
       "      <td>\\t$1,796 /yr</td>\n",
       "      <td>67700</td>\n",
       "      <td>2497</td>\n",
       "      <td>1650</td>\n",
       "      <td>2011</td>\n",
       "      <td>Auto</td>\n",
       "      <td>$45,150</td>\n",
       "      <td>150.0 kW (201 bhp)</td>\n",
       "      <td>3</td>\n",
       "      <td>Luxury Sedan</td>\n",
       "      <td>Category\\nPARF Car, Premium Ad Car</td>\n",
       "      <td>NaN</td>\n",
       "      <td>6</td>\n",
       "    </tr>\n",
       "    <tr>\n",
       "      <th>2860</th>\n",
       "      <td>Lexus IS250</td>\n",
       "      <td>35000</td>\n",
       "      <td>23-Apr-2011(4mths 6days COE left)             ...</td>\n",
       "      <td>72,000...</td>\n",
       "      <td>\\t$1,800 /yr</td>\n",
       "      <td>67009</td>\n",
       "      <td>2500</td>\n",
       "      <td>1625</td>\n",
       "      <td>2010</td>\n",
       "      <td>Auto</td>\n",
       "      <td>$38,280</td>\n",
       "      <td>153.0 kW (205 bhp)</td>\n",
       "      <td>2</td>\n",
       "      <td>Luxury Sedan</td>\n",
       "      <td>Category\\nPARF Car, Direct Owner Sale, Low Mil...</td>\n",
       "      <td>NaN</td>\n",
       "      <td>4</td>\n",
       "    </tr>\n",
       "    <tr>\n",
       "      <th>2911</th>\n",
       "      <td>Honda CR-Z Hybrid 1.5A</td>\n",
       "      <td>21800</td>\n",
       "      <td>25-Mar-2011(3mths 8days COE left)             ...</td>\n",
       "      <td>135,00...</td>\n",
       "      <td>\\t$682 /yr</td>\n",
       "      <td>43813</td>\n",
       "      <td>1496</td>\n",
       "      <td>1160</td>\n",
       "      <td>2010</td>\n",
       "      <td>Auto</td>\n",
       "      <td>$31,227</td>\n",
       "      <td>83.0 kW (111 bhp)</td>\n",
       "      <td>3</td>\n",
       "      <td>Sports Car</td>\n",
       "      <td>Category\\nPARF Car, Hybrid Cars</td>\n",
       "      <td>NaN</td>\n",
       "      <td>3</td>\n",
       "    </tr>\n",
       "    <tr>\n",
       "      <th>3208</th>\n",
       "      <td>Audi A5 Coupe 3.2A FSI Quattro S-Line</td>\n",
       "      <td>37800</td>\n",
       "      <td>30-Mar-2011(3mths 13days COE left)            ...</td>\n",
       "      <td>125,00...</td>\n",
       "      <td>\\t$2,694 /yr</td>\n",
       "      <td>57002</td>\n",
       "      <td>3197</td>\n",
       "      <td>1570</td>\n",
       "      <td>2010</td>\n",
       "      <td>Auto</td>\n",
       "      <td>$53,483</td>\n",
       "      <td>195.0 kW (261 bhp)</td>\n",
       "      <td>5</td>\n",
       "      <td>Sports Car</td>\n",
       "      <td>Category\\nPARF Car, Direct Owner Sale</td>\n",
       "      <td>NaN</td>\n",
       "      <td>3</td>\n",
       "    </tr>\n",
       "    <tr>\n",
       "      <th>3784</th>\n",
       "      <td>Mercedes-Benz C-Class C180K</td>\n",
       "      <td>36800</td>\n",
       "      <td>16-Aug-2011(7mths 30days COE left)            ...</td>\n",
       "      <td>119,00...</td>\n",
       "      <td>\\t$742 /yr</td>\n",
       "      <td>55989</td>\n",
       "      <td>1597</td>\n",
       "      <td>1500</td>\n",
       "      <td>2011</td>\n",
       "      <td>Auto</td>\n",
       "      <td>$31,019</td>\n",
       "      <td>115.0 kW (154 bhp)</td>\n",
       "      <td>1</td>\n",
       "      <td>Luxury Sedan</td>\n",
       "      <td>Category\\nPARF Car</td>\n",
       "      <td>NaN</td>\n",
       "      <td>7</td>\n",
       "    </tr>\n",
       "    <tr>\n",
       "      <th>3924</th>\n",
       "      <td>Kia Cerato Forte 1.6A EX</td>\n",
       "      <td>14888</td>\n",
       "      <td>14-Jul-2011(6mths 27days COE left)            ...</td>\n",
       "      <td>128,32...</td>\n",
       "      <td>\\t$738 /yr</td>\n",
       "      <td>38889</td>\n",
       "      <td>1591</td>\n",
       "      <td>1261</td>\n",
       "      <td>2011</td>\n",
       "      <td>Auto</td>\n",
       "      <td>$10,673</td>\n",
       "      <td>91.2 kW (122 bhp)</td>\n",
       "      <td>3</td>\n",
       "      <td>Mid-Sized Sedan</td>\n",
       "      <td>Category\\nPARF Car, Premium Ad Car</td>\n",
       "      <td>NaN</td>\n",
       "      <td>6</td>\n",
       "    </tr>\n",
       "    <tr>\n",
       "      <th>3974</th>\n",
       "      <td>MINI Cooper S Countryman 1.6A</td>\n",
       "      <td>36888</td>\n",
       "      <td>24-Aug-2011(8mths 7days COE left)             ...</td>\n",
       "      <td>120,00...</td>\n",
       "      <td>\\t$742 /yr</td>\n",
       "      <td>56002</td>\n",
       "      <td>1598</td>\n",
       "      <td>1405</td>\n",
       "      <td>2011</td>\n",
       "      <td>Auto</td>\n",
       "      <td>$34,027</td>\n",
       "      <td>135.0 kW (181 bhp)</td>\n",
       "      <td>More than 6</td>\n",
       "      <td>Sports Car</td>\n",
       "      <td>Category\\nPARF Car, Direct Owner Sale</td>\n",
       "      <td>NaN</td>\n",
       "      <td>8</td>\n",
       "    </tr>\n",
       "    <tr>\n",
       "      <th>4095</th>\n",
       "      <td>Volkswagen Golf 1.4A TSI</td>\n",
       "      <td>19800</td>\n",
       "      <td>12-Aug-2011(7mths 26days COE left)            ...</td>\n",
       "      <td>146,00...</td>\n",
       "      <td>\\t$620 /yr</td>\n",
       "      <td>44790</td>\n",
       "      <td>1390</td>\n",
       "      <td>1241</td>\n",
       "      <td>2011</td>\n",
       "      <td>Auto</td>\n",
       "      <td>$22,646</td>\n",
       "      <td>90.0 kW (120 bhp)</td>\n",
       "      <td>3</td>\n",
       "      <td>Hatchback</td>\n",
       "      <td>Category\\nPARF Car, Direct Owner Sale</td>\n",
       "      <td>NaN</td>\n",
       "      <td>7</td>\n",
       "    </tr>\n",
       "    <tr>\n",
       "      <th>4126</th>\n",
       "      <td>Toyota Corolla Altis 1.6A</td>\n",
       "      <td>18700</td>\n",
       "      <td>22-Aug-2011(8mths 5days COE left)             ...</td>\n",
       "      <td>135,00...</td>\n",
       "      <td>\\t$742 /yr</td>\n",
       "      <td>55989</td>\n",
       "      <td>1598</td>\n",
       "      <td>1195</td>\n",
       "      <td>2011</td>\n",
       "      <td>Auto</td>\n",
       "      <td>$14,797</td>\n",
       "      <td>90.0 kW (120 bhp)</td>\n",
       "      <td>2</td>\n",
       "      <td>Mid-Sized Sedan</td>\n",
       "      <td>Category\\nPARF Car</td>\n",
       "      <td>NaN</td>\n",
       "      <td>8</td>\n",
       "    </tr>\n",
       "    <tr>\n",
       "      <th>4185</th>\n",
       "      <td>Volkswagen New Beetle 1.6A</td>\n",
       "      <td>14500</td>\n",
       "      <td>18-Mar-2011(3mths 1day COE left)              ...</td>\n",
       "      <td>83,100...</td>\n",
       "      <td>\\t$740 /yr</td>\n",
       "      <td>42999</td>\n",
       "      <td>1595</td>\n",
       "      <td>1240</td>\n",
       "      <td>2010</td>\n",
       "      <td>Auto</td>\n",
       "      <td>$18,083</td>\n",
       "      <td>75.0 kW (100 bhp)</td>\n",
       "      <td>2</td>\n",
       "      <td>Hatchback</td>\n",
       "      <td>Category\\nPARF Car, Low Mileage Car</td>\n",
       "      <td>NaN</td>\n",
       "      <td>3</td>\n",
       "    </tr>\n",
       "    <tr>\n",
       "      <th>4224</th>\n",
       "      <td>Audi R8 Spyder 4.2A</td>\n",
       "      <td>185800</td>\n",
       "      <td>08-Dec-2011(11mths 21days COE left)           ...</td>\n",
       "      <td>95,621...</td>\n",
       "      <td>\\t$4,206 /yr</td>\n",
       "      <td>72350</td>\n",
       "      <td>4163</td>\n",
       "      <td>1665</td>\n",
       "      <td>2011</td>\n",
       "      <td>Auto</td>\n",
       "      <td>$159,805</td>\n",
       "      <td>316.0 kW (423 bhp)</td>\n",
       "      <td>4</td>\n",
       "      <td>Sports Car</td>\n",
       "      <td>Category\\nPARF Car</td>\n",
       "      <td>NaN</td>\n",
       "      <td>11</td>\n",
       "    </tr>\n",
       "    <tr>\n",
       "      <th>4289</th>\n",
       "      <td>Volkswagen Jetta Sport 1.4A TSI</td>\n",
       "      <td>28000</td>\n",
       "      <td>29-Aug-2011(8mths 12days COE left)            ...</td>\n",
       "      <td>190,00...</td>\n",
       "      <td>\\t$620 /yr</td>\n",
       "      <td>48801</td>\n",
       "      <td>1390</td>\n",
       "      <td>1417</td>\n",
       "      <td>2011</td>\n",
       "      <td>Auto</td>\n",
       "      <td>$24,357</td>\n",
       "      <td>118.0 kW (158 bhp)</td>\n",
       "      <td>3</td>\n",
       "      <td>Mid-Sized Sedan</td>\n",
       "      <td>Category\\nPARF Car, Direct Owner Sale</td>\n",
       "      <td>NaN</td>\n",
       "      <td>8</td>\n",
       "    </tr>\n",
       "    <tr>\n",
       "      <th>4339</th>\n",
       "      <td>Volvo S60 T5</td>\n",
       "      <td>32800</td>\n",
       "      <td>31-Oct-2011(10mths 14days COE left)           ...</td>\n",
       "      <td>87,000...</td>\n",
       "      <td>\\t$1,212 /yr</td>\n",
       "      <td>65589</td>\n",
       "      <td>1999</td>\n",
       "      <td>1556</td>\n",
       "      <td>2011</td>\n",
       "      <td>Auto</td>\n",
       "      <td>$39,049</td>\n",
       "      <td>177.0 kW (237 bhp)</td>\n",
       "      <td>2</td>\n",
       "      <td>Luxury Sedan</td>\n",
       "      <td>Category\\nPARF Car, Premium Ad Car, Low Mileag...</td>\n",
       "      <td>NaN</td>\n",
       "      <td>10</td>\n",
       "    </tr>\n",
       "    <tr>\n",
       "      <th>4494</th>\n",
       "      <td>Mercedes-Benz E-Class E200 CGI</td>\n",
       "      <td>34343</td>\n",
       "      <td>29-Dec-2010(12days COE left)                  ...</td>\n",
       "      <td>130,00...</td>\n",
       "      <td>\\t$974 /yr</td>\n",
       "      <td>45501</td>\n",
       "      <td>1796</td>\n",
       "      <td>1615</td>\n",
       "      <td>2010</td>\n",
       "      <td>Auto</td>\n",
       "      <td>$53,923</td>\n",
       "      <td>135.0 kW (181 bhp)</td>\n",
       "      <td>3</td>\n",
       "      <td>Luxury Sedan</td>\n",
       "      <td>Category\\nPARF Car</td>\n",
       "      <td>NaN</td>\n",
       "      <td>NaN</td>\n",
       "    </tr>\n",
       "    <tr>\n",
       "      <th>4605</th>\n",
       "      <td>Toyota Camry Hybrid 2.4A</td>\n",
       "      <td>20800</td>\n",
       "      <td>03-Jan-2011(17days COE left)                  ...</td>\n",
       "      <td>87,000...</td>\n",
       "      <td>\\t$1,638 /yr</td>\n",
       "      <td>44600</td>\n",
       "      <td>2362</td>\n",
       "      <td>1620</td>\n",
       "      <td>2010</td>\n",
       "      <td>Auto</td>\n",
       "      <td>$42,652</td>\n",
       "      <td>110.0 kW (147 bhp)</td>\n",
       "      <td>2</td>\n",
       "      <td>Luxury Sedan</td>\n",
       "      <td>Category\\nPARF Car, Direct Owner Sale, Low Mil...</td>\n",
       "      <td>NaN</td>\n",
       "      <td>NaN</td>\n",
       "    </tr>\n",
       "    <tr>\n",
       "      <th>4848</th>\n",
       "      <td>Ford S-Max 2.0A Ecoboost Titanium</td>\n",
       "      <td>21300</td>\n",
       "      <td>14-Jul-2011(6mths 27days COE left)            ...</td>\n",
       "      <td>88,500...</td>\n",
       "      <td>\\t$1,212 /yr</td>\n",
       "      <td>62000</td>\n",
       "      <td>1999</td>\n",
       "      <td>1676</td>\n",
       "      <td>2010</td>\n",
       "      <td>Auto</td>\n",
       "      <td>$27,141</td>\n",
       "      <td>149.0 kW (199 bhp)</td>\n",
       "      <td>3</td>\n",
       "      <td>MPV</td>\n",
       "      <td>Category\\nPARF Car, Direct Owner Sale, Low Mil...</td>\n",
       "      <td>NaN</td>\n",
       "      <td>6</td>\n",
       "    </tr>\n",
       "    <tr>\n",
       "      <th>4886</th>\n",
       "      <td>Mercedes-Benz E-Class E250 CGI</td>\n",
       "      <td>53888</td>\n",
       "      <td>28-Jul-2011(7mths 11days COE left)            ...</td>\n",
       "      <td>98,500...</td>\n",
       "      <td>\\t$974 /yr</td>\n",
       "      <td>72501</td>\n",
       "      <td>1796</td>\n",
       "      <td>1650</td>\n",
       "      <td>2011</td>\n",
       "      <td>Auto</td>\n",
       "      <td>$52,881</td>\n",
       "      <td>150.0 kW (201 bhp)</td>\n",
       "      <td>2</td>\n",
       "      <td>Luxury Sedan</td>\n",
       "      <td>Category\\nPARF Car, Premium Ad Car</td>\n",
       "      <td>NaN</td>\n",
       "      <td>7</td>\n",
       "    </tr>\n",
       "    <tr>\n",
       "      <th>4939</th>\n",
       "      <td>Mercedes-Benz C-Class C180K</td>\n",
       "      <td>33800</td>\n",
       "      <td>06-Sep-2011(8mths 20days COE left)            ...</td>\n",
       "      <td>126,00...</td>\n",
       "      <td>\\t$742 /yr</td>\n",
       "      <td>48801</td>\n",
       "      <td>1597</td>\n",
       "      <td>1500</td>\n",
       "      <td>2011</td>\n",
       "      <td>Auto</td>\n",
       "      <td>$31,019</td>\n",
       "      <td>115.0 kW (154 bhp)</td>\n",
       "      <td>3</td>\n",
       "      <td>Luxury Sedan</td>\n",
       "      <td>Category\\nPARF Car</td>\n",
       "      <td>NaN</td>\n",
       "      <td>8</td>\n",
       "    </tr>\n",
       "  </tbody>\n",
       "</table>\n",
       "</div>"
      ],
      "text/plain": [
       "                                             model    price  \\\n",
       "101                     BMW 7 Series 730Li Sunroof   54879    \n",
       "130                 Mercedes-Benz E-Class E250 CGI   38200    \n",
       "143                Mercedes-Benz S-Class S350L CGI  109000    \n",
       "292              BMW 3 Series 320i M-Sport Sunroof   26800    \n",
       "301                     BMW 5 Series 523i Highline   38800    \n",
       "305                            Hyundai Avante 1.6A   10800    \n",
       "327   Toyota Estima 2.4A Welcab (COE till 06/2021)    5500    \n",
       "492                              Toyota Camry 2.0A   23800    \n",
       "546                              Toyota Camry 2.0A   21800    \n",
       "596              BMW 5 Series 535i M-Sport Sunroof   58800    \n",
       "600                              Honda Fit 1.3A GF   16800    \n",
       "611                Volkswagen Jetta Sport 1.4A TSI   22999    \n",
       "742                  MINI Cooper S Countryman 1.6A   29800    \n",
       "848                 Mercedes-Benz E-Class E250 CGI   46800    \n",
       "870          Toyota Wish 1.8A X (COE till 12/2021)    8888    \n",
       "1004                Mercedes-Benz C-Class C200 CGI   34888    \n",
       "1075                    Honda Odyssey 2.4A Sunroof   26800    \n",
       "1147           Toyota Wish 1.8A (COE till 06/2021)    5500    \n",
       "1249                Lexus CT Hybrid CT200h Premium   39800    \n",
       "1295                              MINI Cooper 1.6A   21800    \n",
       "1339                    Mercedes-Benz C-Class C200   34555    \n",
       "1363         Mercedes-Benz C-Class C180 Avantgarde   37800    \n",
       "1433                              Honda Fit 1.3A G   14800    \n",
       "1525                     Mitsubishi Lancer EX 1.5A   19300    \n",
       "1658                                Volvo C30 2.0A   25000    \n",
       "1659             Audi R8 4.2A FSI Quattro R-tronic  179888    \n",
       "1664                          Saab 9-5 2.0T Vector   31800    \n",
       "1815     Jaguar XJ 5.0A Premium Luxury LWB Sunroof   65888    \n",
       "1937                          Audi A4 1.8A TFSI MU   30800    \n",
       "2172                   Mercedes-Benz C-Class C180K   36800    \n",
       "2231                    Kia Optima K5 2.0A Sunroof   18888    \n",
       "2254                                 MINI One 1.6A   14800    \n",
       "2454             Peugeot 308 1.6A Turbo Glass Roof   18800    \n",
       "2668                     Toyota Corolla Altis 1.6A   19800    \n",
       "2770                    BMW 5 Series 523i Highline   42800    \n",
       "2860                                   Lexus IS250   35000    \n",
       "2911                        Honda CR-Z Hybrid 1.5A   21800    \n",
       "3208         Audi A5 Coupe 3.2A FSI Quattro S-Line   37800    \n",
       "3784                   Mercedes-Benz C-Class C180K   36800    \n",
       "3924                      Kia Cerato Forte 1.6A EX   14888    \n",
       "3974                 MINI Cooper S Countryman 1.6A   36888    \n",
       "4095                      Volkswagen Golf 1.4A TSI   19800    \n",
       "4126                     Toyota Corolla Altis 1.6A   18700    \n",
       "4185                    Volkswagen New Beetle 1.6A   14500    \n",
       "4224                           Audi R8 Spyder 4.2A  185800    \n",
       "4289               Volkswagen Jetta Sport 1.4A TSI   28000    \n",
       "4339                                  Volvo S60 T5   32800    \n",
       "4494                Mercedes-Benz E-Class E200 CGI   34343    \n",
       "4605                      Toyota Camry Hybrid 2.4A   20800    \n",
       "4848             Ford S-Max 2.0A Ecoboost Titanium   21300    \n",
       "4886                Mercedes-Benz E-Class E250 CGI   53888    \n",
       "4939                   Mercedes-Benz C-Class C180K   33800    \n",
       "\n",
       "                                               reg_date  \\\n",
       "101   28-Oct-2011(10mths 11days COE left)           ...   \n",
       "130   06-Jul-2011(6mths 19days COE left)            ...   \n",
       "143   10-Oct-2011(9mths 23days COE left)            ...   \n",
       "292   14-Mar-2011(2mths 25days COE left)            ...   \n",
       "301   30-May-2011(5mths 13days COE left)            ...   \n",
       "305   29-Apr-2011(4mths 12days COE left)            ...   \n",
       "327   29-Jul-2006(6mths 14days COE left)            ...   \n",
       "492   15-Sep-2011(8mths 29days COE left)            ...   \n",
       "546   29-Apr-2011(4mths 12days COE left)            ...   \n",
       "596   15-Dec-2011(11mths 28days COE left)           ...   \n",
       "600   08-Sep-2011(8mths 22days COE left)            ...   \n",
       "611   27-Oct-2011(10mths 10days COE left)           ...   \n",
       "742   29-Jul-2011(7mths 12days COE left)            ...   \n",
       "848   23-Aug-2011(8mths 6days COE left)             ...   \n",
       "870   11-Dec-2006(11mths 24days COE left)           ...   \n",
       "1004  17-Feb-2011(2mths  COE left)                  ...   \n",
       "1075  24-Oct-2011(10mths 7days COE left)            ...   \n",
       "1147  13-Jul-2006(6mths 14days COE left)            ...   \n",
       "1249  07-Oct-2011(9mths 20days COE left)            ...   \n",
       "1295  26-Aug-2011(8mths 9days COE left)             ...   \n",
       "1339  02-Aug-2011(7mths 16days COE left)            ...   \n",
       "1363  14-Sep-2011(8mths 28days COE left)            ...   \n",
       "1433  09-May-2011(4mths 22days COE left)            ...   \n",
       "1525  16-Dec-2011(11mths 29days COE left)           ...   \n",
       "1658  29-Dec-2010(12days COE left)                  ...   \n",
       "1659  14-Jul-2011(6mths 27days COE left)            ...   \n",
       "1664  07-Jan-2011(21days COE left)                  ...   \n",
       "1815  21-Jul-2011(7mths 4days COE left)             ...   \n",
       "1937  16-Mar-2011(2mths 27days COE left)            ...   \n",
       "2172  02-Jun-2011(5mths 16days COE left)            ...   \n",
       "2231  29-Jun-2011(6mths 12days COE left)            ...   \n",
       "2254  28-Dec-2010(11days COE left)                  ...   \n",
       "2454  19-Sep-2011(9mths 2days COE left)             ...   \n",
       "2668  24-Aug-2011(8mths 7days COE left)             ...   \n",
       "2770  27-Jun-2011(6mths 10days COE left)            ...   \n",
       "2860  23-Apr-2011(4mths 6days COE left)             ...   \n",
       "2911  25-Mar-2011(3mths 8days COE left)             ...   \n",
       "3208  30-Mar-2011(3mths 13days COE left)            ...   \n",
       "3784  16-Aug-2011(7mths 30days COE left)            ...   \n",
       "3924  14-Jul-2011(6mths 27days COE left)            ...   \n",
       "3974  24-Aug-2011(8mths 7days COE left)             ...   \n",
       "4095  12-Aug-2011(7mths 26days COE left)            ...   \n",
       "4126  22-Aug-2011(8mths 5days COE left)             ...   \n",
       "4185  18-Mar-2011(3mths 1day COE left)              ...   \n",
       "4224  08-Dec-2011(11mths 21days COE left)           ...   \n",
       "4289  29-Aug-2011(8mths 12days COE left)            ...   \n",
       "4339  31-Oct-2011(10mths 14days COE left)           ...   \n",
       "4494  29-Dec-2010(12days COE left)                  ...   \n",
       "4605  03-Jan-2011(17days COE left)                  ...   \n",
       "4848  14-Jul-2011(6mths 27days COE left)            ...   \n",
       "4886  28-Jul-2011(7mths 11days COE left)            ...   \n",
       "4939  06-Sep-2011(8mths 20days COE left)            ...   \n",
       "\n",
       "                                                mileage  \\\n",
       "101                                           139,00...   \n",
       "130                                           128,00...   \n",
       "143                                           111,00...   \n",
       "292                                           136,45...   \n",
       "301                                           137,51...   \n",
       "305                                           138,33...   \n",
       "327                                           189,00...   \n",
       "492                                           126,70...   \n",
       "546                                           133,00...   \n",
       "596                                           119,00...   \n",
       "600                                           128,55...   \n",
       "611                                           162,00...   \n",
       "742                                           120,00...   \n",
       "848                                           117,00...   \n",
       "870                                           108,02...   \n",
       "1004                                          166,37...   \n",
       "1075                                          120,30...   \n",
       "1147                                          226,00...   \n",
       "1249                                          99,760...   \n",
       "1295                                          80,200...   \n",
       "1339                                          90,000...   \n",
       "1363                                          280,00...   \n",
       "1433                                          145,30...   \n",
       "1525                                          103,86...   \n",
       "1658                                          114,00...   \n",
       "1659                                          59,895...   \n",
       "1664                                          81,000...   \n",
       "1815                                          98,669...   \n",
       "1937                                          76,500...   \n",
       "2172                                          88,053...   \n",
       "2231                                          234,38...   \n",
       "2254                                          125,00...   \n",
       "2454                                          127,00...   \n",
       "2668                                          103,53...   \n",
       "2770                                          160,00...   \n",
       "2860                                          72,000...   \n",
       "2911                                          135,00...   \n",
       "3208                                          125,00...   \n",
       "3784                                          119,00...   \n",
       "3924                                          128,32...   \n",
       "3974                                          120,00...   \n",
       "4095                                          146,00...   \n",
       "4126                                          135,00...   \n",
       "4185                                          83,100...   \n",
       "4224                                          95,621...   \n",
       "4289                                          190,00...   \n",
       "4339                                          87,000...   \n",
       "4494                                          130,00...   \n",
       "4605                                          87,000...   \n",
       "4848                                          88,500...   \n",
       "4886                                          98,500...   \n",
       "4939                                          126,00...   \n",
       "\n",
       "                                              road_tax    coe eng_cap  \\\n",
       "101                                       \\t$2,382 /yr  75889    2996   \n",
       "130                                         \\t$974 /yr  56001    1796   \n",
       "143                                       \\t$3,164 /yr  68811    3498   \n",
       "292                                       \\t$1,208 /yr  62010    1995   \n",
       "301                                       \\t$1,796 /yr  57100    2497   \n",
       "305                                         \\t$738 /yr  43212    1591   \n",
       "327                                       \\t$2,457 /yr  24240    2362   \n",
       "492                                       \\t$1,210 /yr  72501    1998   \n",
       "546                                       \\t$1,210 /yr  62010    1998   \n",
       "596                                       \\t$2,362 /yr  78001    2979   \n",
       "600                                         \\t$590 /yr  43898    1339   \n",
       "611                                         \\t$620 /yr  56112    1390   \n",
       "742                                         \\t$742 /yr  56002    1598   \n",
       "848                                         \\t$974 /yr  65490    1796   \n",
       "870                                       \\t$1,361 /yr  27594    1794   \n",
       "1004                                        \\t$974 /yr  53400    1796   \n",
       "1075                                      \\t$1,628 /yr  63600    2354   \n",
       "1147                                      \\t$1,458 /yr  24240    1794   \n",
       "1249                                        \\t$976 /yr  62502    1798   \n",
       "1295                                        \\t$742 /yr  49301    1598   \n",
       "1339                                        \\t$974 /yr  68501    1796   \n",
       "1363                                        \\t$974 /yr  63002    1796   \n",
       "1433                                        \\t$590 /yr  44790    1339   \n",
       "1525                                        \\t$684 /yr  47160    1499   \n",
       "1658                                      \\t$1,212 /yr  49890    1999   \n",
       "1659                                      \\t$4,206 /yr  68811    4163   \n",
       "1664                                      \\t$1,210 /yr  42501    1998   \n",
       "1815                                      \\t$5,514 /yr  68501    5000   \n",
       "1937                                        \\t$976 /yr  61894    1798   \n",
       "2172                                        \\t$742 /yr  46989    1597   \n",
       "2231                                      \\t$1,210 /yr  61894    1998   \n",
       "2254                                        \\t$742 /yr  44831    1598   \n",
       "2454                                        \\t$742 /yr  51000    1598   \n",
       "2668                                        \\t$742 /yr  46989    1598   \n",
       "2770                                      \\t$1,796 /yr  67700    2497   \n",
       "2860                                      \\t$1,800 /yr  67009    2500   \n",
       "2911                                        \\t$682 /yr  43813    1496   \n",
       "3208                                      \\t$2,694 /yr  57002    3197   \n",
       "3784                                        \\t$742 /yr  55989    1597   \n",
       "3924                                        \\t$738 /yr  38889    1591   \n",
       "3974                                        \\t$742 /yr  56002    1598   \n",
       "4095                                        \\t$620 /yr  44790    1390   \n",
       "4126                                        \\t$742 /yr  55989    1598   \n",
       "4185                                        \\t$740 /yr  42999    1595   \n",
       "4224                                      \\t$4,206 /yr  72350    4163   \n",
       "4289                                        \\t$620 /yr  48801    1390   \n",
       "4339                                      \\t$1,212 /yr  65589    1999   \n",
       "4494                                        \\t$974 /yr  45501    1796   \n",
       "4605                                      \\t$1,638 /yr  44600    2362   \n",
       "4848                                      \\t$1,212 /yr  62000    1999   \n",
       "4886                                        \\t$974 /yr  72501    1796   \n",
       "4939                                        \\t$742 /yr  48801    1597   \n",
       "\n",
       "     curb_weight manufactured transmission       omv               power  \\\n",
       "101         1855         2011         Auto   $72,702  190.0 kW (254 bhp)   \n",
       "130         1650         2011         Auto   $52,909  150.0 kW (201 bhp)   \n",
       "143         1975         2011         Auto   $98,214  225.0 kW (301 bhp)   \n",
       "292         1390         2010         Auto   $40,475  115.0 kW (154 bhp)   \n",
       "301         1650         2011         Auto   $49,316  150.0 kW (201 bhp)   \n",
       "305         1264         2010         Auto   $10,385   89.7 kW (120 bhp)   \n",
       "327         1850         2006         Auto   $29,235  125.0 kW (167 bhp)   \n",
       "492         1530         2011         Auto   $22,432  108.0 kW (144 bhp)   \n",
       "546         1530         2011         Auto   $23,514  108.0 kW (144 bhp)   \n",
       "596         1700         2011         Auto   $65,662  225.0 kW (301 bhp)   \n",
       "600         1010         2009         Auto   $14,211    73.0 kW (97 bhp)   \n",
       "611         1417         2011         Auto   $24,364  118.0 kW (158 bhp)   \n",
       "742         1335         2011         Auto   $31,543  135.0 kW (181 bhp)   \n",
       "848         1650         2011         Auto   $52,881  150.0 kW (201 bhp)   \n",
       "870         1300         2006         Auto   $18,893   97.0 kW (130 bhp)   \n",
       "1004        1505         2010         Auto   $50,205  135.0 kW (181 bhp)   \n",
       "1075        1680         2010         Auto   $34,272  132.0 kW (177 bhp)   \n",
       "1147        1300         2006         Auto   $21,625   97.0 kW (130 bhp)   \n",
       "1249        1410         2011         Auto   $41,506    73.0 kW (97 bhp)   \n",
       "1295        1105         2011         Auto   $22,901   90.0 kW (120 bhp)   \n",
       "1339        1505         2011         Auto   $43,126  135.0 kW (181 bhp)   \n",
       "1363        1495         2011         Auto   $36,691  115.0 kW (154 bhp)   \n",
       "1433        1010         2009         Auto   $14,707    73.0 kW (97 bhp)   \n",
       "1525        1313         2011         Auto   $16,733   80.0 kW (107 bhp)   \n",
       "1658        1373         2010         Auto   $30,750  107.0 kW (143 bhp)   \n",
       "1659        1565         2011         Auto  $147,728  316.0 kW (423 bhp)   \n",
       "1664        1750         2010         Auto   $43,027  162.0 kW (217 bhp)   \n",
       "1815        1969         2011         Auto   $86,523  283.0 kW (379 bhp)   \n",
       "1937        1450         2010         Auto   $36,081  118.0 kW (158 bhp)   \n",
       "2172        1500         2011         Auto   $31,086  115.0 kW (154 bhp)   \n",
       "2231        1529         2011         Auto   $19,689  121.0 kW (162 bhp)   \n",
       "2254        1100         2010         Auto   $18,481    72.0 kW (96 bhp)   \n",
       "2454        1382         2010         Auto   $20,266  115.0 kW (154 bhp)   \n",
       "2668        1195         2011         Auto   $14,797   90.0 kW (120 bhp)   \n",
       "2770        1650         2011         Auto   $45,150  150.0 kW (201 bhp)   \n",
       "2860        1625         2010         Auto   $38,280  153.0 kW (205 bhp)   \n",
       "2911        1160         2010         Auto   $31,227   83.0 kW (111 bhp)   \n",
       "3208        1570         2010         Auto   $53,483  195.0 kW (261 bhp)   \n",
       "3784        1500         2011         Auto   $31,019  115.0 kW (154 bhp)   \n",
       "3924        1261         2011         Auto   $10,673   91.2 kW (122 bhp)   \n",
       "3974        1405         2011         Auto   $34,027  135.0 kW (181 bhp)   \n",
       "4095        1241         2011         Auto   $22,646   90.0 kW (120 bhp)   \n",
       "4126        1195         2011         Auto   $14,797   90.0 kW (120 bhp)   \n",
       "4185        1240         2010         Auto   $18,083   75.0 kW (100 bhp)   \n",
       "4224        1665         2011         Auto  $159,805  316.0 kW (423 bhp)   \n",
       "4289        1417         2011         Auto   $24,357  118.0 kW (158 bhp)   \n",
       "4339        1556         2011         Auto   $39,049  177.0 kW (237 bhp)   \n",
       "4494        1615         2010         Auto   $53,923  135.0 kW (181 bhp)   \n",
       "4605        1620         2010         Auto   $42,652  110.0 kW (147 bhp)   \n",
       "4848        1676         2010         Auto   $27,141  149.0 kW (199 bhp)   \n",
       "4886        1650         2011         Auto   $52,881  150.0 kW (201 bhp)   \n",
       "4939        1500         2011         Auto   $31,019  115.0 kW (154 bhp)   \n",
       "\n",
       "       num_owners             type  \\\n",
       "101             1     Luxury Sedan   \n",
       "130             4     Luxury Sedan   \n",
       "143             2     Luxury Sedan   \n",
       "292             3     Luxury Sedan   \n",
       "301             4     Luxury Sedan   \n",
       "305             3  Mid-Sized Sedan   \n",
       "327   More than 6              MPV   \n",
       "492             2     Luxury Sedan   \n",
       "546             3     Luxury Sedan   \n",
       "596             3     Luxury Sedan   \n",
       "600             2        Hatchback   \n",
       "611             1  Mid-Sized Sedan   \n",
       "742             3       Sports Car   \n",
       "848             2     Luxury Sedan   \n",
       "870             2              MPV   \n",
       "1004            4     Luxury Sedan   \n",
       "1075            3              MPV   \n",
       "1147            3              MPV   \n",
       "1249            3        Hatchback   \n",
       "1295            1        Hatchback   \n",
       "1339            3     Luxury Sedan   \n",
       "1363            2     Luxury Sedan   \n",
       "1433            5        Hatchback   \n",
       "1525            3  Mid-Sized Sedan   \n",
       "1658            3       Sports Car   \n",
       "1659            5       Sports Car   \n",
       "1664            1     Luxury Sedan   \n",
       "1815            2     Luxury Sedan   \n",
       "1937            1     Luxury Sedan   \n",
       "2172            2     Luxury Sedan   \n",
       "2231            2     Luxury Sedan   \n",
       "2254            3        Hatchback   \n",
       "2454            2        Hatchback   \n",
       "2668            2  Mid-Sized Sedan   \n",
       "2770            3     Luxury Sedan   \n",
       "2860            2     Luxury Sedan   \n",
       "2911            3       Sports Car   \n",
       "3208            5       Sports Car   \n",
       "3784            1     Luxury Sedan   \n",
       "3924            3  Mid-Sized Sedan   \n",
       "3974  More than 6       Sports Car   \n",
       "4095            3        Hatchback   \n",
       "4126            2  Mid-Sized Sedan   \n",
       "4185            2        Hatchback   \n",
       "4224            4       Sports Car   \n",
       "4289            3  Mid-Sized Sedan   \n",
       "4339            2     Luxury Sedan   \n",
       "4494            3     Luxury Sedan   \n",
       "4605            2     Luxury Sedan   \n",
       "4848            3              MPV   \n",
       "4886            2     Luxury Sedan   \n",
       "4939            3     Luxury Sedan   \n",
       "\n",
       "                                               category years months  \n",
       "101                                 Category\\nPARF Car    NaN     10  \n",
       "130              Category\\nPARF Car, Direct Owner Sale    NaN      6  \n",
       "143                                 Category\\nPARF Car    NaN      9  \n",
       "292                 Category\\nPARF Car, Premium Ad Car    NaN      2  \n",
       "301                                 Category\\nPARF Car    NaN      5  \n",
       "305                 Category\\nPARF Car, Premium Ad Car    NaN      4  \n",
       "327                                  Category\\nCOE Car    NaN      6  \n",
       "492                                 Category\\nPARF Car    NaN      8  \n",
       "546              Category\\nPARF Car, Direct Owner Sale    NaN      4  \n",
       "596              Category\\nPARF Car, Direct Owner Sale    NaN     11  \n",
       "600                                 Category\\nPARF Car    NaN      8  \n",
       "611                                 Category\\nPARF Car    NaN     10  \n",
       "742                                 Category\\nPARF Car    NaN      7  \n",
       "848                                 Category\\nPARF Car    NaN      8  \n",
       "870   Category\\nCOE Car, Premium Ad Car, Low Mileage...   NaN     11  \n",
       "1004             Category\\nPARF Car, Direct Owner Sale    NaN      2  \n",
       "1075                                Category\\nPARF Car    NaN     10  \n",
       "1147                                 Category\\nCOE Car    NaN      6  \n",
       "1249  Category\\nPARF Car, Direct Owner Sale, Hybrid ...   NaN      9  \n",
       "1295  Category\\nPARF Car, Premium Ad Car, Low Mileag...   NaN      8  \n",
       "1339               Category\\nPARF Car, Low Mileage Car    NaN      7  \n",
       "1363             Category\\nPARF Car, Direct Owner Sale    NaN      8  \n",
       "1433                Category\\nPARF Car, Premium Ad Car    NaN      4  \n",
       "1525             Category\\nPARF Car, Direct Owner Sale    NaN     11  \n",
       "1658             Category\\nPARF Car, Direct Owner Sale    NaN    NaN  \n",
       "1659  Category\\nPARF Car, Direct Owner Sale, Low Mil...   NaN      6  \n",
       "1664  Category\\nPARF Car, Direct Owner Sale, Low Mil...   NaN    NaN  \n",
       "1815                                Category\\nPARF Car    NaN      7  \n",
       "1937  Category\\nPARF Car, Direct Owner Sale, Low Mil...   NaN      2  \n",
       "2172               Category\\nPARF Car, Low Mileage Car    NaN      5  \n",
       "2231             Category\\nPARF Car, Direct Owner Sale    NaN      6  \n",
       "2254                                Category\\nPARF Car    NaN    NaN  \n",
       "2454                                Category\\nPARF Car    NaN      9  \n",
       "2668                Category\\nPARF Car, Premium Ad Car    NaN      8  \n",
       "2770                Category\\nPARF Car, Premium Ad Car    NaN      6  \n",
       "2860  Category\\nPARF Car, Direct Owner Sale, Low Mil...   NaN      4  \n",
       "2911                   Category\\nPARF Car, Hybrid Cars    NaN      3  \n",
       "3208             Category\\nPARF Car, Direct Owner Sale    NaN      3  \n",
       "3784                                Category\\nPARF Car    NaN      7  \n",
       "3924                Category\\nPARF Car, Premium Ad Car    NaN      6  \n",
       "3974             Category\\nPARF Car, Direct Owner Sale    NaN      8  \n",
       "4095             Category\\nPARF Car, Direct Owner Sale    NaN      7  \n",
       "4126                                Category\\nPARF Car    NaN      8  \n",
       "4185               Category\\nPARF Car, Low Mileage Car    NaN      3  \n",
       "4224                                Category\\nPARF Car    NaN     11  \n",
       "4289             Category\\nPARF Car, Direct Owner Sale    NaN      8  \n",
       "4339  Category\\nPARF Car, Premium Ad Car, Low Mileag...   NaN     10  \n",
       "4494                                Category\\nPARF Car    NaN    NaN  \n",
       "4605  Category\\nPARF Car, Direct Owner Sale, Low Mil...   NaN    NaN  \n",
       "4848  Category\\nPARF Car, Direct Owner Sale, Low Mil...   NaN      6  \n",
       "4886                Category\\nPARF Car, Premium Ad Car    NaN      7  \n",
       "4939                                Category\\nPARF Car    NaN      8  "
      ]
     },
     "execution_count": 35,
     "metadata": {},
     "output_type": "execute_result"
    }
   ],
   "source": [
    "cars[cars['years'].isnull()]"
   ]
  },
  {
   "cell_type": "code",
   "execution_count": 36,
   "metadata": {
    "ExecuteTime": {
     "end_time": "2021-01-25T15:13:47.515516Z",
     "start_time": "2021-01-25T15:13:47.484625Z"
    }
   },
   "outputs": [
    {
     "data": {
      "text/html": [
       "<div>\n",
       "<style scoped>\n",
       "    .dataframe tbody tr th:only-of-type {\n",
       "        vertical-align: middle;\n",
       "    }\n",
       "\n",
       "    .dataframe tbody tr th {\n",
       "        vertical-align: top;\n",
       "    }\n",
       "\n",
       "    .dataframe thead th {\n",
       "        text-align: right;\n",
       "    }\n",
       "</style>\n",
       "<table border=\"1\" class=\"dataframe\">\n",
       "  <thead>\n",
       "    <tr style=\"text-align: right;\">\n",
       "      <th></th>\n",
       "      <th>model</th>\n",
       "      <th>price</th>\n",
       "      <th>reg_date</th>\n",
       "      <th>mileage</th>\n",
       "      <th>road_tax</th>\n",
       "      <th>coe</th>\n",
       "      <th>eng_cap</th>\n",
       "      <th>curb_weight</th>\n",
       "      <th>manufactured</th>\n",
       "      <th>transmission</th>\n",
       "      <th>omv</th>\n",
       "      <th>power</th>\n",
       "      <th>num_owners</th>\n",
       "      <th>type</th>\n",
       "      <th>category</th>\n",
       "      <th>years</th>\n",
       "      <th>months</th>\n",
       "    </tr>\n",
       "  </thead>\n",
       "  <tbody>\n",
       "    <tr>\n",
       "      <th>5</th>\n",
       "      <td>Opel Astra 1.4A Turbo</td>\n",
       "      <td>59800</td>\n",
       "      <td>30-Dec-2016(6yrs 13days COE left)             ...</td>\n",
       "      <td>43,000...</td>\n",
       "      <td>\\t$626 /yr</td>\n",
       "      <td>51109</td>\n",
       "      <td>1399</td>\n",
       "      <td>1233</td>\n",
       "      <td>2016</td>\n",
       "      <td>Auto</td>\n",
       "      <td>$19,839</td>\n",
       "      <td>110.0 kW (147 bhp)</td>\n",
       "      <td>2</td>\n",
       "      <td>Hatchback</td>\n",
       "      <td>Category\\nPARF Car</td>\n",
       "      <td>6</td>\n",
       "      <td>NaN</td>\n",
       "    </tr>\n",
       "    <tr>\n",
       "      <th>15</th>\n",
       "      <td>Toyota Camry Hybrid 2.5A G</td>\n",
       "      <td>103800</td>\n",
       "      <td>04-Jan-2019(8yrs 18days COE left)             ...</td>\n",
       "      <td>13,000...</td>\n",
       "      <td>\\t$1,784 /yr</td>\n",
       "      <td>32000</td>\n",
       "      <td>2487</td>\n",
       "      <td>1570</td>\n",
       "      <td>2018</td>\n",
       "      <td>Auto</td>\n",
       "      <td>$35,821</td>\n",
       "      <td>155.0 kW (207 bhp)</td>\n",
       "      <td>1</td>\n",
       "      <td>Luxury Sedan</td>\n",
       "      <td>Category\\nPARF Car, Premium Ad Car, Low Mileag...</td>\n",
       "      <td>8</td>\n",
       "      <td>NaN</td>\n",
       "    </tr>\n",
       "    <tr>\n",
       "      <th>42</th>\n",
       "      <td>Mazda CX-5 2.5A Luxury Sunroof</td>\n",
       "      <td>81800</td>\n",
       "      <td>30-Dec-2016(6yrs 13days COE left)             ...</td>\n",
       "      <td>63,200...</td>\n",
       "      <td>\\t$1,786 /yr</td>\n",
       "      <td>56340</td>\n",
       "      <td>2488</td>\n",
       "      <td>1568</td>\n",
       "      <td>2016</td>\n",
       "      <td>Auto</td>\n",
       "      <td>$27,550</td>\n",
       "      <td>141.0 kW (189 bhp)</td>\n",
       "      <td>1</td>\n",
       "      <td>SUV</td>\n",
       "      <td>Category\\nPARF Car, Premium Ad Car, STA Evalua...</td>\n",
       "      <td>6</td>\n",
       "      <td>NaN</td>\n",
       "    </tr>\n",
       "    <tr>\n",
       "      <th>45</th>\n",
       "      <td>Nissan Qashqai 1.2A DIG-T</td>\n",
       "      <td>63800</td>\n",
       "      <td>23-Dec-2016(6yrs 6days COE left)              ...</td>\n",
       "      <td>42,000...</td>\n",
       "      <td>\\t$508 /yr</td>\n",
       "      <td>48000</td>\n",
       "      <td>1197</td>\n",
       "      <td>1285</td>\n",
       "      <td>2016</td>\n",
       "      <td>Auto</td>\n",
       "      <td>$18,689</td>\n",
       "      <td>85.0 kW (113 bhp)</td>\n",
       "      <td>1</td>\n",
       "      <td>SUV</td>\n",
       "      <td>Category\\nPARF Car, Premium Ad Car</td>\n",
       "      <td>6</td>\n",
       "      <td>NaN</td>\n",
       "    </tr>\n",
       "    <tr>\n",
       "      <th>48</th>\n",
       "      <td>Toyota Rush 1.5A (COE till 01/2022)</td>\n",
       "      <td>9800</td>\n",
       "      <td>09-Jan-2007(1yr 23days COE left)              ...</td>\n",
       "      <td>192,00...</td>\n",
       "      <td>\\t$955 /yr</td>\n",
       "      <td>25323</td>\n",
       "      <td>1495</td>\n",
       "      <td>1150</td>\n",
       "      <td>2006</td>\n",
       "      <td>Auto</td>\n",
       "      <td>$15,753</td>\n",
       "      <td>80.0 kW (107 bhp)</td>\n",
       "      <td>3</td>\n",
       "      <td>SUV</td>\n",
       "      <td>Category\\nCOE Car, Direct Owner Sale</td>\n",
       "      <td>1</td>\n",
       "      <td>NaN</td>\n",
       "    </tr>\n",
       "    <tr>\n",
       "      <th>...</th>\n",
       "      <td>...</td>\n",
       "      <td>...</td>\n",
       "      <td>...</td>\n",
       "      <td>...</td>\n",
       "      <td>...</td>\n",
       "      <td>...</td>\n",
       "      <td>...</td>\n",
       "      <td>...</td>\n",
       "      <td>...</td>\n",
       "      <td>...</td>\n",
       "      <td>...</td>\n",
       "      <td>...</td>\n",
       "      <td>...</td>\n",
       "      <td>...</td>\n",
       "      <td>...</td>\n",
       "      <td>...</td>\n",
       "      <td>...</td>\n",
       "    </tr>\n",
       "    <tr>\n",
       "      <th>4865</th>\n",
       "      <td>Mazda CX-3 2.0A Standard</td>\n",
       "      <td>76800</td>\n",
       "      <td>27-Dec-2018(8yrs 10days COE left)             ...</td>\n",
       "      <td>27,000...</td>\n",
       "      <td>\\t$1,210 /yr</td>\n",
       "      <td>30959</td>\n",
       "      <td>1998</td>\n",
       "      <td>1290</td>\n",
       "      <td>2018</td>\n",
       "      <td>Auto</td>\n",
       "      <td>$16,890</td>\n",
       "      <td>115.0 kW (154 bhp)</td>\n",
       "      <td>1</td>\n",
       "      <td>SUV</td>\n",
       "      <td>Category\\nPARF Car</td>\n",
       "      <td>8</td>\n",
       "      <td>NaN</td>\n",
       "    </tr>\n",
       "    <tr>\n",
       "      <th>4874</th>\n",
       "      <td>BMW 4 Series 430i Gran Coupe M-Sport</td>\n",
       "      <td>140000</td>\n",
       "      <td>03-Jan-2017(6yrs 17days COE left)             ...</td>\n",
       "      <td>48,000...</td>\n",
       "      <td>\\t$1,210 /yr</td>\n",
       "      <td>46229</td>\n",
       "      <td>1998</td>\n",
       "      <td>1540</td>\n",
       "      <td>2016</td>\n",
       "      <td>Auto</td>\n",
       "      <td>$47,372</td>\n",
       "      <td>185.0 kW (248 bhp)</td>\n",
       "      <td>1</td>\n",
       "      <td>Luxury Sedan</td>\n",
       "      <td>Category\\nPARF Car, Premium Ad Car</td>\n",
       "      <td>6</td>\n",
       "      <td>NaN</td>\n",
       "    </tr>\n",
       "    <tr>\n",
       "      <th>4881</th>\n",
       "      <td>Mazda 3 HB 1.5A Sunroof</td>\n",
       "      <td>54800</td>\n",
       "      <td>31-Dec-2015(5yrs 14days COE left)             ...</td>\n",
       "      <td>72,441...</td>\n",
       "      <td>\\t$682 /yr</td>\n",
       "      <td>54301</td>\n",
       "      <td>1496</td>\n",
       "      <td>1324</td>\n",
       "      <td>2015</td>\n",
       "      <td>Auto</td>\n",
       "      <td>$18,265</td>\n",
       "      <td>88.0 kW (118 bhp)</td>\n",
       "      <td>2</td>\n",
       "      <td>Hatchback</td>\n",
       "      <td>Category\\nPARF Car, Premium Ad Car</td>\n",
       "      <td>5</td>\n",
       "      <td>NaN</td>\n",
       "    </tr>\n",
       "    <tr>\n",
       "      <th>4914</th>\n",
       "      <td>Lexus ES250 Executive Sunroof</td>\n",
       "      <td>162800</td>\n",
       "      <td>23-Dec-2019(9yrs 6days COE left)              ...</td>\n",
       "      <td>19,750...</td>\n",
       "      <td>\\t$1,784 /yr</td>\n",
       "      <td>36000</td>\n",
       "      <td>2487</td>\n",
       "      <td>1620</td>\n",
       "      <td>2019</td>\n",
       "      <td>Auto</td>\n",
       "      <td>$40,126</td>\n",
       "      <td>152.0 kW (203 bhp)</td>\n",
       "      <td>1</td>\n",
       "      <td>Luxury Sedan</td>\n",
       "      <td>Category\\nPARF Car, Almost New Car, Premium Ad...</td>\n",
       "      <td>9</td>\n",
       "      <td>NaN</td>\n",
       "    </tr>\n",
       "    <tr>\n",
       "      <th>4951</th>\n",
       "      <td>Volkswagen Jetta GP 1.4A TSI Highline</td>\n",
       "      <td>53300</td>\n",
       "      <td>14-Jan-2016(5yrs 28days COE left)             ...</td>\n",
       "      <td>100,00...</td>\n",
       "      <td>\\t$620 /yr</td>\n",
       "      <td>45002</td>\n",
       "      <td>1390</td>\n",
       "      <td>1417</td>\n",
       "      <td>2015</td>\n",
       "      <td>Auto</td>\n",
       "      <td>$21,584</td>\n",
       "      <td>90.0 kW (120 bhp)</td>\n",
       "      <td>1</td>\n",
       "      <td>Mid-Sized Sedan</td>\n",
       "      <td>Category\\nPARF Car</td>\n",
       "      <td>5</td>\n",
       "      <td>NaN</td>\n",
       "    </tr>\n",
       "  </tbody>\n",
       "</table>\n",
       "<p>330 rows × 17 columns</p>\n",
       "</div>"
      ],
      "text/plain": [
       "                                      model    price  \\\n",
       "5                     Opel Astra 1.4A Turbo   59800    \n",
       "15               Toyota Camry Hybrid 2.5A G  103800    \n",
       "42           Mazda CX-5 2.5A Luxury Sunroof   81800    \n",
       "45                Nissan Qashqai 1.2A DIG-T   63800    \n",
       "48      Toyota Rush 1.5A (COE till 01/2022)    9800    \n",
       "...                                     ...      ...   \n",
       "4865               Mazda CX-3 2.0A Standard   76800    \n",
       "4874   BMW 4 Series 430i Gran Coupe M-Sport  140000    \n",
       "4881                Mazda 3 HB 1.5A Sunroof   54800    \n",
       "4914          Lexus ES250 Executive Sunroof  162800    \n",
       "4951  Volkswagen Jetta GP 1.4A TSI Highline   53300    \n",
       "\n",
       "                                               reg_date  \\\n",
       "5     30-Dec-2016(6yrs 13days COE left)             ...   \n",
       "15    04-Jan-2019(8yrs 18days COE left)             ...   \n",
       "42    30-Dec-2016(6yrs 13days COE left)             ...   \n",
       "45    23-Dec-2016(6yrs 6days COE left)              ...   \n",
       "48    09-Jan-2007(1yr 23days COE left)              ...   \n",
       "...                                                 ...   \n",
       "4865  27-Dec-2018(8yrs 10days COE left)             ...   \n",
       "4874  03-Jan-2017(6yrs 17days COE left)             ...   \n",
       "4881  31-Dec-2015(5yrs 14days COE left)             ...   \n",
       "4914  23-Dec-2019(9yrs 6days COE left)              ...   \n",
       "4951  14-Jan-2016(5yrs 28days COE left)             ...   \n",
       "\n",
       "                                                mileage  \\\n",
       "5                                             43,000...   \n",
       "15                                            13,000...   \n",
       "42                                            63,200...   \n",
       "45                                            42,000...   \n",
       "48                                            192,00...   \n",
       "...                                                 ...   \n",
       "4865                                          27,000...   \n",
       "4874                                          48,000...   \n",
       "4881                                          72,441...   \n",
       "4914                                          19,750...   \n",
       "4951                                          100,00...   \n",
       "\n",
       "                                              road_tax    coe eng_cap  \\\n",
       "5                                           \\t$626 /yr  51109    1399   \n",
       "15                                        \\t$1,784 /yr  32000    2487   \n",
       "42                                        \\t$1,786 /yr  56340    2488   \n",
       "45                                          \\t$508 /yr  48000    1197   \n",
       "48                                          \\t$955 /yr  25323    1495   \n",
       "...                                                ...    ...     ...   \n",
       "4865                                      \\t$1,210 /yr  30959    1998   \n",
       "4874                                      \\t$1,210 /yr  46229    1998   \n",
       "4881                                        \\t$682 /yr  54301    1496   \n",
       "4914                                      \\t$1,784 /yr  36000    2487   \n",
       "4951                                        \\t$620 /yr  45002    1390   \n",
       "\n",
       "     curb_weight manufactured transmission      omv               power  \\\n",
       "5           1233         2016         Auto  $19,839  110.0 kW (147 bhp)   \n",
       "15          1570         2018         Auto  $35,821  155.0 kW (207 bhp)   \n",
       "42          1568         2016         Auto  $27,550  141.0 kW (189 bhp)   \n",
       "45          1285         2016         Auto  $18,689   85.0 kW (113 bhp)   \n",
       "48          1150         2006         Auto  $15,753   80.0 kW (107 bhp)   \n",
       "...          ...          ...          ...      ...                 ...   \n",
       "4865        1290         2018         Auto  $16,890  115.0 kW (154 bhp)   \n",
       "4874        1540         2016         Auto  $47,372  185.0 kW (248 bhp)   \n",
       "4881        1324         2015         Auto  $18,265   88.0 kW (118 bhp)   \n",
       "4914        1620         2019         Auto  $40,126  152.0 kW (203 bhp)   \n",
       "4951        1417         2015         Auto  $21,584   90.0 kW (120 bhp)   \n",
       "\n",
       "     num_owners             type  \\\n",
       "5             2        Hatchback   \n",
       "15            1     Luxury Sedan   \n",
       "42            1              SUV   \n",
       "45            1              SUV   \n",
       "48            3              SUV   \n",
       "...         ...              ...   \n",
       "4865          1              SUV   \n",
       "4874          1     Luxury Sedan   \n",
       "4881          2        Hatchback   \n",
       "4914          1     Luxury Sedan   \n",
       "4951          1  Mid-Sized Sedan   \n",
       "\n",
       "                                               category years months  \n",
       "5                                   Category\\nPARF Car      6    NaN  \n",
       "15    Category\\nPARF Car, Premium Ad Car, Low Mileag...     8    NaN  \n",
       "42    Category\\nPARF Car, Premium Ad Car, STA Evalua...     6    NaN  \n",
       "45                  Category\\nPARF Car, Premium Ad Car      6    NaN  \n",
       "48                Category\\nCOE Car, Direct Owner Sale      1    NaN  \n",
       "...                                                 ...   ...    ...  \n",
       "4865                                Category\\nPARF Car      8    NaN  \n",
       "4874                Category\\nPARF Car, Premium Ad Car      6    NaN  \n",
       "4881                Category\\nPARF Car, Premium Ad Car      5    NaN  \n",
       "4914  Category\\nPARF Car, Almost New Car, Premium Ad...     9    NaN  \n",
       "4951                                Category\\nPARF Car      5    NaN  \n",
       "\n",
       "[330 rows x 17 columns]"
      ]
     },
     "execution_count": 36,
     "metadata": {},
     "output_type": "execute_result"
    }
   ],
   "source": [
    "cars[cars['months'].isnull()]"
   ]
  },
  {
   "cell_type": "markdown",
   "metadata": {},
   "source": [
    "We can see that there are missing months and years. Logically, we can assume them as 0."
   ]
  },
  {
   "cell_type": "code",
   "execution_count": 37,
   "metadata": {
    "ExecuteTime": {
     "end_time": "2021-01-25T15:13:47.531508Z",
     "start_time": "2021-01-25T15:13:47.516512Z"
    }
   },
   "outputs": [],
   "source": [
    "#filling null values in years and months with 0\n",
    "cars['years'].fillna(0,inplace=True)\n",
    "cars['months'].fillna(0,inplace=True)"
   ]
  },
  {
   "cell_type": "code",
   "execution_count": 38,
   "metadata": {
    "ExecuteTime": {
     "end_time": "2021-01-25T15:13:47.547466Z",
     "start_time": "2021-01-25T15:13:47.532471Z"
    }
   },
   "outputs": [],
   "source": [
    "#converting data type into an integer\n",
    "cars['years'] = cars['years'].astype(int)\n",
    "cars['months'] = cars['months'].astype(int)"
   ]
  },
  {
   "cell_type": "code",
   "execution_count": 39,
   "metadata": {
    "ExecuteTime": {
     "end_time": "2021-01-25T15:13:47.563423Z",
     "start_time": "2021-01-25T15:13:47.548428Z"
    }
   },
   "outputs": [],
   "source": [
    "#transforming the years and months into balance COE in months\n",
    "cars['coe_balance_in_months'] = cars['years']*12 + cars['months']\n",
    "cars.drop(columns=['years','months'],inplace=True)"
   ]
  },
  {
   "cell_type": "markdown",
   "metadata": {},
   "source": [
    "Since we do not need the `reg_date` anymore, let's also drop the column."
   ]
  },
  {
   "cell_type": "code",
   "execution_count": 40,
   "metadata": {
    "ExecuteTime": {
     "end_time": "2021-01-25T15:13:47.579381Z",
     "start_time": "2021-01-25T15:13:47.564412Z"
    }
   },
   "outputs": [],
   "source": [
    "cars.drop(columns='reg_date',inplace=True)"
   ]
  },
  {
   "cell_type": "code",
   "execution_count": 41,
   "metadata": {
    "ExecuteTime": {
     "end_time": "2021-01-25T15:13:47.595339Z",
     "start_time": "2021-01-25T15:13:47.580377Z"
    }
   },
   "outputs": [
    {
     "name": "stderr",
     "output_type": "stream",
     "text": [
      "<ipython-input-41-01648d6e258e>:2: FutureWarning: The default value of regex will change from True to False in a future version.\n",
      "  cars['power'] = cars['power'].str.replace(r\"\\(.*?\\)\",\"\")\n"
     ]
    }
   ],
   "source": [
    "#removing special characters in power\n",
    "cars['power'] = cars['power'].str.replace(r\"\\(.*?\\)\",\"\")\n",
    "cars['power'] = cars.power.str.extract('(\\d+)')"
   ]
  },
  {
   "cell_type": "code",
   "execution_count": 42,
   "metadata": {
    "ExecuteTime": {
     "end_time": "2021-01-25T15:13:47.611296Z",
     "start_time": "2021-01-25T15:13:47.596349Z"
    }
   },
   "outputs": [
    {
     "name": "stderr",
     "output_type": "stream",
     "text": [
      "<ipython-input-42-c8f79cdd46dd>:2: FutureWarning: The default value of regex will change from True to False in a future version. In addition, single character regular expressions will*not* be treated as literal strings when regex=True.\n",
      "  cars['omv'] = cars['omv'].str.replace(\"$\",\"\")\n"
     ]
    }
   ],
   "source": [
    "#removing special characters in omv\n",
    "cars['omv'] = cars['omv'].str.replace(\"$\",\"\")\n",
    "cars['omv'] = cars['omv'].str.replace(\",\",\"\")"
   ]
  },
  {
   "cell_type": "code",
   "execution_count": 43,
   "metadata": {
    "ExecuteTime": {
     "end_time": "2021-01-25T15:13:47.627251Z",
     "start_time": "2021-01-25T15:13:47.612256Z"
    }
   },
   "outputs": [
    {
     "name": "stderr",
     "output_type": "stream",
     "text": [
      "<ipython-input-43-89fe08849861>:2: FutureWarning: The default value of regex will change from True to False in a future version. In addition, single character regular expressions will*not* be treated as literal strings when regex=True.\n",
      "  cars['road_tax'] = cars['road_tax'].str.replace(\"$\",\"\")\n"
     ]
    }
   ],
   "source": [
    "#removing special characters in road_tax\n",
    "cars['road_tax'] = cars['road_tax'].str.replace(\"$\",\"\")\n",
    "cars['road_tax'] = cars['road_tax'].str.replace(\",\",\"\")\n",
    "cars['road_tax'] = cars.road_tax.str.extract('(\\d+)')"
   ]
  },
  {
   "cell_type": "code",
   "execution_count": 44,
   "metadata": {
    "ExecuteTime": {
     "end_time": "2021-01-25T15:13:47.643174Z",
     "start_time": "2021-01-25T15:13:47.628250Z"
    }
   },
   "outputs": [],
   "source": [
    "#removing special characters in mileage\n",
    "cars['mileage'] = cars['mileage'].str.replace(\",\",\"\")\n",
    "cars['mileage'] = cars.mileage.str.extract('(\\d+)')"
   ]
  },
  {
   "cell_type": "code",
   "execution_count": 45,
   "metadata": {
    "ExecuteTime": {
     "end_time": "2021-01-25T15:13:47.659167Z",
     "start_time": "2021-01-25T15:13:47.644171Z"
    }
   },
   "outputs": [],
   "source": [
    "#removing special characters in category\n",
    "cars['category'] = cars['category'].str.replace(\"Category\\n\",\"\")\n",
    "cars['category'] = cars['category'].str.replace(\" \",\"\")"
   ]
  },
  {
   "cell_type": "code",
   "execution_count": 46,
   "metadata": {
    "ExecuteTime": {
     "end_time": "2021-01-25T15:13:47.674151Z",
     "start_time": "2021-01-25T15:13:47.660165Z"
    }
   },
   "outputs": [
    {
     "data": {
      "text/plain": [
       "1              1817\n",
       "2               637\n",
       "3               296\n",
       "4               174\n",
       "5                77\n",
       "More than 6      29\n",
       "6                25\n",
       "                  1\n",
       "Name: num_owners, dtype: int64"
      ]
     },
     "execution_count": 46,
     "metadata": {},
     "output_type": "execute_result"
    }
   ],
   "source": [
    "#checking for number of owners\n",
    "cars['num_owners'].value_counts()"
   ]
  },
  {
   "cell_type": "markdown",
   "metadata": {},
   "source": [
    "The number of owners above 6 are not specific. Since the number is not large, we can assume it to be an ordinal feature and map `More than 6` as `7`. Let's also remove the value `\\xa0` since it is the only observation."
   ]
  },
  {
   "cell_type": "code",
   "execution_count": 47,
   "metadata": {
    "ExecuteTime": {
     "end_time": "2021-01-25T15:13:47.690107Z",
     "start_time": "2021-01-25T15:13:47.675124Z"
    }
   },
   "outputs": [],
   "source": [
    "#changing number of owners into ordinal features\n",
    "cars['num_owners'] = cars['num_owners'].str.replace(\"More than 6\",\"7\")"
   ]
  },
  {
   "cell_type": "code",
   "execution_count": 48,
   "metadata": {
    "ExecuteTime": {
     "end_time": "2021-01-25T15:13:47.706041Z",
     "start_time": "2021-01-25T15:13:47.691081Z"
    }
   },
   "outputs": [
    {
     "data": {
      "text/html": [
       "<div>\n",
       "<style scoped>\n",
       "    .dataframe tbody tr th:only-of-type {\n",
       "        vertical-align: middle;\n",
       "    }\n",
       "\n",
       "    .dataframe tbody tr th {\n",
       "        vertical-align: top;\n",
       "    }\n",
       "\n",
       "    .dataframe thead th {\n",
       "        text-align: right;\n",
       "    }\n",
       "</style>\n",
       "<table border=\"1\" class=\"dataframe\">\n",
       "  <thead>\n",
       "    <tr style=\"text-align: right;\">\n",
       "      <th></th>\n",
       "      <th>model</th>\n",
       "      <th>price</th>\n",
       "      <th>mileage</th>\n",
       "      <th>road_tax</th>\n",
       "      <th>coe</th>\n",
       "      <th>eng_cap</th>\n",
       "      <th>curb_weight</th>\n",
       "      <th>manufactured</th>\n",
       "      <th>transmission</th>\n",
       "      <th>omv</th>\n",
       "      <th>power</th>\n",
       "      <th>num_owners</th>\n",
       "      <th>type</th>\n",
       "      <th>category</th>\n",
       "      <th>coe_balance_in_months</th>\n",
       "    </tr>\n",
       "  </thead>\n",
       "  <tbody>\n",
       "    <tr>\n",
       "      <th>2534</th>\n",
       "      <td>McLaren 12C Spider</td>\n",
       "      <td>400010</td>\n",
       "      <td>37000</td>\n",
       "      <td>3634</td>\n",
       "      <td>93990</td>\n",
       "      <td>3798</td>\n",
       "      <td>1549</td>\n",
       "      <td>2012</td>\n",
       "      <td>Auto</td>\n",
       "      <td>341402</td>\n",
       "      <td>460</td>\n",
       "      <td></td>\n",
       "      <td>Sports Car</td>\n",
       "      <td>PARFCar,DirectOwnerSale,Rare&amp;Exotic,LowMileageCar</td>\n",
       "      <td>25</td>\n",
       "    </tr>\n",
       "  </tbody>\n",
       "</table>\n",
       "</div>"
      ],
      "text/plain": [
       "                   model    price mileage road_tax    coe eng_cap curb_weight  \\\n",
       "2534  McLaren 12C Spider  400010    37000     3634  93990    3798        1549   \n",
       "\n",
       "     manufactured transmission     omv power num_owners        type  \\\n",
       "2534         2012         Auto  341402   460             Sports Car   \n",
       "\n",
       "                                               category  coe_balance_in_months  \n",
       "2534  PARFCar,DirectOwnerSale,Rare&Exotic,LowMileageCar                     25  "
      ]
     },
     "execution_count": 48,
     "metadata": {},
     "output_type": "execute_result"
    }
   ],
   "source": [
    "#checking for wronly inputted value\n",
    "cars[cars['num_owners'] == '\\xa0']"
   ]
  },
  {
   "cell_type": "code",
   "execution_count": 49,
   "metadata": {
    "ExecuteTime": {
     "end_time": "2021-01-25T15:13:47.721025Z",
     "start_time": "2021-01-25T15:13:47.707005Z"
    }
   },
   "outputs": [],
   "source": [
    "#dropping observation\n",
    "cars.drop(index=2534,inplace=True)"
   ]
  },
  {
   "cell_type": "markdown",
   "metadata": {},
   "source": [
    "The `model` feature also has the car brand as the first word in the string. We can extract that and use as a classification for our `make` feature. The `model` feature will be dropped as well."
   ]
  },
  {
   "cell_type": "code",
   "execution_count": 50,
   "metadata": {
    "ExecuteTime": {
     "end_time": "2021-01-25T15:13:47.736923Z",
     "start_time": "2021-01-25T15:13:47.722008Z"
    }
   },
   "outputs": [],
   "source": [
    "#extracting car make from model\n",
    "cars['make'] = cars['model'].str.split(' ').str[0]\n",
    "cars['make'] = cars['make'].str.lower()"
   ]
  },
  {
   "cell_type": "code",
   "execution_count": 51,
   "metadata": {
    "ExecuteTime": {
     "end_time": "2021-01-25T15:13:47.767878Z",
     "start_time": "2021-01-25T15:13:47.737922Z"
    },
    "scrolled": true
   },
   "outputs": [
    {
     "data": {
      "text/html": [
       "<div>\n",
       "<style scoped>\n",
       "    .dataframe tbody tr th:only-of-type {\n",
       "        vertical-align: middle;\n",
       "    }\n",
       "\n",
       "    .dataframe tbody tr th {\n",
       "        vertical-align: top;\n",
       "    }\n",
       "\n",
       "    .dataframe thead th {\n",
       "        text-align: right;\n",
       "    }\n",
       "</style>\n",
       "<table border=\"1\" class=\"dataframe\">\n",
       "  <thead>\n",
       "    <tr style=\"text-align: right;\">\n",
       "      <th></th>\n",
       "      <th>price</th>\n",
       "      <th>mileage</th>\n",
       "      <th>road_tax</th>\n",
       "      <th>coe</th>\n",
       "      <th>eng_cap</th>\n",
       "      <th>curb_weight</th>\n",
       "      <th>manufactured</th>\n",
       "      <th>transmission</th>\n",
       "      <th>omv</th>\n",
       "      <th>power</th>\n",
       "      <th>num_owners</th>\n",
       "      <th>type</th>\n",
       "      <th>category</th>\n",
       "      <th>coe_balance_in_months</th>\n",
       "      <th>make</th>\n",
       "    </tr>\n",
       "  </thead>\n",
       "  <tbody>\n",
       "    <tr>\n",
       "      <th>0</th>\n",
       "      <td>77800</td>\n",
       "      <td>76600</td>\n",
       "      <td>1082</td>\n",
       "      <td>44002</td>\n",
       "      <td>1496</td>\n",
       "      <td>1350</td>\n",
       "      <td>2017</td>\n",
       "      <td>Auto</td>\n",
       "      <td>25894</td>\n",
       "      <td>85</td>\n",
       "      <td>1</td>\n",
       "      <td>Hatchback</td>\n",
       "      <td>PARFCar</td>\n",
       "      <td>79</td>\n",
       "      <td>bmw</td>\n",
       "    </tr>\n",
       "    <tr>\n",
       "      <th>5</th>\n",
       "      <td>59800</td>\n",
       "      <td>43000</td>\n",
       "      <td>626</td>\n",
       "      <td>51109</td>\n",
       "      <td>1399</td>\n",
       "      <td>1233</td>\n",
       "      <td>2016</td>\n",
       "      <td>Auto</td>\n",
       "      <td>19839</td>\n",
       "      <td>110</td>\n",
       "      <td>2</td>\n",
       "      <td>Hatchback</td>\n",
       "      <td>PARFCar</td>\n",
       "      <td>72</td>\n",
       "      <td>opel</td>\n",
       "    </tr>\n",
       "    <tr>\n",
       "      <th>6</th>\n",
       "      <td>83888</td>\n",
       "      <td>60540</td>\n",
       "      <td>1196</td>\n",
       "      <td>50089</td>\n",
       "      <td>1986</td>\n",
       "      <td>1610</td>\n",
       "      <td>2016</td>\n",
       "      <td>Auto</td>\n",
       "      <td>30993</td>\n",
       "      <td>111</td>\n",
       "      <td>1</td>\n",
       "      <td>SUV</td>\n",
       "      <td>PARFCar,PremiumAdCar</td>\n",
       "      <td>63</td>\n",
       "      <td>toyota</td>\n",
       "    </tr>\n",
       "    <tr>\n",
       "      <th>8</th>\n",
       "      <td>82800</td>\n",
       "      <td>70000</td>\n",
       "      <td>1082</td>\n",
       "      <td>46778</td>\n",
       "      <td>1496</td>\n",
       "      <td>1395</td>\n",
       "      <td>2017</td>\n",
       "      <td>Auto</td>\n",
       "      <td>28674</td>\n",
       "      <td>85</td>\n",
       "      <td>1</td>\n",
       "      <td>Hatchback</td>\n",
       "      <td>PARFCar</td>\n",
       "      <td>80</td>\n",
       "      <td>bmw</td>\n",
       "    </tr>\n",
       "    <tr>\n",
       "      <th>9</th>\n",
       "      <td>91800</td>\n",
       "      <td>60000</td>\n",
       "      <td>1202</td>\n",
       "      <td>76612</td>\n",
       "      <td>1991</td>\n",
       "      <td>1655</td>\n",
       "      <td>2014</td>\n",
       "      <td>Auto</td>\n",
       "      <td>42793</td>\n",
       "      <td>135</td>\n",
       "      <td>2</td>\n",
       "      <td>Luxury Sedan</td>\n",
       "      <td>PARFCar</td>\n",
       "      <td>53</td>\n",
       "      <td>mercedes-benz</td>\n",
       "    </tr>\n",
       "  </tbody>\n",
       "</table>\n",
       "</div>"
      ],
      "text/plain": [
       "    price mileage road_tax    coe eng_cap curb_weight manufactured  \\\n",
       "0  77800    76600     1082  44002    1496        1350         2017   \n",
       "5  59800    43000      626  51109    1399        1233         2016   \n",
       "6  83888    60540     1196  50089    1986        1610         2016   \n",
       "8  82800    70000     1082  46778    1496        1395         2017   \n",
       "9  91800    60000     1202  76612    1991        1655         2014   \n",
       "\n",
       "  transmission    omv power num_owners          type              category  \\\n",
       "0         Auto  25894    85          1     Hatchback               PARFCar   \n",
       "5         Auto  19839   110          2     Hatchback               PARFCar   \n",
       "6         Auto  30993   111          1           SUV  PARFCar,PremiumAdCar   \n",
       "8         Auto  28674    85          1     Hatchback               PARFCar   \n",
       "9         Auto  42793   135          2  Luxury Sedan               PARFCar   \n",
       "\n",
       "   coe_balance_in_months           make  \n",
       "0                     79            bmw  \n",
       "5                     72           opel  \n",
       "6                     63         toyota  \n",
       "8                     80            bmw  \n",
       "9                     53  mercedes-benz  "
      ]
     },
     "execution_count": 51,
     "metadata": {},
     "output_type": "execute_result"
    }
   ],
   "source": [
    "#dropping model column\n",
    "cars.drop(columns='model',inplace=True)\n",
    "#checking dataset\n",
    "cars.head()"
   ]
  },
  {
   "cell_type": "markdown",
   "metadata": {},
   "source": [
    "## Dealing with Data Types"
   ]
  },
  {
   "cell_type": "code",
   "execution_count": 52,
   "metadata": {
    "ExecuteTime": {
     "end_time": "2021-01-25T15:13:47.783852Z",
     "start_time": "2021-01-25T15:13:47.768838Z"
    },
    "scrolled": true
   },
   "outputs": [
    {
     "data": {
      "text/plain": [
       "price                    object\n",
       "mileage                  object\n",
       "road_tax                 object\n",
       "coe                      object\n",
       "eng_cap                  object\n",
       "curb_weight              object\n",
       "manufactured             object\n",
       "transmission             object\n",
       "omv                      object\n",
       "power                    object\n",
       "num_owners               object\n",
       "type                     object\n",
       "category                 object\n",
       "coe_balance_in_months     int32\n",
       "make                     object\n",
       "dtype: object"
      ]
     },
     "execution_count": 52,
     "metadata": {},
     "output_type": "execute_result"
    }
   ],
   "source": [
    "#checking for data types\n",
    "cars.dtypes"
   ]
  },
  {
   "cell_type": "markdown",
   "metadata": {},
   "source": [
    "As we can see from above, the numeric features are still in `object` type. Let's convert them to `integer` before we move on to our Exploratory Data Analysis."
   ]
  },
  {
   "cell_type": "code",
   "execution_count": 53,
   "metadata": {
    "ExecuteTime": {
     "end_time": "2021-01-25T15:13:47.799755Z",
     "start_time": "2021-01-25T15:13:47.784795Z"
    }
   },
   "outputs": [],
   "source": [
    "#converting object type to integer\n",
    "cars['price'] = cars['price'].astype(int)\n",
    "#cars['depreciation'] = cars['depreciation'].astype(int)\n",
    "cars['mileage'] = cars['mileage'].astype(int)\n",
    "cars['road_tax'] = cars['road_tax'].astype(int)\n",
    "cars['coe'] = cars['coe'].astype(int)\n",
    "cars['eng_cap'] = cars['eng_cap'].astype(int)\n",
    "cars['curb_weight'] = cars['curb_weight'].astype(int)\n",
    "cars['manufactured'] = cars['manufactured'].astype(int)\n",
    "cars['omv'] = cars['omv'].astype(int)\n",
    "cars['power'] = cars['power'].astype(int)\n",
    "cars['num_owners'] = cars['num_owners'].astype(int)\n",
    "#cars['age'] = cars['age'].dt.days.astype('int')"
   ]
  },
  {
   "cell_type": "code",
   "execution_count": 54,
   "metadata": {
    "ExecuteTime": {
     "end_time": "2021-01-25T15:13:47.815714Z",
     "start_time": "2021-01-25T15:13:47.800788Z"
    }
   },
   "outputs": [],
   "source": [
    "#setting dataframe view limits\n",
    "pd.set_option('display.max_columns', 81)\n",
    "pd.set_option('display.max_rows', 81)"
   ]
  },
  {
   "cell_type": "code",
   "execution_count": 55,
   "metadata": {
    "ExecuteTime": {
     "end_time": "2021-01-25T15:13:47.831669Z",
     "start_time": "2021-01-25T15:13:47.817708Z"
    }
   },
   "outputs": [
    {
     "data": {
      "text/html": [
       "<div>\n",
       "<style scoped>\n",
       "    .dataframe tbody tr th:only-of-type {\n",
       "        vertical-align: middle;\n",
       "    }\n",
       "\n",
       "    .dataframe tbody tr th {\n",
       "        vertical-align: top;\n",
       "    }\n",
       "\n",
       "    .dataframe thead th {\n",
       "        text-align: right;\n",
       "    }\n",
       "</style>\n",
       "<table border=\"1\" class=\"dataframe\">\n",
       "  <thead>\n",
       "    <tr style=\"text-align: right;\">\n",
       "      <th></th>\n",
       "      <th>price</th>\n",
       "      <th>mileage</th>\n",
       "      <th>road_tax</th>\n",
       "      <th>coe</th>\n",
       "      <th>eng_cap</th>\n",
       "      <th>curb_weight</th>\n",
       "      <th>manufactured</th>\n",
       "      <th>transmission</th>\n",
       "      <th>omv</th>\n",
       "      <th>power</th>\n",
       "      <th>num_owners</th>\n",
       "      <th>type</th>\n",
       "      <th>category</th>\n",
       "      <th>coe_balance_in_months</th>\n",
       "      <th>make</th>\n",
       "    </tr>\n",
       "  </thead>\n",
       "  <tbody>\n",
       "    <tr>\n",
       "      <th>0</th>\n",
       "      <td>77800</td>\n",
       "      <td>76600</td>\n",
       "      <td>1082</td>\n",
       "      <td>44002</td>\n",
       "      <td>1496</td>\n",
       "      <td>1350</td>\n",
       "      <td>2017</td>\n",
       "      <td>Auto</td>\n",
       "      <td>25894</td>\n",
       "      <td>85</td>\n",
       "      <td>1</td>\n",
       "      <td>Hatchback</td>\n",
       "      <td>PARFCar</td>\n",
       "      <td>79</td>\n",
       "      <td>bmw</td>\n",
       "    </tr>\n",
       "    <tr>\n",
       "      <th>5</th>\n",
       "      <td>59800</td>\n",
       "      <td>43000</td>\n",
       "      <td>626</td>\n",
       "      <td>51109</td>\n",
       "      <td>1399</td>\n",
       "      <td>1233</td>\n",
       "      <td>2016</td>\n",
       "      <td>Auto</td>\n",
       "      <td>19839</td>\n",
       "      <td>110</td>\n",
       "      <td>2</td>\n",
       "      <td>Hatchback</td>\n",
       "      <td>PARFCar</td>\n",
       "      <td>72</td>\n",
       "      <td>opel</td>\n",
       "    </tr>\n",
       "    <tr>\n",
       "      <th>6</th>\n",
       "      <td>83888</td>\n",
       "      <td>60540</td>\n",
       "      <td>1196</td>\n",
       "      <td>50089</td>\n",
       "      <td>1986</td>\n",
       "      <td>1610</td>\n",
       "      <td>2016</td>\n",
       "      <td>Auto</td>\n",
       "      <td>30993</td>\n",
       "      <td>111</td>\n",
       "      <td>1</td>\n",
       "      <td>SUV</td>\n",
       "      <td>PARFCar,PremiumAdCar</td>\n",
       "      <td>63</td>\n",
       "      <td>toyota</td>\n",
       "    </tr>\n",
       "    <tr>\n",
       "      <th>8</th>\n",
       "      <td>82800</td>\n",
       "      <td>70000</td>\n",
       "      <td>1082</td>\n",
       "      <td>46778</td>\n",
       "      <td>1496</td>\n",
       "      <td>1395</td>\n",
       "      <td>2017</td>\n",
       "      <td>Auto</td>\n",
       "      <td>28674</td>\n",
       "      <td>85</td>\n",
       "      <td>1</td>\n",
       "      <td>Hatchback</td>\n",
       "      <td>PARFCar</td>\n",
       "      <td>80</td>\n",
       "      <td>bmw</td>\n",
       "    </tr>\n",
       "    <tr>\n",
       "      <th>9</th>\n",
       "      <td>91800</td>\n",
       "      <td>60000</td>\n",
       "      <td>1202</td>\n",
       "      <td>76612</td>\n",
       "      <td>1991</td>\n",
       "      <td>1655</td>\n",
       "      <td>2014</td>\n",
       "      <td>Auto</td>\n",
       "      <td>42793</td>\n",
       "      <td>135</td>\n",
       "      <td>2</td>\n",
       "      <td>Luxury Sedan</td>\n",
       "      <td>PARFCar</td>\n",
       "      <td>53</td>\n",
       "      <td>mercedes-benz</td>\n",
       "    </tr>\n",
       "  </tbody>\n",
       "</table>\n",
       "</div>"
      ],
      "text/plain": [
       "   price  mileage  road_tax    coe  eng_cap  curb_weight  manufactured  \\\n",
       "0  77800    76600      1082  44002     1496         1350          2017   \n",
       "5  59800    43000       626  51109     1399         1233          2016   \n",
       "6  83888    60540      1196  50089     1986         1610          2016   \n",
       "8  82800    70000      1082  46778     1496         1395          2017   \n",
       "9  91800    60000      1202  76612     1991         1655          2014   \n",
       "\n",
       "  transmission    omv  power  num_owners          type              category  \\\n",
       "0         Auto  25894     85           1     Hatchback               PARFCar   \n",
       "5         Auto  19839    110           2     Hatchback               PARFCar   \n",
       "6         Auto  30993    111           1           SUV  PARFCar,PremiumAdCar   \n",
       "8         Auto  28674     85           1     Hatchback               PARFCar   \n",
       "9         Auto  42793    135           2  Luxury Sedan               PARFCar   \n",
       "\n",
       "   coe_balance_in_months           make  \n",
       "0                     79            bmw  \n",
       "5                     72           opel  \n",
       "6                     63         toyota  \n",
       "8                     80            bmw  \n",
       "9                     53  mercedes-benz  "
      ]
     },
     "execution_count": 55,
     "metadata": {},
     "output_type": "execute_result"
    }
   ],
   "source": [
    "#checking for head once more\n",
    "cars.head()"
   ]
  },
  {
   "cell_type": "markdown",
   "metadata": {},
   "source": [
    "# Exploratory Data Analysis"
   ]
  },
  {
   "cell_type": "code",
   "execution_count": 56,
   "metadata": {
    "ExecuteTime": {
     "end_time": "2021-01-25T15:13:47.847688Z",
     "start_time": "2021-01-25T15:13:47.832667Z"
    }
   },
   "outputs": [],
   "source": [
    "#creating function for correlation heatmap\n",
    "def heatmap(df,title):\n",
    "    fix, ax = plt.subplots(figsize=(22,22))\n",
    "\n",
    "    mask = np.zeros_like(df.corr(), dtype=np.bool)\n",
    "    mask[np.triu_indices_from(mask)] = True\n",
    "\n",
    "    ax = sns.heatmap(df.corr(), mask=mask, ax=ax, cmap='coolwarm',vmin=-1, vmax=1,\n",
    "                     square=True, linewidth=1,annot=True,annot_kws={'size':'13'},\n",
    "                     cbar_kws={\"shrink\": 0.8}, fmt='.1g',center=0)\n",
    "\n",
    "    ax.set_xticklabels(ax.xaxis.get_ticklabels(), fontsize=14)\n",
    "    ax.set_yticklabels(ax.yaxis.get_ticklabels(), fontsize=14)\n",
    "\n",
    "    ax.set_title(title, fontsize=22);"
   ]
  },
  {
   "cell_type": "code",
   "execution_count": 57,
   "metadata": {
    "ExecuteTime": {
     "end_time": "2021-01-25T15:13:48.807339Z",
     "start_time": "2021-01-25T15:13:47.849622Z"
    },
    "scrolled": false
   },
   "outputs": [
    {
     "data": {
      "image/png": "[encoded data removed]",
      "text/plain": [
       "<Figure size 1584x1584 with 2 Axes>"
      ]
     },
     "metadata": {
      "needs_background": "light"
     },
     "output_type": "display_data"
    }
   ],
   "source": [
    "#instantiating correlation function for numerical features\n",
    "heatmap(cars,'Correlation Heatmap of Cars Data')"
   ]
  },
  {
   "cell_type": "markdown",
   "metadata": {},
   "source": [
    "From the correlation of the numeric features plotted above, we can already see that there exist some pairwise multicollinearity between features, as highlighted in the darker blue and red shades. These features may affect the performance of our model later. I will be dealing with these multicollinearity in the Feature Engineering portion of this notebook."
   ]
  },
  {
   "cell_type": "code",
   "execution_count": 58,
   "metadata": {
    "ExecuteTime": {
     "end_time": "2021-01-25T15:13:48.823281Z",
     "start_time": "2021-01-25T15:13:48.808310Z"
    }
   },
   "outputs": [],
   "source": [
    "#creating scatter subplot function\n",
    "def subplot_scatter(dataframe, list_of_x, y, list_of_titles):\n",
    "    nrows = int(np.ceil(len(list_of_x)/2))\n",
    "    fig, ax = plt.subplots(nrows=nrows, ncols=2,figsize=(20,40))\n",
    "    ax = ax.ravel()\n",
    "    for i, column in enumerate(list_of_x):\n",
    "        ax[i].scatter(x=dataframe[list_of_x[i]],y=dataframe[y])\n",
    "        ax[i].set_title(list_of_titles[i], fontsize=20,fontweight=\"bold\")\n",
    "        ax[i].set_xlabel('', fontsize=15)\n",
    "        ax[i].set_ylabel(y, fontsize=15)\n",
    "    ax.flat[-1].set_visible(False)\n",
    "    plt.show();"
   ]
  },
  {
   "cell_type": "code",
   "execution_count": 59,
   "metadata": {
    "ExecuteTime": {
     "end_time": "2021-01-25T15:13:51.260706Z",
     "start_time": "2021-01-25T15:13:48.824239Z"
    },
    "scrolled": false
   },
   "outputs": [
    {
     "data": {
      "image/png": "[encoded data removed]",
      "text/plain": [
       "<Figure size 1440x2880 with 14 Axes>"
      ]
     },
     "metadata": {
      "needs_background": "light"
     },
     "output_type": "display_data"
    }
   ],
   "source": [
    "#instantiating subplot for features\n",
    "subplot_scatter(cars, cars.drop(columns=['price','category']).columns, 'price',\n",
    "                cars.drop(columns=['price','category']).columns);"
   ]
  },
  {
   "cell_type": "markdown",
   "metadata": {},
   "source": [
    "The scatter subplots above shows the spread of the observations for each feature with respect to price.\n",
    "\n",
    "Immediately we can see a peculiar distribution for the `manufactured` feature. Let's see the outliers for this feature."
   ]
  },
  {
   "cell_type": "code",
   "execution_count": 60,
   "metadata": {
    "ExecuteTime": {
     "end_time": "2021-01-25T15:13:51.276057Z",
     "start_time": "2021-01-25T15:13:51.261645Z"
    }
   },
   "outputs": [
    {
     "data": {
      "text/html": [
       "<div>\n",
       "<style scoped>\n",
       "    .dataframe tbody tr th:only-of-type {\n",
       "        vertical-align: middle;\n",
       "    }\n",
       "\n",
       "    .dataframe tbody tr th {\n",
       "        vertical-align: top;\n",
       "    }\n",
       "\n",
       "    .dataframe thead th {\n",
       "        text-align: right;\n",
       "    }\n",
       "</style>\n",
       "<table border=\"1\" class=\"dataframe\">\n",
       "  <thead>\n",
       "    <tr style=\"text-align: right;\">\n",
       "      <th></th>\n",
       "      <th>price</th>\n",
       "      <th>mileage</th>\n",
       "      <th>road_tax</th>\n",
       "      <th>coe</th>\n",
       "      <th>eng_cap</th>\n",
       "      <th>curb_weight</th>\n",
       "      <th>manufactured</th>\n",
       "      <th>transmission</th>\n",
       "      <th>omv</th>\n",
       "      <th>power</th>\n",
       "      <th>num_owners</th>\n",
       "      <th>type</th>\n",
       "      <th>category</th>\n",
       "      <th>coe_balance_in_months</th>\n",
       "      <th>make</th>\n",
       "    </tr>\n",
       "  </thead>\n",
       "  <tbody>\n",
       "    <tr>\n",
       "      <th>512</th>\n",
       "      <td>179000</td>\n",
       "      <td>58500</td>\n",
       "      <td>280</td>\n",
       "      <td>7851</td>\n",
       "      <td>6750</td>\n",
       "      <td>2280</td>\n",
       "      <td>1973</td>\n",
       "      <td>Auto</td>\n",
       "      <td>27703</td>\n",
       "      <td>149</td>\n",
       "      <td>6</td>\n",
       "      <td>Luxury Sedan</td>\n",
       "      <td>ImportedUsedVehicle,COECar,Rare&amp;Exotic,LowMile...</td>\n",
       "      <td>34</td>\n",
       "      <td>rolls-royce</td>\n",
       "    </tr>\n",
       "    <tr>\n",
       "      <th>4415</th>\n",
       "      <td>118800</td>\n",
       "      <td>75000</td>\n",
       "      <td>280</td>\n",
       "      <td>4500</td>\n",
       "      <td>6750</td>\n",
       "      <td>2118</td>\n",
       "      <td>1973</td>\n",
       "      <td>Auto</td>\n",
       "      <td>18553</td>\n",
       "      <td>147</td>\n",
       "      <td>1</td>\n",
       "      <td>Luxury Sedan</td>\n",
       "      <td>COECar,Rare&amp;Exotic</td>\n",
       "      <td>87</td>\n",
       "      <td>rolls-royce</td>\n",
       "    </tr>\n",
       "  </tbody>\n",
       "</table>\n",
       "</div>"
      ],
      "text/plain": [
       "       price  mileage  road_tax   coe  eng_cap  curb_weight  manufactured  \\\n",
       "512   179000    58500       280  7851     6750         2280          1973   \n",
       "4415  118800    75000       280  4500     6750         2118          1973   \n",
       "\n",
       "     transmission    omv  power  num_owners          type  \\\n",
       "512          Auto  27703    149           6  Luxury Sedan   \n",
       "4415         Auto  18553    147           1  Luxury Sedan   \n",
       "\n",
       "                                               category  \\\n",
       "512   ImportedUsedVehicle,COECar,Rare&Exotic,LowMile...   \n",
       "4415                                 COECar,Rare&Exotic   \n",
       "\n",
       "      coe_balance_in_months         make  \n",
       "512                      34  rolls-royce  \n",
       "4415                     87  rolls-royce  "
      ]
     },
     "execution_count": 60,
     "metadata": {},
     "output_type": "execute_result"
    }
   ],
   "source": [
    "#checking for manufactured outliers\n",
    "cars[cars['manufactured'] < 2000]"
   ]
  },
  {
   "cell_type": "markdown",
   "metadata": {},
   "source": [
    "Since there are only 2 car listings that are before the year 2000, let's drop these observations so as it would not affect our model."
   ]
  },
  {
   "cell_type": "code",
   "execution_count": 61,
   "metadata": {
    "ExecuteTime": {
     "end_time": "2021-01-25T15:13:51.292053Z",
     "start_time": "2021-01-25T15:13:51.277094Z"
    }
   },
   "outputs": [],
   "source": [
    "#dropping the manufactured outlier\n",
    "cars.drop(index=cars[cars['manufactured'] < 2000].index,inplace=True)"
   ]
  },
  {
   "cell_type": "code",
   "execution_count": 62,
   "metadata": {
    "ExecuteTime": {
     "end_time": "2021-01-25T15:13:51.653050Z",
     "start_time": "2021-01-25T15:13:51.293012Z"
    },
    "scrolled": false
   },
   "outputs": [
    {
     "data": {
      "image/png": "[encoded data removed]",
      "text/plain": [
       "<Figure size 1440x720 with 1 Axes>"
      ]
     },
     "metadata": {
      "needs_background": "light"
     },
     "output_type": "display_data"
    }
   ],
   "source": [
    "#plotting histogram for price\n",
    "plt.figure(figsize=(20,10))\n",
    "plt.hist(cars['price'],bins=200);"
   ]
  },
  {
   "cell_type": "markdown",
   "metadata": {},
   "source": [
    "The distribution is highly postively-skewed. This is something that we may need to address as it would mean that our train data would be high in bias."
   ]
  },
  {
   "cell_type": "code",
   "execution_count": 63,
   "metadata": {
    "ExecuteTime": {
     "end_time": "2021-01-25T15:13:51.668067Z",
     "start_time": "2021-01-25T15:13:51.654061Z"
    }
   },
   "outputs": [
    {
     "data": {
      "text/plain": [
       "toyota           513\n",
       "honda            414\n",
       "mercedes-benz    377\n",
       "bmw              313\n",
       "volkswagen       168\n",
       "audi             156\n",
       "mazda            154\n",
       "hyundai          150\n",
       "nissan           112\n",
       "kia               97\n",
       "mitsubishi        86\n",
       "lexus             66\n",
       "volvo             57\n",
       "subaru            52\n",
       "suzuki            41\n",
       "porsche           36\n",
       "mini              27\n",
       "maserati          23\n",
       "citroen           23\n",
       "peugeot           22\n",
       "land              21\n",
       "opel              18\n",
       "jaguar            18\n",
       "bentley           15\n",
       "chevrolet         14\n",
       "renault           11\n",
       "ferrari           10\n",
       "skoda              8\n",
       "lamborghini        8\n",
       "ford               7\n",
       "infiniti           6\n",
       "jeep               6\n",
       "daihatsu           5\n",
       "rolls-royce        4\n",
       "aston              3\n",
       "lotus              2\n",
       "mclaren            2\n",
       "seat               2\n",
       "ssangyong          2\n",
       "proton             1\n",
       "chery              1\n",
       "saab               1\n",
       "dodge              1\n",
       "Name: make, dtype: int64"
      ]
     },
     "execution_count": 63,
     "metadata": {},
     "output_type": "execute_result"
    }
   ],
   "source": [
    "#checking the value count of the car make\n",
    "cars['make'].value_counts()"
   ]
  },
  {
   "cell_type": "code",
   "execution_count": 64,
   "metadata": {
    "ExecuteTime": {
     "end_time": "2021-01-25T15:13:52.044005Z",
     "start_time": "2021-01-25T15:13:51.669042Z"
    },
    "scrolled": false
   },
   "outputs": [
    {
     "data": {
      "image/png": "[encoded data removed]",
      "text/plain": [
       "<Figure size 1440x720 with 1 Axes>"
      ]
     },
     "metadata": {
      "needs_background": "light"
     },
     "output_type": "display_data"
    }
   ],
   "source": [
    "#plotting bar graph of the makes\n",
    "plt.figure(figsize=(20,10))\n",
    "plt.xticks(rotation='vertical')\n",
    "plt.bar(cars['make'].value_counts().index,cars['make'].value_counts().values);"
   ]
  },
  {
   "cell_type": "markdown",
   "metadata": {},
   "source": [
    "The `make` of cars are concentrated towards the few brands, from `toyota` to `suzuki`. Let's map the rest as `other_makes` and see the distribution with respect to price."
   ]
  },
  {
   "cell_type": "code",
   "execution_count": 65,
   "metadata": {
    "ExecuteTime": {
     "end_time": "2021-01-25T15:13:52.106835Z",
     "start_time": "2021-01-25T15:13:52.045002Z"
    }
   },
   "outputs": [],
   "source": [
    "#mapping the other brands together\n",
    "others_list = ['mini','citroen','peugeot','opel','jaguar', 'saab',\n",
    "               'porsche','maserati','chevrolet','land', 'mclaren',\n",
    "               'renault','skoda','ford','infiniti','jeep', 'lamborghini',\n",
    "               'daihatsu','seat','ssangyong','bentley','lotus', 'ferrari',\n",
    "               'rolls-royce','dodge','aston','chery','proton']\n",
    "\n",
    "for i in others_list:\n",
    "    cars['make'] = cars['make'].str.replace(i,\"other_makes\")"
   ]
  },
  {
   "cell_type": "code",
   "execution_count": 66,
   "metadata": {
    "ExecuteTime": {
     "end_time": "2021-01-25T15:13:52.487079Z",
     "start_time": "2021-01-25T15:13:52.107835Z"
    },
    "scrolled": false
   },
   "outputs": [
    {
     "data": {
      "image/png": "[encoded data removed]",
      "text/plain": [
       "<Figure size 1440x2160 with 1 Axes>"
      ]
     },
     "metadata": {
      "needs_background": "light"
     },
     "output_type": "display_data"
    }
   ],
   "source": [
    "#plotting boxplot for makes\n",
    "plt.figure(figsize=(20,30))\n",
    "sns.boxplot(y='make', x='price', data=cars);"
   ]
  },
  {
   "cell_type": "markdown",
   "metadata": {},
   "source": [
    "As we can see from the above, the majority of the car makes are within within $0 - $150000. The `other_makes` makes up for the right tail end of the price. This may be due to luxury brands that pushes the price of car very very high."
   ]
  },
  {
   "cell_type": "code",
   "execution_count": 67,
   "metadata": {
    "ExecuteTime": {
     "end_time": "2021-01-25T15:13:52.910589Z",
     "start_time": "2021-01-25T15:13:52.487821Z"
    }
   },
   "outputs": [
    {
     "data": {
      "image/png": "[encoded data removed]",
      "text/plain": [
       "<Figure size 1440x720 with 1 Axes>"
      ]
     },
     "metadata": {
      "needs_background": "light"
     },
     "output_type": "display_data"
    }
   ],
   "source": [
    "#plotting histogram of mileage\n",
    "plt.figure(figsize=(20,10))\n",
    "plt.hist(cars['mileage'],bins=200);"
   ]
  },
  {
   "cell_type": "markdown",
   "metadata": {},
   "source": [
    "Similar to the distribution of `price`, `mileage` distribution is highly postively-skewed and is something that we may need to address as it would mean that our train data would be high in bias."
   ]
  },
  {
   "cell_type": "code",
   "execution_count": 68,
   "metadata": {
    "ExecuteTime": {
     "end_time": "2021-01-25T15:13:53.066364Z",
     "start_time": "2021-01-25T15:13:52.915254Z"
    }
   },
   "outputs": [
    {
     "data": {
      "image/png": "[encoded data removed]",
      "text/plain": [
       "<Figure size 1440x360 with 1 Axes>"
      ]
     },
     "metadata": {
      "needs_background": "light"
     },
     "output_type": "display_data"
    }
   ],
   "source": [
    "#plotting bar graph of car types\n",
    "plt.figure(figsize=(20,5))\n",
    "plt.barh(cars['type'].value_counts().index,cars['type'].value_counts().values);"
   ]
  },
  {
   "cell_type": "markdown",
   "metadata": {},
   "source": [
    "The count of the types of vehicles are well distributed except for the `Stationwagon` and `Sports Car`. Let's combine them together to have a better distribution of car types."
   ]
  },
  {
   "cell_type": "code",
   "execution_count": 69,
   "metadata": {
    "ExecuteTime": {
     "end_time": "2021-01-25T15:13:53.081629Z",
     "start_time": "2021-01-25T15:13:53.067361Z"
    }
   },
   "outputs": [],
   "source": [
    "#mapping the types together\n",
    "others_list = ['Stationwagon','Sports Car']\n",
    "\n",
    "for i in others_list:\n",
    "    cars['type'] = cars['type'].str.replace(i,\"other_type\")"
   ]
  },
  {
   "cell_type": "code",
   "execution_count": 70,
   "metadata": {
    "ExecuteTime": {
     "end_time": "2021-01-25T15:13:53.287285Z",
     "start_time": "2021-01-25T15:13:53.083319Z"
    },
    "scrolled": false
   },
   "outputs": [
    {
     "data": {
      "image/png": "[encoded data removed]",
      "text/plain": [
       "<Figure size 1440x720 with 1 Axes>"
      ]
     },
     "metadata": {
      "needs_background": "light"
     },
     "output_type": "display_data"
    }
   ],
   "source": [
    "#plotting boxplot of car types\n",
    "plt.figure(figsize=(20,10))\n",
    "sns.boxplot(y='type', x='price', data=cars);"
   ]
  },
  {
   "cell_type": "markdown",
   "metadata": {},
   "source": [
    "The boxplot of the car types again highlights the skewness of the price. The high prices of `other_types` may probably have been caused by the `Sports Car` that are naturally very high in price."
   ]
  },
  {
   "cell_type": "code",
   "execution_count": 71,
   "metadata": {
    "ExecuteTime": {
     "end_time": "2021-01-25T15:14:14.063177Z",
     "start_time": "2021-01-25T15:14:13.997330Z"
    }
   },
   "outputs": [],
   "source": [
    "#splitting the categories and creating a dummy variable in another dataframe\n",
    "categories = cars['category'].str.get_dummies(',')\n",
    "merge = pd.concat([cars,categories], axis=1)\n",
    "category_names = categories.columns\n",
    "\n",
    "category_count = []\n",
    "for i in category_names:\n",
    "    category_count.append(cars.category.str.count(i).sum())\n",
    "    \n",
    "cat_df = pd.DataFrame()\n",
    "cat_df['cat'] = category_names\n",
    "cat_df['count'] = category_count\n",
    "cat_df.sort_values(by='count',ascending=False,inplace=True)"
   ]
  },
  {
   "cell_type": "code",
   "execution_count": 72,
   "metadata": {
    "ExecuteTime": {
     "end_time": "2021-01-25T15:14:21.729705Z",
     "start_time": "2021-01-25T15:14:21.540217Z"
    }
   },
   "outputs": [
    {
     "data": {
      "image/png": "[encoded data removed]",
      "text/plain": [
       "<Figure size 1440x504 with 1 Axes>"
      ]
     },
     "metadata": {
      "needs_background": "light"
     },
     "output_type": "display_data"
    }
   ],
   "source": [
    "#plotting bar graph of the categories\n",
    "plt.figure(figsize=(20,7))\n",
    "plt.xticks(rotation='vertical')\n",
    "plt.barh(cat_df['cat'],cat_df['count']);"
   ]
  },
  {
   "cell_type": "markdown",
   "metadata": {},
   "source": [
    "The concentration of the cars belong to `COECar`, `LowMileageCar`, `PremiumAdCar` and `PARFCar`. \n",
    "\n",
    "Some of the listings belong to categories that is applicable to the listing services such as `PremiumAdCar`, I will be dropping them as they are not categories that a car owner will be able to know or have.\n",
    "\n",
    "Also, since the number of `HybridCars`,`OPCCar` and `AlmostNewCar` are not large, I will group them together."
   ]
  },
  {
   "cell_type": "code",
   "execution_count": 73,
   "metadata": {
    "ExecuteTime": {
     "end_time": "2021-01-25T15:21:59.384540Z",
     "start_time": "2021-01-25T15:21:59.314048Z"
    }
   },
   "outputs": [],
   "source": [
    "#mapping the features together and reinstantiating the dummy variable\n",
    "others_list = ['HybridCars','OPCCar','AlmostNewCar']\n",
    "\n",
    "for i in others_list:\n",
    "    cars['category'] = cars['category'].str.replace(i,\"other_cat\")\n",
    "\n",
    "categories = cars['category'].str.get_dummies(',')\n",
    "merge = pd.concat([cars,categories], axis=1)\n",
    "category_names = categories.columns\n",
    "\n",
    "category_count = []\n",
    "for i in category_names:\n",
    "    category_count.append(cars.category.str.count(i).sum())\n",
    "    \n",
    "cat_df = pd.DataFrame()\n",
    "cat_df['cat'] = category_names\n",
    "cat_df['count'] = category_count\n",
    "cat_df.sort_values(by='count',ascending=False,inplace=True)"
   ]
  },
  {
   "cell_type": "code",
   "execution_count": 74,
   "metadata": {
    "ExecuteTime": {
     "end_time": "2021-01-25T15:22:01.350653Z",
     "start_time": "2021-01-25T15:22:01.342674Z"
    }
   },
   "outputs": [],
   "source": [
    "#dropping the non-related categories\n",
    "categories.drop(columns=['STAEvaluatedCar','sgCarMartWarrantyCars','ConsignmentCar','DirectOwnerSale',\n",
    "                         'PremiumAdCar','Rare&Exotic','ImportedUsedVehicle','LowMileageCar'],inplace=True)"
   ]
  },
  {
   "cell_type": "code",
   "execution_count": 75,
   "metadata": {
    "ExecuteTime": {
     "end_time": "2021-01-25T15:22:23.293472Z",
     "start_time": "2021-01-25T15:22:23.277515Z"
    }
   },
   "outputs": [
    {
     "data": {
      "text/plain": [
       "Index(['COECar', 'PARFCar', 'other_cat'], dtype='object')"
      ]
     },
     "execution_count": 75,
     "metadata": {},
     "output_type": "execute_result"
    }
   ],
   "source": [
    "categories.columns"
   ]
  },
  {
   "cell_type": "code",
   "execution_count": 76,
   "metadata": {
    "ExecuteTime": {
     "end_time": "2021-01-25T15:24:02.855883Z",
     "start_time": "2021-01-25T15:24:02.389841Z"
    }
   },
   "outputs": [
    {
     "data": {
      "image/png": "[encoded data removed]",
      "text/plain": [
       "<Figure size 1440x360 with 1 Axes>"
      ]
     },
     "metadata": {
      "needs_background": "light"
     },
     "output_type": "display_data"
    },
    {
     "data": {
      "image/png": "[encoded data removed]",
      "text/plain": [
       "<Figure size 1440x360 with 1 Axes>"
      ]
     },
     "metadata": {
      "needs_background": "light"
     },
     "output_type": "display_data"
    },
    {
     "data": {
      "image/png": "[encoded data removed]",
      "text/plain": [
       "<Figure size 1440x360 with 1 Axes>"
      ]
     },
     "metadata": {
      "needs_background": "light"
     },
     "output_type": "display_data"
    }
   ],
   "source": [
    "#plotting boxplot of the categories\n",
    "category_names = categories.columns\n",
    "\n",
    "for column in categories.columns:\n",
    "    merge.boxplot(by=column, column='price',figsize=(20,5),vert=False);"
   ]
  },
  {
   "cell_type": "code",
   "execution_count": 77,
   "metadata": {
    "ExecuteTime": {
     "end_time": "2021-01-25T15:24:44.066271Z",
     "start_time": "2021-01-25T15:24:44.047294Z"
    }
   },
   "outputs": [],
   "source": [
    "#merging the categories with the cars dataframe\n",
    "merge = pd.concat([cars,categories], axis=1)"
   ]
  },
  {
   "cell_type": "code",
   "execution_count": 78,
   "metadata": {
    "ExecuteTime": {
     "end_time": "2021-01-25T15:25:15.933265Z",
     "start_time": "2021-01-25T15:25:15.911308Z"
    }
   },
   "outputs": [],
   "source": [
    "#encoding transmission; Auto:1 Manual:0\n",
    "merge['transmission'] = merge['transmission'].str.get_dummies()"
   ]
  },
  {
   "cell_type": "code",
   "execution_count": 79,
   "metadata": {
    "ExecuteTime": {
     "end_time": "2021-01-25T15:26:00.602015Z",
     "start_time": "2021-01-25T15:26:00.541115Z"
    }
   },
   "outputs": [],
   "source": [
    "#creating dummy variable for other object features\n",
    "make = merge['make'].str.get_dummies()\n",
    "type = merge['type'].str.get_dummies()\n",
    "\n",
    "#merging all together\n",
    "merge = pd.concat([merge,make], axis=1)\n",
    "merge = pd.concat([merge,type], axis=1)"
   ]
  },
  {
   "cell_type": "code",
   "execution_count": 81,
   "metadata": {
    "ExecuteTime": {
     "end_time": "2021-01-25T15:26:59.302963Z",
     "start_time": "2021-01-25T15:26:59.286947Z"
    }
   },
   "outputs": [],
   "source": [
    "#dropping the pre-encoded features\n",
    "merge.drop(columns=['type','category','make'],inplace=True)"
   ]
  },
  {
   "cell_type": "code",
   "execution_count": 82,
   "metadata": {
    "ExecuteTime": {
     "end_time": "2021-01-25T15:27:08.518927Z",
     "start_time": "2021-01-25T15:27:08.496993Z"
    }
   },
   "outputs": [
    {
     "data": {
      "text/html": [
       "<div>\n",
       "<style scoped>\n",
       "    .dataframe tbody tr th:only-of-type {\n",
       "        vertical-align: middle;\n",
       "    }\n",
       "\n",
       "    .dataframe tbody tr th {\n",
       "        vertical-align: top;\n",
       "    }\n",
       "\n",
       "    .dataframe thead th {\n",
       "        text-align: right;\n",
       "    }\n",
       "</style>\n",
       "<table border=\"1\" class=\"dataframe\">\n",
       "  <thead>\n",
       "    <tr style=\"text-align: right;\">\n",
       "      <th></th>\n",
       "      <th>price</th>\n",
       "      <th>mileage</th>\n",
       "      <th>road_tax</th>\n",
       "      <th>coe</th>\n",
       "      <th>eng_cap</th>\n",
       "      <th>curb_weight</th>\n",
       "      <th>manufactured</th>\n",
       "      <th>transmission</th>\n",
       "      <th>omv</th>\n",
       "      <th>power</th>\n",
       "      <th>num_owners</th>\n",
       "      <th>coe_balance_in_months</th>\n",
       "      <th>COECar</th>\n",
       "      <th>PARFCar</th>\n",
       "      <th>other_cat</th>\n",
       "      <th>audi</th>\n",
       "      <th>bmw</th>\n",
       "      <th>honda</th>\n",
       "      <th>hyundai</th>\n",
       "      <th>kia</th>\n",
       "      <th>lexus</th>\n",
       "      <th>mazda</th>\n",
       "      <th>mercedes-benz</th>\n",
       "      <th>mitsubishi</th>\n",
       "      <th>nissan</th>\n",
       "      <th>other_makes</th>\n",
       "      <th>subaru</th>\n",
       "      <th>suzuki</th>\n",
       "      <th>toyota</th>\n",
       "      <th>volkswagen</th>\n",
       "      <th>volvo</th>\n",
       "      <th>Hatchback</th>\n",
       "      <th>Luxury Sedan</th>\n",
       "      <th>MPV</th>\n",
       "      <th>Mid-Sized Sedan</th>\n",
       "      <th>SUV</th>\n",
       "      <th>other_type</th>\n",
       "    </tr>\n",
       "  </thead>\n",
       "  <tbody>\n",
       "    <tr>\n",
       "      <th>0</th>\n",
       "      <td>77800</td>\n",
       "      <td>76600</td>\n",
       "      <td>1082</td>\n",
       "      <td>44002</td>\n",
       "      <td>1496</td>\n",
       "      <td>1350</td>\n",
       "      <td>2017</td>\n",
       "      <td>1</td>\n",
       "      <td>25894</td>\n",
       "      <td>85</td>\n",
       "      <td>1</td>\n",
       "      <td>79</td>\n",
       "      <td>0</td>\n",
       "      <td>1</td>\n",
       "      <td>0</td>\n",
       "      <td>0</td>\n",
       "      <td>1</td>\n",
       "      <td>0</td>\n",
       "      <td>0</td>\n",
       "      <td>0</td>\n",
       "      <td>0</td>\n",
       "      <td>0</td>\n",
       "      <td>0</td>\n",
       "      <td>0</td>\n",
       "      <td>0</td>\n",
       "      <td>0</td>\n",
       "      <td>0</td>\n",
       "      <td>0</td>\n",
       "      <td>0</td>\n",
       "      <td>0</td>\n",
       "      <td>0</td>\n",
       "      <td>1</td>\n",
       "      <td>0</td>\n",
       "      <td>0</td>\n",
       "      <td>0</td>\n",
       "      <td>0</td>\n",
       "      <td>0</td>\n",
       "    </tr>\n",
       "    <tr>\n",
       "      <th>5</th>\n",
       "      <td>59800</td>\n",
       "      <td>43000</td>\n",
       "      <td>626</td>\n",
       "      <td>51109</td>\n",
       "      <td>1399</td>\n",
       "      <td>1233</td>\n",
       "      <td>2016</td>\n",
       "      <td>1</td>\n",
       "      <td>19839</td>\n",
       "      <td>110</td>\n",
       "      <td>2</td>\n",
       "      <td>72</td>\n",
       "      <td>0</td>\n",
       "      <td>1</td>\n",
       "      <td>0</td>\n",
       "      <td>0</td>\n",
       "      <td>0</td>\n",
       "      <td>0</td>\n",
       "      <td>0</td>\n",
       "      <td>0</td>\n",
       "      <td>0</td>\n",
       "      <td>0</td>\n",
       "      <td>0</td>\n",
       "      <td>0</td>\n",
       "      <td>0</td>\n",
       "      <td>1</td>\n",
       "      <td>0</td>\n",
       "      <td>0</td>\n",
       "      <td>0</td>\n",
       "      <td>0</td>\n",
       "      <td>0</td>\n",
       "      <td>1</td>\n",
       "      <td>0</td>\n",
       "      <td>0</td>\n",
       "      <td>0</td>\n",
       "      <td>0</td>\n",
       "      <td>0</td>\n",
       "    </tr>\n",
       "    <tr>\n",
       "      <th>6</th>\n",
       "      <td>83888</td>\n",
       "      <td>60540</td>\n",
       "      <td>1196</td>\n",
       "      <td>50089</td>\n",
       "      <td>1986</td>\n",
       "      <td>1610</td>\n",
       "      <td>2016</td>\n",
       "      <td>1</td>\n",
       "      <td>30993</td>\n",
       "      <td>111</td>\n",
       "      <td>1</td>\n",
       "      <td>63</td>\n",
       "      <td>0</td>\n",
       "      <td>1</td>\n",
       "      <td>0</td>\n",
       "      <td>0</td>\n",
       "      <td>0</td>\n",
       "      <td>0</td>\n",
       "      <td>0</td>\n",
       "      <td>0</td>\n",
       "      <td>0</td>\n",
       "      <td>0</td>\n",
       "      <td>0</td>\n",
       "      <td>0</td>\n",
       "      <td>0</td>\n",
       "      <td>0</td>\n",
       "      <td>0</td>\n",
       "      <td>0</td>\n",
       "      <td>1</td>\n",
       "      <td>0</td>\n",
       "      <td>0</td>\n",
       "      <td>0</td>\n",
       "      <td>0</td>\n",
       "      <td>0</td>\n",
       "      <td>0</td>\n",
       "      <td>1</td>\n",
       "      <td>0</td>\n",
       "    </tr>\n",
       "    <tr>\n",
       "      <th>8</th>\n",
       "      <td>82800</td>\n",
       "      <td>70000</td>\n",
       "      <td>1082</td>\n",
       "      <td>46778</td>\n",
       "      <td>1496</td>\n",
       "      <td>1395</td>\n",
       "      <td>2017</td>\n",
       "      <td>1</td>\n",
       "      <td>28674</td>\n",
       "      <td>85</td>\n",
       "      <td>1</td>\n",
       "      <td>80</td>\n",
       "      <td>0</td>\n",
       "      <td>1</td>\n",
       "      <td>0</td>\n",
       "      <td>0</td>\n",
       "      <td>1</td>\n",
       "      <td>0</td>\n",
       "      <td>0</td>\n",
       "      <td>0</td>\n",
       "      <td>0</td>\n",
       "      <td>0</td>\n",
       "      <td>0</td>\n",
       "      <td>0</td>\n",
       "      <td>0</td>\n",
       "      <td>0</td>\n",
       "      <td>0</td>\n",
       "      <td>0</td>\n",
       "      <td>0</td>\n",
       "      <td>0</td>\n",
       "      <td>0</td>\n",
       "      <td>1</td>\n",
       "      <td>0</td>\n",
       "      <td>0</td>\n",
       "      <td>0</td>\n",
       "      <td>0</td>\n",
       "      <td>0</td>\n",
       "    </tr>\n",
       "    <tr>\n",
       "      <th>9</th>\n",
       "      <td>91800</td>\n",
       "      <td>60000</td>\n",
       "      <td>1202</td>\n",
       "      <td>76612</td>\n",
       "      <td>1991</td>\n",
       "      <td>1655</td>\n",
       "      <td>2014</td>\n",
       "      <td>1</td>\n",
       "      <td>42793</td>\n",
       "      <td>135</td>\n",
       "      <td>2</td>\n",
       "      <td>53</td>\n",
       "      <td>0</td>\n",
       "      <td>1</td>\n",
       "      <td>0</td>\n",
       "      <td>0</td>\n",
       "      <td>0</td>\n",
       "      <td>0</td>\n",
       "      <td>0</td>\n",
       "      <td>0</td>\n",
       "      <td>0</td>\n",
       "      <td>0</td>\n",
       "      <td>1</td>\n",
       "      <td>0</td>\n",
       "      <td>0</td>\n",
       "      <td>0</td>\n",
       "      <td>0</td>\n",
       "      <td>0</td>\n",
       "      <td>0</td>\n",
       "      <td>0</td>\n",
       "      <td>0</td>\n",
       "      <td>0</td>\n",
       "      <td>1</td>\n",
       "      <td>0</td>\n",
       "      <td>0</td>\n",
       "      <td>0</td>\n",
       "      <td>0</td>\n",
       "    </tr>\n",
       "  </tbody>\n",
       "</table>\n",
       "</div>"
      ],
      "text/plain": [
       "   price  mileage  road_tax    coe  eng_cap  curb_weight  manufactured  \\\n",
       "0  77800    76600      1082  44002     1496         1350          2017   \n",
       "5  59800    43000       626  51109     1399         1233          2016   \n",
       "6  83888    60540      1196  50089     1986         1610          2016   \n",
       "8  82800    70000      1082  46778     1496         1395          2017   \n",
       "9  91800    60000      1202  76612     1991         1655          2014   \n",
       "\n",
       "   transmission    omv  power  num_owners  coe_balance_in_months  COECar  \\\n",
       "0             1  25894     85           1                     79       0   \n",
       "5             1  19839    110           2                     72       0   \n",
       "6             1  30993    111           1                     63       0   \n",
       "8             1  28674     85           1                     80       0   \n",
       "9             1  42793    135           2                     53       0   \n",
       "\n",
       "   PARFCar  other_cat  audi  bmw  honda  hyundai  kia  lexus  mazda  \\\n",
       "0        1          0     0    1      0        0    0      0      0   \n",
       "5        1          0     0    0      0        0    0      0      0   \n",
       "6        1          0     0    0      0        0    0      0      0   \n",
       "8        1          0     0    1      0        0    0      0      0   \n",
       "9        1          0     0    0      0        0    0      0      0   \n",
       "\n",
       "   mercedes-benz  mitsubishi  nissan  other_makes  subaru  suzuki  toyota  \\\n",
       "0              0           0       0            0       0       0       0   \n",
       "5              0           0       0            1       0       0       0   \n",
       "6              0           0       0            0       0       0       1   \n",
       "8              0           0       0            0       0       0       0   \n",
       "9              1           0       0            0       0       0       0   \n",
       "\n",
       "   volkswagen  volvo  Hatchback  Luxury Sedan  MPV  Mid-Sized Sedan  SUV  \\\n",
       "0           0      0          1             0    0                0    0   \n",
       "5           0      0          1             0    0                0    0   \n",
       "6           0      0          0             0    0                0    1   \n",
       "8           0      0          1             0    0                0    0   \n",
       "9           0      0          0             1    0                0    0   \n",
       "\n",
       "   other_type  \n",
       "0           0  \n",
       "5           0  \n",
       "6           0  \n",
       "8           0  \n",
       "9           0  "
      ]
     },
     "execution_count": 82,
     "metadata": {},
     "output_type": "execute_result"
    }
   ],
   "source": [
    "#checking for merge dataframe\n",
    "merge.head()"
   ]
  },
  {
   "cell_type": "markdown",
   "metadata": {},
   "source": [
    "# Feature Engineering"
   ]
  },
  {
   "cell_type": "markdown",
   "metadata": {},
   "source": [
    "From what we saw in the previous section, we can already see that pairwise multi-collinearity exists between the features. Let's take a look once more and deal with this."
   ]
  },
  {
   "cell_type": "code",
   "execution_count": 83,
   "metadata": {
    "ExecuteTime": {
     "end_time": "2021-01-25T15:29:51.694306Z",
     "start_time": "2021-01-25T15:29:51.662393Z"
    }
   },
   "outputs": [
    {
     "data": {
      "text/html": [
       "<div>\n",
       "<style scoped>\n",
       "    .dataframe tbody tr th:only-of-type {\n",
       "        vertical-align: middle;\n",
       "    }\n",
       "\n",
       "    .dataframe tbody tr th {\n",
       "        vertical-align: top;\n",
       "    }\n",
       "\n",
       "    .dataframe thead th {\n",
       "        text-align: right;\n",
       "    }\n",
       "</style>\n",
       "<table border=\"1\" class=\"dataframe\">\n",
       "  <thead>\n",
       "    <tr style=\"text-align: right;\">\n",
       "      <th></th>\n",
       "      <th>price</th>\n",
       "      <th>mileage</th>\n",
       "      <th>road_tax</th>\n",
       "      <th>coe</th>\n",
       "      <th>eng_cap</th>\n",
       "      <th>curb_weight</th>\n",
       "      <th>manufactured</th>\n",
       "      <th>transmission</th>\n",
       "      <th>omv</th>\n",
       "      <th>power</th>\n",
       "      <th>num_owners</th>\n",
       "      <th>coe_balance_in_months</th>\n",
       "      <th>COECar</th>\n",
       "      <th>PARFCar</th>\n",
       "      <th>other_cat</th>\n",
       "      <th>audi</th>\n",
       "      <th>bmw</th>\n",
       "      <th>honda</th>\n",
       "      <th>hyundai</th>\n",
       "      <th>kia</th>\n",
       "      <th>lexus</th>\n",
       "      <th>mazda</th>\n",
       "      <th>mercedes-benz</th>\n",
       "      <th>mitsubishi</th>\n",
       "      <th>nissan</th>\n",
       "      <th>other_makes</th>\n",
       "      <th>subaru</th>\n",
       "      <th>suzuki</th>\n",
       "      <th>toyota</th>\n",
       "      <th>volkswagen</th>\n",
       "      <th>volvo</th>\n",
       "      <th>Hatchback</th>\n",
       "      <th>Luxury Sedan</th>\n",
       "      <th>MPV</th>\n",
       "      <th>Mid-Sized Sedan</th>\n",
       "      <th>SUV</th>\n",
       "      <th>other_type</th>\n",
       "    </tr>\n",
       "  </thead>\n",
       "  <tbody>\n",
       "    <tr>\n",
       "      <th>price</th>\n",
       "      <td>1.0</td>\n",
       "      <td>-0.415907</td>\n",
       "      <td>0.584121</td>\n",
       "      <td>0.126684</td>\n",
       "      <td>0.632005</td>\n",
       "      <td>0.525336</td>\n",
       "      <td>0.314206</td>\n",
       "      <td>0.020159</td>\n",
       "      <td>0.805053</td>\n",
       "      <td>0.783103</td>\n",
       "      <td>-0.108371</td>\n",
       "      <td>0.313873</td>\n",
       "      <td>-0.230226</td>\n",
       "      <td>0.230226</td>\n",
       "      <td>0.152279</td>\n",
       "      <td>0.071786</td>\n",
       "      <td>0.118593</td>\n",
       "      <td>-0.151455</td>\n",
       "      <td>-0.100471</td>\n",
       "      <td>-0.074522</td>\n",
       "      <td>0.060498</td>\n",
       "      <td>-0.071457</td>\n",
       "      <td>0.136193</td>\n",
       "      <td>-0.075036</td>\n",
       "      <td>-0.053997</td>\n",
       "      <td>0.331428</td>\n",
       "      <td>-0.037997</td>\n",
       "      <td>-0.064092</td>\n",
       "      <td>-0.13286</td>\n",
       "      <td>-0.065773</td>\n",
       "      <td>-0.013211</td>\n",
       "      <td>-0.13565</td>\n",
       "      <td>0.111905</td>\n",
       "      <td>-0.083175</td>\n",
       "      <td>-0.237263</td>\n",
       "      <td>0.063786</td>\n",
       "      <td>0.303136</td>\n",
       "    </tr>\n",
       "  </tbody>\n",
       "</table>\n",
       "</div>"
      ],
      "text/plain": [
       "       price   mileage  road_tax       coe   eng_cap  curb_weight  \\\n",
       "price    1.0 -0.415907  0.584121  0.126684  0.632005     0.525336   \n",
       "\n",
       "       manufactured  transmission       omv     power  num_owners  \\\n",
       "price      0.314206      0.020159  0.805053  0.783103   -0.108371   \n",
       "\n",
       "       coe_balance_in_months    COECar   PARFCar  other_cat      audi  \\\n",
       "price               0.313873 -0.230226  0.230226   0.152279  0.071786   \n",
       "\n",
       "            bmw     honda   hyundai       kia     lexus     mazda  \\\n",
       "price  0.118593 -0.151455 -0.100471 -0.074522  0.060498 -0.071457   \n",
       "\n",
       "       mercedes-benz  mitsubishi    nissan  other_makes    subaru    suzuki  \\\n",
       "price       0.136193   -0.075036 -0.053997     0.331428 -0.037997 -0.064092   \n",
       "\n",
       "        toyota  volkswagen     volvo  Hatchback  Luxury Sedan       MPV  \\\n",
       "price -0.13286   -0.065773 -0.013211   -0.13565      0.111905 -0.083175   \n",
       "\n",
       "       Mid-Sized Sedan       SUV  other_type  \n",
       "price        -0.237263  0.063786    0.303136  "
      ]
     },
     "execution_count": 83,
     "metadata": {},
     "output_type": "execute_result"
    }
   ],
   "source": [
    "#getting the correlation of features with respect to price\n",
    "feature_correlation = merge.corr()\n",
    "feature_correlation[feature_correlation.index == 'price']"
   ]
  },
  {
   "cell_type": "code",
   "execution_count": 85,
   "metadata": {
    "ExecuteTime": {
     "end_time": "2021-01-25T15:29:58.751974Z",
     "start_time": "2021-01-25T15:29:58.722991Z"
    }
   },
   "outputs": [
    {
     "data": {
      "text/html": [
       "<div>\n",
       "<style scoped>\n",
       "    .dataframe tbody tr th:only-of-type {\n",
       "        vertical-align: middle;\n",
       "    }\n",
       "\n",
       "    .dataframe tbody tr th {\n",
       "        vertical-align: top;\n",
       "    }\n",
       "\n",
       "    .dataframe thead th {\n",
       "        text-align: right;\n",
       "    }\n",
       "</style>\n",
       "<table border=\"1\" class=\"dataframe\">\n",
       "  <thead>\n",
       "    <tr style=\"text-align: right;\">\n",
       "      <th></th>\n",
       "      <th>Feature1</th>\n",
       "      <th>Feature 2</th>\n",
       "      <th>Correlations</th>\n",
       "    </tr>\n",
       "  </thead>\n",
       "  <tbody>\n",
       "    <tr>\n",
       "      <th>3</th>\n",
       "      <td>road_tax</td>\n",
       "      <td>eng_cap</td>\n",
       "      <td>0.965170</td>\n",
       "    </tr>\n",
       "    <tr>\n",
       "      <th>8</th>\n",
       "      <td>eng_cap</td>\n",
       "      <td>power</td>\n",
       "      <td>0.892476</td>\n",
       "    </tr>\n",
       "    <tr>\n",
       "      <th>15</th>\n",
       "      <td>omv</td>\n",
       "      <td>power</td>\n",
       "      <td>0.860715</td>\n",
       "    </tr>\n",
       "    <tr>\n",
       "      <th>11</th>\n",
       "      <td>manufactured</td>\n",
       "      <td>PARFCar</td>\n",
       "      <td>0.854696</td>\n",
       "    </tr>\n",
       "    <tr>\n",
       "      <th>5</th>\n",
       "      <td>road_tax</td>\n",
       "      <td>power</td>\n",
       "      <td>0.845927</td>\n",
       "    </tr>\n",
       "    <tr>\n",
       "      <th>4</th>\n",
       "      <td>road_tax</td>\n",
       "      <td>omv</td>\n",
       "      <td>0.825436</td>\n",
       "    </tr>\n",
       "    <tr>\n",
       "      <th>7</th>\n",
       "      <td>eng_cap</td>\n",
       "      <td>omv</td>\n",
       "      <td>0.816012</td>\n",
       "    </tr>\n",
       "    <tr>\n",
       "      <th>0</th>\n",
       "      <td>price</td>\n",
       "      <td>omv</td>\n",
       "      <td>0.805053</td>\n",
       "    </tr>\n",
       "    <tr>\n",
       "      <th>1</th>\n",
       "      <td>price</td>\n",
       "      <td>power</td>\n",
       "      <td>0.783103</td>\n",
       "    </tr>\n",
       "    <tr>\n",
       "      <th>2</th>\n",
       "      <td>mileage</td>\n",
       "      <td>manufactured</td>\n",
       "      <td>-0.822208</td>\n",
       "    </tr>\n",
       "    <tr>\n",
       "      <th>10</th>\n",
       "      <td>manufactured</td>\n",
       "      <td>COECar</td>\n",
       "      <td>-0.854696</td>\n",
       "    </tr>\n",
       "    <tr>\n",
       "      <th>21</th>\n",
       "      <td>COECar</td>\n",
       "      <td>PARFCar</td>\n",
       "      <td>-1.000000</td>\n",
       "    </tr>\n",
       "  </tbody>\n",
       "</table>\n",
       "</div>"
      ],
      "text/plain": [
       "        Feature1     Feature 2  Correlations\n",
       "3       road_tax       eng_cap      0.965170\n",
       "8        eng_cap         power      0.892476\n",
       "15           omv         power      0.860715\n",
       "11  manufactured       PARFCar      0.854696\n",
       "5       road_tax         power      0.845927\n",
       "4       road_tax           omv      0.825436\n",
       "7        eng_cap           omv      0.816012\n",
       "0          price           omv      0.805053\n",
       "1          price         power      0.783103\n",
       "2        mileage  manufactured     -0.822208\n",
       "10  manufactured        COECar     -0.854696\n",
       "21        COECar       PARFCar     -1.000000"
      ]
     },
     "execution_count": 85,
     "metadata": {},
     "output_type": "execute_result"
    }
   ],
   "source": [
    "#setting the cut_off of these features and put them in a table.\n",
    "cut_off = 0.7\n",
    "high_corrs = feature_correlation[feature_correlation.abs() > cut_off][feature_correlation.abs() != 1].unstack().dropna().to_dict()\n",
    "high_corrs = pd.Series(high_corrs, index = high_corrs.keys())\n",
    "high_corrs = high_corrs.reset_index()\n",
    "high_corrs = pd.DataFrame(high_corrs)\n",
    "high_corrs.columns = ['Feature1', 'Feature 2','Correlations']\n",
    "high_corrs['Correlations'] = high_corrs['Correlations'].drop_duplicates(keep ='first')\n",
    "high_corrs = high_corrs.dropna().sort_values(by = 'Correlations', ascending = False)\n",
    "high_corrs"
   ]
  },
  {
   "cell_type": "markdown",
   "metadata": {
    "ExecuteTime": {
     "end_time": "2021-01-25T13:19:50.628690Z",
     "start_time": "2021-01-25T13:19:50.613730Z"
    }
   },
   "source": [
    "From the above table, there are some prominent features that has a high Pairwise Multi-Collinearity, such as `road_tax`, `eng_cap`, `power` and `omv`. I will be dropping the features that has a lower correlation to price."
   ]
  },
  {
   "cell_type": "code",
   "execution_count": 86,
   "metadata": {
    "ExecuteTime": {
     "end_time": "2021-01-25T15:32:59.787639Z",
     "start_time": "2021-01-25T15:32:59.783614Z"
    }
   },
   "outputs": [],
   "source": [
    "#dropping the features\n",
    "merge.drop(columns=['road_tax','eng_cap','power'],inplace=True)"
   ]
  },
  {
   "cell_type": "code",
   "execution_count": 88,
   "metadata": {
    "ExecuteTime": {
     "end_time": "2021-01-25T15:33:35.766225Z",
     "start_time": "2021-01-25T15:33:35.733313Z"
    }
   },
   "outputs": [
    {
     "data": {
      "text/html": [
       "<div>\n",
       "<style scoped>\n",
       "    .dataframe tbody tr th:only-of-type {\n",
       "        vertical-align: middle;\n",
       "    }\n",
       "\n",
       "    .dataframe tbody tr th {\n",
       "        vertical-align: top;\n",
       "    }\n",
       "\n",
       "    .dataframe thead th {\n",
       "        text-align: right;\n",
       "    }\n",
       "</style>\n",
       "<table border=\"1\" class=\"dataframe\">\n",
       "  <thead>\n",
       "    <tr style=\"text-align: right;\">\n",
       "      <th></th>\n",
       "      <th>Feature1</th>\n",
       "      <th>Feature 2</th>\n",
       "      <th>Correlations</th>\n",
       "    </tr>\n",
       "  </thead>\n",
       "  <tbody>\n",
       "    <tr>\n",
       "      <th>4</th>\n",
       "      <td>manufactured</td>\n",
       "      <td>PARFCar</td>\n",
       "      <td>0.854696</td>\n",
       "    </tr>\n",
       "    <tr>\n",
       "      <th>0</th>\n",
       "      <td>price</td>\n",
       "      <td>omv</td>\n",
       "      <td>0.805053</td>\n",
       "    </tr>\n",
       "    <tr>\n",
       "      <th>1</th>\n",
       "      <td>mileage</td>\n",
       "      <td>manufactured</td>\n",
       "      <td>-0.822208</td>\n",
       "    </tr>\n",
       "    <tr>\n",
       "      <th>3</th>\n",
       "      <td>manufactured</td>\n",
       "      <td>COECar</td>\n",
       "      <td>-0.854696</td>\n",
       "    </tr>\n",
       "    <tr>\n",
       "      <th>7</th>\n",
       "      <td>COECar</td>\n",
       "      <td>PARFCar</td>\n",
       "      <td>-1.000000</td>\n",
       "    </tr>\n",
       "  </tbody>\n",
       "</table>\n",
       "</div>"
      ],
      "text/plain": [
       "       Feature1     Feature 2  Correlations\n",
       "4  manufactured       PARFCar      0.854696\n",
       "0         price           omv      0.805053\n",
       "1       mileage  manufactured     -0.822208\n",
       "3  manufactured        COECar     -0.854696\n",
       "7        COECar       PARFCar     -1.000000"
      ]
     },
     "execution_count": 88,
     "metadata": {},
     "output_type": "execute_result"
    }
   ],
   "source": [
    "#checking the multi-collinearity once more\n",
    "feature_correlation = merge.corr()\n",
    "cut_off = 0.7\n",
    "high_corrs = feature_correlation[feature_correlation.abs() > cut_off][feature_correlation.abs() != 1].unstack().dropna().to_dict()\n",
    "high_corrs = pd.Series(high_corrs, index = high_corrs.keys())\n",
    "high_corrs = high_corrs.reset_index()\n",
    "high_corrs = pd.DataFrame(high_corrs)\n",
    "high_corrs.columns = ['Feature1', 'Feature 2','Correlations']\n",
    "high_corrs['Correlations'] = high_corrs['Correlations'].drop_duplicates(keep ='first')\n",
    "high_corrs = high_corrs.dropna().sort_values(by = 'Correlations', ascending = False)\n",
    "high_corrs"
   ]
  },
  {
   "cell_type": "markdown",
   "metadata": {
    "ExecuteTime": {
     "end_time": "2021-01-25T13:19:50.690525Z",
     "start_time": "2021-01-25T13:19:50.675565Z"
    }
   },
   "source": [
    "Again, I will be dropping the feature with a lower correlation to price."
   ]
  },
  {
   "cell_type": "code",
   "execution_count": 89,
   "metadata": {
    "ExecuteTime": {
     "end_time": "2021-01-25T15:34:39.551221Z",
     "start_time": "2021-01-25T15:34:39.541219Z"
    }
   },
   "outputs": [],
   "source": [
    "#dropping feature\n",
    "merge.drop(columns=['manufactured'],inplace=True)"
   ]
  },
  {
   "cell_type": "markdown",
   "metadata": {},
   "source": [
    "# Data Modelling"
   ]
  },
  {
   "cell_type": "code",
   "execution_count": 90,
   "metadata": {
    "ExecuteTime": {
     "end_time": "2021-01-25T15:36:53.917519Z",
     "start_time": "2021-01-25T15:36:53.189359Z"
    }
   },
   "outputs": [],
   "source": [
    "#impporting packages for modelling\n",
    "import scipy.stats as stats\n",
    "\n",
    "from scipy.stats import pearsonr\n",
    "from sklearn.linear_model import Lasso, LinearRegression, LassoCV\n",
    "from sklearn import metrics\n",
    "from sklearn.preprocessing import StandardScaler\n",
    "from sklearn.model_selection import train_test_split, cross_val_score, GridSearchCV\n",
    "from sklearn.metrics import mean_squared_error\n",
    "from sklearn.svm import SVR\n",
    "from sklearn.ensemble import GradientBoostingRegressor, RandomForestRegressor"
   ]
  },
  {
   "cell_type": "code",
   "execution_count": 91,
   "metadata": {
    "ExecuteTime": {
     "end_time": "2021-01-25T15:37:09.456998Z",
     "start_time": "2021-01-25T15:37:09.445025Z"
    }
   },
   "outputs": [],
   "source": [
    "#setting target variables and features for our model\n",
    "X = merge.drop(columns=['price'])\n",
    "y = merge['price']"
   ]
  },
  {
   "cell_type": "code",
   "execution_count": 92,
   "metadata": {
    "ExecuteTime": {
     "end_time": "2021-01-25T15:37:24.301614Z",
     "start_time": "2021-01-25T15:37:24.293576Z"
    }
   },
   "outputs": [],
   "source": [
    "#splitting dataset between train and test\n",
    "Xtrain,Xtest,ytrain,ytest = train_test_split(X,y,test_size=0.33, random_state=42)"
   ]
  },
  {
   "cell_type": "markdown",
   "metadata": {},
   "source": [
    "## Linear Regression"
   ]
  },
  {
   "cell_type": "code",
   "execution_count": 93,
   "metadata": {
    "ExecuteTime": {
     "end_time": "2021-01-25T15:37:26.112643Z",
     "start_time": "2021-01-25T15:37:26.092693Z"
    }
   },
   "outputs": [
    {
     "data": {
      "text/plain": [
       "LinearRegression()"
      ]
     },
     "execution_count": 93,
     "metadata": {},
     "output_type": "execute_result"
    }
   ],
   "source": [
    "#instantiating our Linear Regression model\n",
    "lr = LinearRegression()\n",
    "lr.fit(Xtrain,ytrain)"
   ]
  },
  {
   "cell_type": "code",
   "execution_count": 96,
   "metadata": {
    "ExecuteTime": {
     "end_time": "2021-01-25T15:38:30.622762Z",
     "start_time": "2021-01-25T15:38:30.236795Z"
    },
    "scrolled": false
   },
   "outputs": [
    {
     "data": {
      "image/png": "[encoded data removed]",
      "text/plain": [
       "<Figure size 1008x1440 with 1 Axes>"
      ]
     },
     "metadata": {
      "needs_background": "light"
     },
     "output_type": "display_data"
    }
   ],
   "source": [
    "#plotting feature coefficient\n",
    "features = [col for col in merge._get_numeric_data().columns if col !='price']\n",
    "feature_lr_coef = pd.DataFrame({'feature':features,'coef':lr.coef_, 'abscoef' :np.abs(lr.coef_)})\n",
    "feature_lr_coef.sort_values('abscoef', inplace=True, ascending=False)\n",
    "plt.figure(figsize=(14,20))\n",
    "sns.barplot(y='feature',x='coef', data=feature_lr_coef, palette='GnBu_d');"
   ]
  },
  {
   "cell_type": "code",
   "execution_count": 97,
   "metadata": {
    "ExecuteTime": {
     "end_time": "2021-01-25T15:38:39.333668Z",
     "start_time": "2021-01-25T15:38:39.284834Z"
    }
   },
   "outputs": [
    {
     "name": "stdout",
     "output_type": "stream",
     "text": [
      "Linear Model\n",
      "Train R^2 Score: 0.7983\n",
      "Test R^2 Score: 0.8377\n",
      "Cross Validated Train R^2 Score: 0.7713\n",
      "RMSE: 28840.461718291113\n"
     ]
    }
   ],
   "source": [
    "print('Linear Model')\n",
    "\n",
    "#Train R2 score\n",
    "lr_train_r2 = lr.score(Xtrain,ytrain)\n",
    "print('Train R^2 Score: {}'.format(lr_train_r2.round(4)))\n",
    "\n",
    "#Test R2 score\n",
    "lr_test_r2 = lr.score(Xtest,ytest)\n",
    "print('Test R^2 Score: {}'.format(lr_test_r2.round(4)))\n",
    "\n",
    "#Cross Validated R2 Score\n",
    "lr_cross_val_r2 = cross_val_score(lr, Xtrain, ytrain, cv=5).mean()\n",
    "print('Cross Validated Train R^2 Score: {}'.format(lr_cross_val_r2.round(4)))\n",
    "\n",
    "#RMSE\n",
    "lr_pred = lr.predict(Xtest)\n",
    "lr_rmse = np.sqrt(mean_squared_error(ytest,lr_pred))\n",
    "print('RMSE: {}'.format(lr_rmse))"
   ]
  },
  {
   "cell_type": "markdown",
   "metadata": {},
   "source": [
    "## Lasso Regression"
   ]
  },
  {
   "cell_type": "code",
   "execution_count": 98,
   "metadata": {
    "ExecuteTime": {
     "end_time": "2021-01-25T15:41:00.553737Z",
     "start_time": "2021-01-25T15:41:00.541776Z"
    }
   },
   "outputs": [],
   "source": [
    "#scaling the variables for lasso\n",
    "ss = StandardScaler()\n",
    "\n",
    "Xstrain = ss.fit_transform(Xtrain)\n",
    "Xstest = ss.transform(Xtest)"
   ]
  },
  {
   "cell_type": "code",
   "execution_count": 99,
   "metadata": {
    "ExecuteTime": {
     "end_time": "2021-01-25T15:41:01.820869Z",
     "start_time": "2021-01-25T15:41:01.516338Z"
    }
   },
   "outputs": [
    {
     "name": "stderr",
     "output_type": "stream",
     "text": [
      "[Parallel(n_jobs=1)]: Using backend SequentialBackend with 1 concurrent workers.\n",
      "........................................................................................................................................................................................................................................................................................................................................................................................................................................................................................................................................................................................................................................................................................................................................................................................................................................................................................................................................................................................................................................[Parallel(n_jobs=1)]: Done  10 out of  10 | elapsed:    0.2s finished\n"
     ]
    },
    {
     "data": {
      "text/plain": [
       "LassoCV(cv=10, verbose=1)"
      ]
     },
     "execution_count": 99,
     "metadata": {},
     "output_type": "execute_result"
    }
   ],
   "source": [
    "#checking for optimal alpha\n",
    "optimal_lasso = LassoCV(n_alphas=100, cv=10, verbose=1)\n",
    "optimal_lasso.fit(Xstrain, ytrain)"
   ]
  },
  {
   "cell_type": "code",
   "execution_count": 100,
   "metadata": {
    "ExecuteTime": {
     "end_time": "2021-01-25T15:41:02.119517Z",
     "start_time": "2021-01-25T15:41:02.116521Z"
    }
   },
   "outputs": [],
   "source": [
    "#instantiating Lasso Model\n",
    "lasso = Lasso(alpha=optimal_lasso.alpha_)\n",
    "lasso.fit(Xstrain, ytrain)"
   ]
  },
  {
   "cell_type": "code",
   "execution_count": 103,
   "metadata": {
    "ExecuteTime": {
     "end_time": "2021-01-25T15:41:10.308194Z",
     "start_time": "2021-01-25T15:41:09.933010Z"
    },
    "scrolled": false
   },
   "outputs": [
    {
     "data": {
      "image/png": "[encoded data removed]",
      "text/plain": [
       "<Figure size 1008x1440 with 1 Axes>"
      ]
     },
     "metadata": {
      "needs_background": "light"
     },
     "output_type": "display_data"
    }
   ],
   "source": [
    "#plotting bar graph of feature coefficient\n",
    "features = [col for col in merge._get_numeric_data().columns if col !='price']\n",
    "feature_ls_coef = pd.DataFrame({'feature':features,'coef':lasso.coef_, 'abscoef' :np.abs(lasso.coef_)})\n",
    "feature_ls_coef.sort_values('abscoef', inplace=True, ascending=False)\n",
    "plt.figure(figsize=(14,20))\n",
    "sns.barplot(y='feature',x='coef', data=feature_ls_coef, palette='GnBu_d');"
   ]
  },
  {
   "cell_type": "code",
   "execution_count": 104,
   "metadata": {
    "ExecuteTime": {
     "end_time": "2021-01-25T15:41:17.649139Z",
     "start_time": "2021-01-25T15:41:17.612273Z"
    }
   },
   "outputs": [
    {
     "name": "stdout",
     "output_type": "stream",
     "text": [
      "Lasso Model\n",
      "Train R^2 Score: 0.7983\n",
      "Test R^2 Score: 0.8379\n",
      "Cross Validated Train R^2 Score: 0.7717\n",
      "RMSE: 28819.583973726803\n"
     ]
    }
   ],
   "source": [
    "print('Lasso Model')\n",
    "\n",
    "#Train R2 score\n",
    "lasso_train_r2 = lasso.score(Xstrain,ytrain)\n",
    "print('Train R^2 Score: {}'.format(lr_train_r2.round(4)))\n",
    "\n",
    "#Test R2 score\n",
    "lasso_test_r2 = lasso.score(Xstest,ytest)\n",
    "print('Test R^2 Score: {}'.format(lasso_test_r2.round(4)))\n",
    "\n",
    "#Cross Validated R2 Score\n",
    "lasso_cross_val_r2 = cross_val_score(lasso, Xstrain, ytrain, cv=5).mean()\n",
    "print('Cross Validated Train R^2 Score: {}'.format(lasso_cross_val_r2.round(4)))\n",
    "\n",
    "#RMSE\n",
    "lasso_pred = lasso.predict(Xstest)\n",
    "lasso_rmse = np.sqrt(mean_squared_error(ytest,lasso_pred))\n",
    "print('RMSE: {}'.format(lasso_rmse))"
   ]
  },
  {
   "cell_type": "markdown",
   "metadata": {},
   "source": [
    "## Support Vector Regression"
   ]
  },
  {
   "cell_type": "code",
   "execution_count": 105,
   "metadata": {
    "ExecuteTime": {
     "end_time": "2021-01-25T15:41:30.346990Z",
     "start_time": "2021-01-25T15:41:30.339964Z"
    }
   },
   "outputs": [],
   "source": [
    "#setting parameters for grid search\n",
    "param = {'kernel' : ('linear', 'poly'),\n",
    "         'C' : [10,15,20],\n",
    "         'degree' : [1,2,3],\n",
    "         'coef0' : [0.01,0.1,0.5],\n",
    "         'gamma' : ('auto','scale')}\n",
    "\n",
    "svr = SVR()\n",
    "\n",
    "gs = GridSearchCV(svr,param,cv=5,n_jobs=-1,verbose=2)"
   ]
  },
  {
   "cell_type": "code",
   "execution_count": 106,
   "metadata": {
    "ExecuteTime": {
     "end_time": "2021-01-25T15:41:46.865173Z",
     "start_time": "2021-01-25T15:41:30.826046Z"
    }
   },
   "outputs": [
    {
     "name": "stdout",
     "output_type": "stream",
     "text": [
      "Fitting 5 folds for each of 108 candidates, totalling 540 fits\n"
     ]
    },
    {
     "name": "stderr",
     "output_type": "stream",
     "text": [
      "[Parallel(n_jobs=-1)]: Using backend LokyBackend with 12 concurrent workers.\n",
      "[Parallel(n_jobs=-1)]: Done  17 tasks      | elapsed:    4.0s\n",
      "[Parallel(n_jobs=-1)]: Done 138 tasks      | elapsed:    6.7s\n",
      "[Parallel(n_jobs=-1)]: Done 341 tasks      | elapsed:   11.2s\n",
      "[Parallel(n_jobs=-1)]: Done 540 out of 540 | elapsed:   15.7s finished\n"
     ]
    },
    {
     "data": {
      "text/plain": [
       "GridSearchCV(cv=5, estimator=SVR(), n_jobs=-1,\n",
       "             param_grid={'C': [10, 15, 20], 'coef0': [0.01, 0.1, 0.5],\n",
       "                         'degree': [1, 2, 3], 'gamma': ('auto', 'scale'),\n",
       "                         'kernel': ('linear', 'poly')},\n",
       "             verbose=2)"
      ]
     },
     "execution_count": 106,
     "metadata": {},
     "output_type": "execute_result"
    }
   ],
   "source": [
    "#instantiating grid search and fitting train data\n",
    "gs.fit(Xstrain,ytrain)"
   ]
  },
  {
   "cell_type": "code",
   "execution_count": 108,
   "metadata": {
    "ExecuteTime": {
     "end_time": "2021-01-25T15:41:46.897086Z",
     "start_time": "2021-01-25T15:41:46.884123Z"
    }
   },
   "outputs": [
    {
     "data": {
      "text/plain": [
       "{'C': 20, 'coef0': 0.01, 'degree': 1, 'gamma': 'auto', 'kernel': 'linear'}"
      ]
     },
     "execution_count": 108,
     "metadata": {},
     "output_type": "execute_result"
    }
   ],
   "source": [
    "#checking best parameters\n",
    "gs.best_params_"
   ]
  },
  {
   "cell_type": "code",
   "execution_count": 109,
   "metadata": {
    "ExecuteTime": {
     "end_time": "2021-01-25T15:41:47.775246Z",
     "start_time": "2021-01-25T15:41:46.900084Z"
    }
   },
   "outputs": [
    {
     "name": "stdout",
     "output_type": "stream",
     "text": [
      "SVR Model\n",
      "Train R^2 Score: 0.4151\n",
      "Test R^2 Score: 0.4842\n",
      "Cross Validated Train R^2 Score: 0.4145\n",
      "RMSE: 51411.1146243778\n"
     ]
    }
   ],
   "source": [
    "print('SVR Model')\n",
    "\n",
    "#Train R2 score\n",
    "svr_train_r2 = gs.best_estimator_.score(Xstrain,ytrain)\n",
    "print('Train R^2 Score: {}'.format(svr_train_r2.round(4)))\n",
    "\n",
    "#Test R2 score\n",
    "svr_test_r2 = gs.best_estimator_.score(Xstest,ytest)\n",
    "print('Test R^2 Score: {}'.format(svr_test_r2.round(4)))\n",
    "\n",
    "#Cross Validated R2 Score\n",
    "svr_cross_val_r2 = cross_val_score(gs.best_estimator_, Xstrain, ytrain, cv=5).mean()\n",
    "print('Cross Validated Train R^2 Score: {}'.format(svr_cross_val_r2.round(4)))\n",
    "\n",
    "#RMSE\n",
    "svr_pred = gs.best_estimator_.predict(Xstest)\n",
    "svr_rmse = np.sqrt(mean_squared_error(ytest,svr_pred))\n",
    "print('RMSE: {}'.format(svr_rmse))"
   ]
  },
  {
   "cell_type": "markdown",
   "metadata": {},
   "source": [
    "## Gradient Boost Regressor"
   ]
  },
  {
   "cell_type": "code",
   "execution_count": 112,
   "metadata": {
    "ExecuteTime": {
     "end_time": "2021-01-25T15:45:34.787575Z",
     "start_time": "2021-01-25T15:45:34.782589Z"
    }
   },
   "outputs": [],
   "source": [
    "#setting parameters for grid search\n",
    "param = {'loss' : ['huber'],\n",
    "         'n_estimators' : [1000,1500,2000],\n",
    "         'max_depth' : [5,6,7,8,9,10]}\n",
    "\n",
    "gboost = GradientBoostingRegressor()\n",
    "\n",
    "gsboost = GridSearchCV(gboost,param,cv=5,n_jobs=-1,verbose=2)"
   ]
  },
  {
   "cell_type": "code",
   "execution_count": 113,
   "metadata": {
    "ExecuteTime": {
     "end_time": "2021-01-25T15:53:06.131800Z",
     "start_time": "2021-01-25T15:45:56.189270Z"
    }
   },
   "outputs": [
    {
     "name": "stdout",
     "output_type": "stream",
     "text": [
      "Fitting 5 folds for each of 18 candidates, totalling 90 fits\n"
     ]
    },
    {
     "name": "stderr",
     "output_type": "stream",
     "text": [
      "[Parallel(n_jobs=-1)]: Using backend LokyBackend with 12 concurrent workers.\n",
      "[Parallel(n_jobs=-1)]: Done  17 tasks      | elapsed:   41.5s\n",
      "[Parallel(n_jobs=-1)]: Done  90 out of  90 | elapsed:  6.9min finished\n"
     ]
    },
    {
     "data": {
      "text/plain": [
       "GridSearchCV(cv=5, estimator=GradientBoostingRegressor(), n_jobs=-1,\n",
       "             param_grid={'loss': ['huber'], 'max_depth': [5, 6, 7, 8, 9, 10],\n",
       "                         'n_estimators': [1000, 1500, 2000]},\n",
       "             verbose=2)"
      ]
     },
     "execution_count": 113,
     "metadata": {},
     "output_type": "execute_result"
    }
   ],
   "source": [
    "#instantiating grid search and fitting train data\n",
    "gsboost.fit(Xtrain,ytrain)"
   ]
  },
  {
   "cell_type": "code",
   "execution_count": 114,
   "metadata": {
    "ExecuteTime": {
     "end_time": "2021-01-25T15:53:06.147722Z",
     "start_time": "2021-01-25T15:53:06.132792Z"
    }
   },
   "outputs": [
    {
     "data": {
      "text/plain": [
       "{'loss': 'huber', 'max_depth': 6, 'n_estimators': 1500}"
      ]
     },
     "execution_count": 114,
     "metadata": {},
     "output_type": "execute_result"
    }
   ],
   "source": [
    "#checking for best parameters\n",
    "gsboost.best_params_"
   ]
  },
  {
   "cell_type": "code",
   "execution_count": 115,
   "metadata": {
    "ExecuteTime": {
     "end_time": "2021-01-25T15:53:06.558682Z",
     "start_time": "2021-01-25T15:53:06.149717Z"
    }
   },
   "outputs": [
    {
     "data": {
      "image/png": "[encoded data removed]",
      "text/plain": [
       "<Figure size 1008x1440 with 1 Axes>"
      ]
     },
     "metadata": {
      "needs_background": "light"
     },
     "output_type": "display_data"
    }
   ],
   "source": [
    "#plotting feature coefficient\n",
    "features = [col for col in merge._get_numeric_data().columns if col !='price']\n",
    "feature_gsboost_coef = pd.DataFrame({'feature':features,'coef':gsboost.best_estimator_.feature_importances_, 'abscoef' :np.abs(gsboost.best_estimator_.feature_importances_)})\n",
    "feature_gsboost_coef.sort_values('abscoef', inplace=True, ascending=False)\n",
    "plt.figure(figsize=(14,20))\n",
    "sns.barplot(y='feature',x='coef', data=feature_gsboost_coef, palette='GnBu_d');"
   ]
  },
  {
   "cell_type": "code",
   "execution_count": 116,
   "metadata": {
    "ExecuteTime": {
     "end_time": "2021-01-25T15:54:14.248189Z",
     "start_time": "2021-01-25T15:53:06.559622Z"
    }
   },
   "outputs": [
    {
     "name": "stdout",
     "output_type": "stream",
     "text": [
      "Gradient Boost Model\n",
      "Train R^2 Score: 0.9999\n",
      "Test R^2 Score: 0.9443\n",
      "Cross Validated Train R^2 Score: 0.8872\n",
      "RMSE: 16891.289855712836\n"
     ]
    }
   ],
   "source": [
    "print('Gradient Boost Model')\n",
    "\n",
    "#Train R2 score\n",
    "gboost_train_r2 = gsboost.best_estimator_.score(Xtrain,ytrain)\n",
    "print('Train R^2 Score: {}'.format(gboost_train_r2.round(4)))\n",
    "\n",
    "#Test R2 score\n",
    "gboost_test_r2 = gsboost.best_estimator_.score(Xtest,ytest)\n",
    "print('Test R^2 Score: {}'.format(gboost_test_r2.round(4)))\n",
    "\n",
    "#Cross Validated R2 Score\n",
    "gboost_cross_val_r2 = cross_val_score(gsboost.best_estimator_, Xtrain, ytrain, cv=5).mean()\n",
    "print('Cross Validated Train R^2 Score: {}'.format(gboost_cross_val_r2.round(4)))\n",
    "\n",
    "#RMSE\n",
    "gboost_pred = gsboost.best_estimator_.predict(Xtest)\n",
    "gboost_rmse = np.sqrt(mean_squared_error(ytest,gboost_pred))\n",
    "print('RMSE: {}'.format(gboost_rmse))"
   ]
  },
  {
   "cell_type": "markdown",
   "metadata": {},
   "source": [
    "## Random Forest Regressor"
   ]
  },
  {
   "cell_type": "code",
   "execution_count": 117,
   "metadata": {
    "ExecuteTime": {
     "end_time": "2021-01-25T15:54:14.263156Z",
     "start_time": "2021-01-25T15:54:14.249185Z"
    }
   },
   "outputs": [],
   "source": [
    "#setting parameters for grid search\n",
    "param = {'n_estimators' : [1500,2000,2500],\n",
    "         'max_depth' : [8,9,10],\n",
    "         'random_state' : [42]}\n",
    "\n",
    "rf = RandomForestRegressor()\n",
    "\n",
    "rfgs = GridSearchCV(rf,param,cv=5,n_jobs=-1,verbose=2)"
   ]
  },
  {
   "cell_type": "code",
   "execution_count": 118,
   "metadata": {
    "ExecuteTime": {
     "end_time": "2021-01-25T15:55:47.697702Z",
     "start_time": "2021-01-25T15:54:14.264131Z"
    }
   },
   "outputs": [
    {
     "name": "stdout",
     "output_type": "stream",
     "text": [
      "Fitting 5 folds for each of 9 candidates, totalling 45 fits\n"
     ]
    },
    {
     "name": "stderr",
     "output_type": "stream",
     "text": [
      "[Parallel(n_jobs=-1)]: Using backend LokyBackend with 12 concurrent workers.\n",
      "[Parallel(n_jobs=-1)]: Done  17 tasks      | elapsed:   34.2s\n",
      "[Parallel(n_jobs=-1)]: Done  45 out of  45 | elapsed:  1.4min remaining:    0.0s\n",
      "[Parallel(n_jobs=-1)]: Done  45 out of  45 | elapsed:  1.4min finished\n"
     ]
    },
    {
     "data": {
      "text/plain": [
       "GridSearchCV(cv=5, estimator=RandomForestRegressor(), n_jobs=-1,\n",
       "             param_grid={'max_depth': [8, 9, 10],\n",
       "                         'n_estimators': [1500, 2000, 2500],\n",
       "                         'random_state': [42]},\n",
       "             verbose=2)"
      ]
     },
     "execution_count": 118,
     "metadata": {},
     "output_type": "execute_result"
    }
   ],
   "source": [
    "#instantiating grid search and fitting train data\n",
    "rfgs.fit(Xtrain,ytrain)"
   ]
  },
  {
   "cell_type": "code",
   "execution_count": 119,
   "metadata": {
    "ExecuteTime": {
     "end_time": "2021-01-25T15:55:47.712721Z",
     "start_time": "2021-01-25T15:55:47.699697Z"
    }
   },
   "outputs": [
    {
     "data": {
      "text/plain": [
       "{'max_depth': 10, 'n_estimators': 1500, 'random_state': 42}"
      ]
     },
     "execution_count": 119,
     "metadata": {},
     "output_type": "execute_result"
    }
   ],
   "source": [
    "#checking for best parameters\n",
    "rfgs.best_params_"
   ]
  },
  {
   "cell_type": "code",
   "execution_count": 120,
   "metadata": {
    "ExecuteTime": {
     "end_time": "2021-01-25T15:55:48.327713Z",
     "start_time": "2021-01-25T15:55:47.715696Z"
    }
   },
   "outputs": [
    {
     "data": {
      "image/png": "[encoded data removed]",
      "text/plain": [
       "<Figure size 1008x1440 with 1 Axes>"
      ]
     },
     "metadata": {
      "needs_background": "light"
     },
     "output_type": "display_data"
    }
   ],
   "source": [
    "#plotting feature coefficients\n",
    "features = [col for col in merge._get_numeric_data().columns if col !='price']\n",
    "feature_rfgs_coef = pd.DataFrame({'feature':features,'coef':rfgs.best_estimator_.feature_importances_, 'abscoef' :np.abs(rfgs.best_estimator_.feature_importances_)})\n",
    "feature_rfgs_coef.sort_values('abscoef', inplace=True, ascending=False)\n",
    "plt.figure(figsize=(14,20))\n",
    "sns.barplot(y='feature',x='coef', data=feature_rfgs_coef, palette='GnBu_d');"
   ]
  },
  {
   "cell_type": "code",
   "execution_count": 121,
   "metadata": {
    "ExecuteTime": {
     "end_time": "2021-01-25T15:56:29.275363Z",
     "start_time": "2021-01-25T15:55:48.328724Z"
    }
   },
   "outputs": [
    {
     "name": "stdout",
     "output_type": "stream",
     "text": [
      "Random Forest Model\n",
      "Train R^2 Score: 0.9848\n",
      "Test R^2 Score: 0.9413\n",
      "Cross Validated Train R^2 Score: 0.8925\n",
      "RMSE: 17338.10283529929\n"
     ]
    }
   ],
   "source": [
    "print('Random Forest Model')\n",
    "\n",
    "#Train R2 score\n",
    "rf_train_r2 = rfgs.best_estimator_.score(Xtrain,ytrain)\n",
    "print('Train R^2 Score: {}'.format(rf_train_r2.round(4)))\n",
    "\n",
    "#Test R2 score\n",
    "rf_test_r2 = rfgs.best_estimator_.score(Xtest,ytest)\n",
    "print('Test R^2 Score: {}'.format(rf_test_r2.round(4)))\n",
    "\n",
    "#Cross Validated R2 Score\n",
    "rf_cross_val_r2 = cross_val_score(rfgs.best_estimator_, Xtrain, ytrain, cv=5).mean()\n",
    "print('Cross Validated Train R^2 Score: {}'.format(rf_cross_val_r2.round(4)))\n",
    "\n",
    "#RMSE\n",
    "rf_pred = rfgs.best_estimator_.predict(Xtest)\n",
    "rf_rmse = np.sqrt(mean_squared_error(ytest,rf_pred))\n",
    "print('RMSE: {}'.format(rf_rmse))"
   ]
  },
  {
   "cell_type": "markdown",
   "metadata": {},
   "source": [
    "From all the models we have fitted and ran, the **Gradient Boost Regressor** and **Random Forest Regressor** performed the best. Although both has a high train and test R score, the RMSE are high. Let's try and tune these two models in the next section."
   ]
  },
  {
   "cell_type": "markdown",
   "metadata": {},
   "source": [
    "# Model Tuning"
   ]
  },
  {
   "cell_type": "markdown",
   "metadata": {},
   "source": [
    "We have seen that `price` and `mileage` are highly positively-skewed. Let's try and set a limit to 2 times the median and see if it will improve the performance of our model."
   ]
  },
  {
   "cell_type": "code",
   "execution_count": 122,
   "metadata": {
    "ExecuteTime": {
     "end_time": "2021-01-25T15:57:54.460346Z",
     "start_time": "2021-01-25T15:57:54.454393Z"
    }
   },
   "outputs": [
    {
     "data": {
      "text/plain": [
       "143600"
      ]
     },
     "execution_count": 122,
     "metadata": {},
     "output_type": "execute_result"
    }
   ],
   "source": [
    "#checking the price limit\n",
    "2*statistics.median(cars['price'])"
   ]
  },
  {
   "cell_type": "code",
   "execution_count": 124,
   "metadata": {
    "ExecuteTime": {
     "end_time": "2021-01-25T15:58:35.549259Z",
     "start_time": "2021-01-25T15:58:35.540318Z"
    }
   },
   "outputs": [],
   "source": [
    "#setting limit of price\n",
    "merge = merge[merge['price'] <= 143600]"
   ]
  },
  {
   "cell_type": "code",
   "execution_count": 125,
   "metadata": {
    "ExecuteTime": {
     "end_time": "2021-01-25T15:59:19.511661Z",
     "start_time": "2021-01-25T15:59:19.501687Z"
    }
   },
   "outputs": [
    {
     "data": {
      "text/plain": [
       "138000"
      ]
     },
     "execution_count": 125,
     "metadata": {},
     "output_type": "execute_result"
    }
   ],
   "source": [
    "#checking mileage limit\n",
    "2*statistics.median(merge['mileage'])"
   ]
  },
  {
   "cell_type": "code",
   "execution_count": 126,
   "metadata": {
    "ExecuteTime": {
     "end_time": "2021-01-25T15:59:46.117657Z",
     "start_time": "2021-01-25T15:59:46.110625Z"
    }
   },
   "outputs": [],
   "source": [
    "#setting limit of mileage\n",
    "merge = merge[merge['mileage'] <= 138000]"
   ]
  },
  {
   "cell_type": "markdown",
   "metadata": {},
   "source": [
    "## Gradient Boost Regressor"
   ]
  },
  {
   "cell_type": "code",
   "execution_count": 128,
   "metadata": {
    "ExecuteTime": {
     "end_time": "2021-01-25T16:00:34.372268Z",
     "start_time": "2021-01-25T16:00:34.358272Z"
    }
   },
   "outputs": [],
   "source": [
    "#setting new target and feature with limit\n",
    "Xt = merge.drop(columns=['price'])\n",
    "yt = merge['price']"
   ]
  },
  {
   "cell_type": "code",
   "execution_count": 129,
   "metadata": {
    "ExecuteTime": {
     "end_time": "2021-01-25T16:00:35.617339Z",
     "start_time": "2021-01-25T16:00:35.612313Z"
    }
   },
   "outputs": [],
   "source": [
    "#splitting into train and test data\n",
    "Xt_train,Xt_test,yt_train,yt_test = train_test_split(Xt,yt,test_size=0.33, random_state=42)"
   ]
  },
  {
   "cell_type": "code",
   "execution_count": 130,
   "metadata": {
    "ExecuteTime": {
     "end_time": "2021-01-25T16:01:22.973643Z",
     "start_time": "2021-01-25T16:01:22.958176Z"
    }
   },
   "outputs": [],
   "source": [
    "#setting grid search parameters\n",
    "param = {'loss' : ['huber'],\n",
    "         'n_estimators' : [1000,1500,2000],\n",
    "         'max_depth' : [5,6,7,8,9,10]}\n",
    "\n",
    "gboost = GradientBoostingRegressor()\n",
    "\n",
    "gsboost = GridSearchCV(gboost,param,cv=5,n_jobs=-1,verbose=2)"
   ]
  },
  {
   "cell_type": "code",
   "execution_count": null,
   "metadata": {
    "ExecuteTime": {
     "start_time": "2021-01-25T16:02:00.619Z"
    }
   },
   "outputs": [
    {
     "name": "stdout",
     "output_type": "stream",
     "text": [
      "Fitting 5 folds for each of 18 candidates, totalling 90 fits\n"
     ]
    },
    {
     "name": "stderr",
     "output_type": "stream",
     "text": [
      "[Parallel(n_jobs=-1)]: Using backend LokyBackend with 12 concurrent workers.\n",
      "[Parallel(n_jobs=-1)]: Done  17 tasks      | elapsed:   41.0s\n"
     ]
    }
   ],
   "source": [
    "#instantiating grid search and fit data\n",
    "gsboost.fit(Xt_train,yt_train)"
   ]
  },
  {
   "cell_type": "code",
   "execution_count": null,
   "metadata": {
    "ExecuteTime": {
     "start_time": "2021-01-25T16:02:16.525Z"
    }
   },
   "outputs": [],
   "source": [
    "#checking for best parameters\n",
    "gsboost.best_params_"
   ]
  },
  {
   "cell_type": "code",
   "execution_count": null,
   "metadata": {
    "ExecuteTime": {
     "start_time": "2021-01-25T16:02:52.590Z"
    }
   },
   "outputs": [],
   "source": [
    "#plotting feature coefficient\n",
    "features = [col for col in merge._get_numeric_data().columns if col !='price']\n",
    "feature_gsboost_coef = pd.DataFrame({'feature':features,'coef':gsboost.best_estimator_.feature_importances_, 'abscoef' :np.abs(gsboost.best_estimator_.feature_importances_)})\n",
    "feature_gsboost_coef.sort_values('abscoef', inplace=True, ascending=False)\n",
    "plt.figure(figsize=(14,20))\n",
    "sns.barplot(y='feature',x='coef', data=feature_gsboost_coef, palette='GnBu_d');"
   ]
  },
  {
   "cell_type": "code",
   "execution_count": null,
   "metadata": {
    "ExecuteTime": {
     "start_time": "2021-01-25T16:02:52.872Z"
    }
   },
   "outputs": [],
   "source": [
    "print('Tuned Gradient Boost Model')\n",
    "\n",
    "#Train R2 score\n",
    "gboost_train_r2 = gsboost.best_estimator_.score(Xt_train,yt_train)\n",
    "print('Train R^2 Score: {}'.format(gboost_train_r2.round(4)))\n",
    "\n",
    "#Test R2 score\n",
    "gboost_test_r2 = gsboost.best_estimator_.score(Xt_test,yt_test)\n",
    "print('Test R^2 Score: {}'.format(gboost_test_r2.round(4)))\n",
    "\n",
    "#Cross Validated R2 Score\n",
    "gboost_cross_val_r2 = cross_val_score(gsboost.best_estimator_, Xt_train, yt_train, cv=5).mean()\n",
    "print('Cross Validated Train R^2 Score: {}'.format(gboost_cross_val_r2.round(4)))\n",
    "\n",
    "#RMSE\n",
    "gboost_pred = gsboost.best_estimator_.predict(Xt_test)\n",
    "gboost_rmse = np.sqrt(mean_squared_error(yt_test,gboost_pred))\n",
    "print('RMSE: {}'.format(gboost_rmse))"
   ]
  },
  {
   "cell_type": "code",
   "execution_count": null,
   "metadata": {},
   "outputs": [],
   "source": []
  },
  {
   "cell_type": "markdown",
   "metadata": {},
   "source": [
    "## Random Forest Regressor"
   ]
  },
  {
   "cell_type": "code",
   "execution_count": null,
   "metadata": {
    "ExecuteTime": {
     "end_time": "2021-01-25T14:38:50.993278Z",
     "start_time": "2021-01-25T14:38:50.984302Z"
    }
   },
   "outputs": [],
   "source": [
    "param = {'n_estimators' : [3000,3500],\n",
    "         'max_depth' : [20,25],\n",
    "         'random_state' : [42]}\n",
    "\n",
    "rf = RandomForestRegressor()\n",
    "\n",
    "rfgs = GridSearchCV(rf,param,cv=5,n_jobs=-1,verbose=2)"
   ]
  },
  {
   "cell_type": "code",
   "execution_count": null,
   "metadata": {
    "ExecuteTime": {
     "end_time": "2021-01-25T14:40:17.188151Z",
     "start_time": "2021-01-25T14:38:51.612911Z"
    }
   },
   "outputs": [],
   "source": [
    "rfgs.fit(Xt_train,yt_train)"
   ]
  },
  {
   "cell_type": "code",
   "execution_count": null,
   "metadata": {
    "ExecuteTime": {
     "end_time": "2021-01-25T14:40:17.204125Z",
     "start_time": "2021-01-25T14:40:17.189115Z"
    }
   },
   "outputs": [],
   "source": [
    "rfgs.best_estimator_"
   ]
  },
  {
   "cell_type": "code",
   "execution_count": null,
   "metadata": {
    "ExecuteTime": {
     "end_time": "2021-01-25T14:40:17.220090Z",
     "start_time": "2021-01-25T14:40:17.205072Z"
    }
   },
   "outputs": [],
   "source": [
    "rfgs.best_params_"
   ]
  },
  {
   "cell_type": "code",
   "execution_count": null,
   "metadata": {
    "ExecuteTime": {
     "end_time": "2021-01-25T14:41:40.190203Z",
     "start_time": "2021-01-25T14:40:17.221032Z"
    }
   },
   "outputs": [],
   "source": [
    "print('Tuned Random Forest Model')\n",
    "\n",
    "#Train R2 score\n",
    "rf_train_r2 = rfgs.best_estimator_.score(Xt_train,yt_train)\n",
    "print('Train R^2 Score: {}'.format(rf_train_r2.round(4)))\n",
    "\n",
    "#Test R2 score\n",
    "rf_test_r2 = rfgs.best_estimator_.score(Xt_test,yt_test)\n",
    "print('Test R^2 Score: {}'.format(rf_test_r2.round(4)))\n",
    "\n",
    "#Cross Validated R2 Score\n",
    "rf_cross_val_r2 = cross_val_score(rfgs.best_estimator_, Xt_train, yt_train, cv=5).mean()\n",
    "print('Cross Validated Train R^2 Score: {}'.format(rf_cross_val_r2.round(4)))\n",
    "\n",
    "#RMSE\n",
    "rf_pred = rfgs.best_estimator_.predict(Xt_test)\n",
    "rf_rmse = np.sqrt(mean_squared_error(yt_test,rf_pred))\n",
    "print('RMSE: {}'.format(rf_rmse))"
   ]
  },
  {
   "cell_type": "markdown",
   "metadata": {},
   "source": [
    "# Model Validation"
   ]
  },
  {
   "cell_type": "code",
   "execution_count": null,
   "metadata": {
    "ExecuteTime": {
     "end_time": "2021-01-25T14:08:36.961381Z",
     "start_time": "2021-01-25T14:08:36.932399Z"
    }
   },
   "outputs": [],
   "source": [
    "#converting csv into dataframe\n",
    "car_val = pd.read_csv('../data/cars_info_validation.csv')"
   ]
  },
  {
   "cell_type": "code",
   "execution_count": null,
   "metadata": {
    "ExecuteTime": {
     "end_time": "2021-01-25T14:08:37.368203Z",
     "start_time": "2021-01-25T14:08:37.341313Z"
    }
   },
   "outputs": [],
   "source": [
    "car_val"
   ]
  },
  {
   "cell_type": "code",
   "execution_count": null,
   "metadata": {
    "ExecuteTime": {
     "end_time": "2021-01-25T14:08:37.881856Z",
     "start_time": "2021-01-25T14:08:37.868891Z"
    }
   },
   "outputs": [],
   "source": [
    "#checking for null values\n",
    "car_val.isnull().sum()"
   ]
  },
  {
   "cell_type": "code",
   "execution_count": null,
   "metadata": {
    "ExecuteTime": {
     "end_time": "2021-01-25T14:08:38.455821Z",
     "start_time": "2021-01-25T14:08:38.428893Z"
    }
   },
   "outputs": [],
   "source": [
    "#checking for the null\n",
    "car_val[car_val['transmission'].isnull()]"
   ]
  },
  {
   "cell_type": "code",
   "execution_count": null,
   "metadata": {
    "ExecuteTime": {
     "end_time": "2021-01-25T14:08:38.987982Z",
     "start_time": "2021-01-25T14:08:38.980977Z"
    }
   },
   "outputs": [],
   "source": [
    "#dropping null value\n",
    "car_val.drop(index=100,inplace=True)\n",
    "\n",
    "#dropping unused columns\n",
    "car_val.drop(columns=['depreciation','link'],inplace=True)"
   ]
  },
  {
   "cell_type": "code",
   "execution_count": null,
   "metadata": {
    "ExecuteTime": {
     "end_time": "2021-01-25T14:08:39.581106Z",
     "start_time": "2021-01-25T14:08:39.564148Z"
    }
   },
   "outputs": [],
   "source": [
    "car_val[car_val['reg_date'].str.contains('N.A')]"
   ]
  },
  {
   "cell_type": "code",
   "execution_count": null,
   "metadata": {
    "ExecuteTime": {
     "end_time": "2021-01-25T14:08:40.144239Z",
     "start_time": "2021-01-25T14:08:40.110291Z"
    }
   },
   "outputs": [],
   "source": [
    "for i in car_val.columns:\n",
    "    car_val.drop(index=car_val[car_val[i].str.contains('N.A')].index,inplace=True)"
   ]
  },
  {
   "cell_type": "code",
   "execution_count": null,
   "metadata": {
    "ExecuteTime": {
     "end_time": "2021-01-25T14:08:40.661687Z",
     "start_time": "2021-01-25T14:08:40.604781Z"
    }
   },
   "outputs": [],
   "source": [
    "car_val = car_val[car_val['transmission'].str.contains('Manual') | car_val['transmission'].str.contains('Auto')]\n",
    "\n",
    "car_val['price'] = car_val['price'].str.replace(\"$\",\"\")\n",
    "car_val['price'] = car_val['price'].str.replace(\",\",\"\")\n",
    "\n",
    "car_val['curb_weight'] = car_val['curb_weight'].str.replace(\",\",\"\")\n",
    "car_val['curb_weight'] = car_val.curb_weight.str.extract('(\\d+)')\n",
    "\n",
    "car_val['eng_cap'] = car_val['eng_cap'].str.replace(\",\",\"\")\n",
    "car_val['eng_cap'] = car_val.eng_cap.str.extract('(\\d+)')\n",
    "\n",
    "car_val['coe'] = car_val['coe'].str.replace(\"$\",\"\")\n",
    "car_val['coe'] = car_val['coe'].str.replace(\",\",\"\")\n",
    "\n",
    "car_val['years'] = car_val['reg_date'].str.findall('(\\d+)yr').str[0]\n",
    "car_val['months'] = car_val['reg_date'].str.findall('(\\d+)mth').str[0]\n",
    "car_val['years'].fillna(0,inplace=True)\n",
    "car_val['months'].fillna(0,inplace=True)\n",
    "car_val['years'] = car_val['years'].astype(int)\n",
    "car_val['months'] = car_val['months'].astype(int)\n",
    "\n",
    "car_val['coe_balance_in_months'] = car_val['years']*12 + car_val['months']\n",
    "car_val.drop(columns=['years','months','reg_date'],inplace=True)\n",
    "\n",
    "car_val['power'] = car_val['power'].str.replace(r\"\\(.*?\\)\",\"\")\n",
    "car_val['power'] = car_val.power.str.extract('(\\d+)')\n",
    "\n",
    "car_val['omv'] = car_val['omv'].str.replace(\"$\",\"\")\n",
    "car_val['omv'] = car_val['omv'].str.replace(\",\",\"\")\n",
    "\n",
    "car_val['road_tax'] = car_val['road_tax'].str.replace(\"$\",\"\")\n",
    "car_val['road_tax'] = car_val['road_tax'].str.replace(\",\",\"\")\n",
    "car_val['road_tax'] = car_val.road_tax.str.extract('(\\d+)')\n",
    "\n",
    "car_val['mileage'] = car_val['mileage'].str.replace(\",\",\"\")\n",
    "car_val['mileage'] = car_val.mileage.str.extract('(\\d+)')\n",
    "\n",
    "car_val['category'] = car_val['category'].str.replace(\"Category\\n\",\"\")\n",
    "car_val['category'] = car_val['category'].str.replace(\" \",\"\")\n",
    "\n",
    "car_val['num_owners'] = car_val['num_owners'].str.replace(\"More than 6\",\"7\")\n",
    "\n",
    "car_val['make'] = car_val['model'].str.split(' ').str[0]\n",
    "car_val['make'] = car_val['make'].str.lower()\n",
    "\n",
    "car_val.drop(columns='model',inplace=True)"
   ]
  },
  {
   "cell_type": "code",
   "execution_count": null,
   "metadata": {
    "ExecuteTime": {
     "end_time": "2021-01-25T14:08:41.114552Z",
     "start_time": "2021-01-25T14:08:41.092553Z"
    }
   },
   "outputs": [],
   "source": [
    "#converting object type to integer\n",
    "car_val['price'] = car_val['price'].astype(int)\n",
    "car_val['mileage'] = car_val['mileage'].astype(int)\n",
    "car_val['road_tax'] = car_val['road_tax'].astype(int)\n",
    "car_val['coe'] = car_val['coe'].astype(int)\n",
    "car_val['eng_cap'] = car_val['eng_cap'].astype(int)\n",
    "car_val['curb_weight'] = car_val['curb_weight'].astype(int)\n",
    "car_val['manufactured'] = car_val['manufactured'].astype(int)\n",
    "car_val['omv'] = car_val['omv'].astype(int)\n",
    "car_val['power'] = car_val['power'].astype(int)\n",
    "car_val['num_owners'] = car_val['num_owners'].astype(int)"
   ]
  },
  {
   "cell_type": "code",
   "execution_count": null,
   "metadata": {
    "ExecuteTime": {
     "end_time": "2021-01-25T14:08:41.630349Z",
     "start_time": "2021-01-25T14:08:41.612337Z"
    }
   },
   "outputs": [],
   "source": [
    "#impose limitation on validated data\n",
    "car_val.drop(index=car_val[car_val['manufactured'] < 2000].index,inplace=True)\n",
    "car_val.drop(index=car_val[car_val['price'] > 143600].index,inplace=True)\n",
    "car_val.drop(index=car_val[car_val['mileage'] > 138000].index,inplace=True)\n",
    "\n",
    "#remove features that are not in model\n",
    "car_val.drop(columns=['road_tax','eng_cap','power','manufactured'],inplace=True)"
   ]
  },
  {
   "cell_type": "code",
   "execution_count": null,
   "metadata": {
    "ExecuteTime": {
     "end_time": "2021-01-25T14:08:42.131378Z",
     "start_time": "2021-01-25T14:08:42.109380Z"
    }
   },
   "outputs": [],
   "source": [
    "car_val"
   ]
  },
  {
   "cell_type": "code",
   "execution_count": null,
   "metadata": {
    "ExecuteTime": {
     "end_time": "2021-01-25T14:08:42.928870Z",
     "start_time": "2021-01-25T14:08:42.883956Z"
    }
   },
   "outputs": [],
   "source": [
    "others_list = ['mini','citroen','peugeot','opel','jaguar', 'saab',\n",
    "               'porsche','maserati','chevrolet','land', 'mclaren', 'alfa',\n",
    "               'renault','skoda','ford','infiniti','jeep', 'lamborghini',\n",
    "               'daihatsu','seat','ssangyong','bentley','lotus', 'ferrari',\n",
    "               'rolls-royce','dodge','aston','chery','proton']\n",
    "for i in others_list:\n",
    "    car_val['make'] = car_val['make'].str.replace(i,\"other_makes\")\n",
    "\n",
    "    \n",
    "others_list = ['Stationwagon','Sports Car']\n",
    "for i in others_list:\n",
    "    car_val['type'] = car_val['type'].str.replace(i,\"other_type\")\n",
    "\n",
    "    \n",
    "others_list = ['HybridCars','OPCCar','AlmostNewCar']\n",
    "for i in others_list:\n",
    "    car_val['category'] = car_val['category'].str.replace(i,\"other_cat\")\n",
    "\n",
    "categories_val = car_val['category'].str.get_dummies(',')\n",
    "categories_val.drop(columns=['STAEvaluatedCar', 'ConsignmentCar', 'DirectOwnerSale', 'PremiumAdCar', 'LowMileageCar','ImportedUsedVehicle'] ,inplace=True)\n",
    "merge_val = pd.concat([car_val,categories_val], axis=1)"
   ]
  },
  {
   "cell_type": "code",
   "execution_count": null,
   "metadata": {
    "ExecuteTime": {
     "end_time": "2021-01-25T14:08:46.406392Z",
     "start_time": "2021-01-25T14:08:46.380445Z"
    }
   },
   "outputs": [],
   "source": [
    "merge_val['transmission'] = merge_val['transmission'].str.get_dummies()\n",
    "\n",
    "make = merge_val['make'].str.get_dummies()\n",
    "type = merge_val['type'].str.get_dummies()\n",
    "\n",
    "merge_val = pd.concat([merge_val,make], axis=1)\n",
    "merge_val = pd.concat([merge_val,type], axis=1)\n",
    "\n",
    "merge_val.drop(columns=['type','category','make'],inplace=True)"
   ]
  },
  {
   "cell_type": "code",
   "execution_count": null,
   "metadata": {
    "ExecuteTime": {
     "end_time": "2021-01-25T14:08:47.733458Z",
     "start_time": "2021-01-25T14:08:47.700523Z"
    }
   },
   "outputs": [],
   "source": [
    "merge_val"
   ]
  },
  {
   "cell_type": "code",
   "execution_count": null,
   "metadata": {
    "ExecuteTime": {
     "end_time": "2021-01-25T14:08:48.478622Z",
     "start_time": "2021-01-25T14:08:48.445686Z"
    }
   },
   "outputs": [],
   "source": [
    "merge"
   ]
  },
  {
   "cell_type": "code",
   "execution_count": null,
   "metadata": {
    "ExecuteTime": {
     "end_time": "2021-01-25T14:08:52.161887Z",
     "start_time": "2021-01-25T14:08:52.155905Z"
    }
   },
   "outputs": [],
   "source": [
    "X_val = merge_val.drop(columns='price')\n",
    "y_val = merge_val['price']"
   ]
  },
  {
   "cell_type": "code",
   "execution_count": null,
   "metadata": {
    "ExecuteTime": {
     "end_time": "2021-01-25T14:08:53.413140Z",
     "start_time": "2021-01-25T14:08:53.348290Z"
    }
   },
   "outputs": [],
   "source": [
    "print('Validated Gradient Boost Model')\n",
    "\n",
    "#Validated R2 score\n",
    "gboost_test_r2 = gsboost.best_estimator_.score(X_val,y_val)\n",
    "print('Validated R^2 Score: {}'.format(gboost_test_r2.round(4)))\n",
    "\n",
    "#Validated RMSE\n",
    "gboost_pred = gsboost.best_estimator_.predict(X_val)\n",
    "gboost_rmse = np.sqrt(mean_squared_error(y_val,gboost_pred))\n",
    "print('Validated RMSE: {}'.format(gboost_rmse))"
   ]
  },
  {
   "cell_type": "code",
   "execution_count": null,
   "metadata": {
    "ExecuteTime": {
     "end_time": "2021-01-25T14:08:54.396731Z",
     "start_time": "2021-01-25T14:08:53.826928Z"
    }
   },
   "outputs": [],
   "source": [
    "print('Validated Random Forest Model')\n",
    "\n",
    "#Validated R2 score\n",
    "rf_test_r2 = rfgs.best_estimator_.score(X_val,y_val)\n",
    "print('R^2 Score: {}'.format(rf_test_r2.round(4)))\n",
    "\n",
    "#Validated RMSE\n",
    "rf_pred = rfgs.best_estimator_.predict(X_val)\n",
    "rf_rmse = np.sqrt(mean_squared_error(y_val,rf_pred))\n",
    "print('RMSE: {}'.format(rf_rmse))"
   ]
  },
  {
   "cell_type": "code",
   "execution_count": null,
   "metadata": {
    "ExecuteTime": {
     "end_time": "2021-01-25T12:11:52.043561Z",
     "start_time": "2021-01-25T11:58:32.791Z"
    }
   },
   "outputs": [],
   "source": [
    "import pickle"
   ]
  },
  {
   "cell_type": "code",
   "execution_count": null,
   "metadata": {
    "ExecuteTime": {
     "end_time": "2021-01-25T12:11:52.044558Z",
     "start_time": "2021-01-25T11:58:32.803Z"
    }
   },
   "outputs": [],
   "source": [
    "filename = 'finalized_model.sav'\n",
    "pickle.dump(gsboost.best_estimator_, open(filename, 'wb'))"
   ]
  },
  {
   "cell_type": "code",
   "execution_count": null,
   "metadata": {},
   "outputs": [],
   "source": []
  },
  {
   "cell_type": "markdown",
   "metadata": {},
   "source": [
    "# Conclusion"
   ]
  },
  {
   "cell_type": "code",
   "execution_count": null,
   "metadata": {},
   "outputs": [],
   "source": []
  }
 ],
 "metadata": {
  "kernelspec": {
   "display_name": "Python 3",
   "language": "python",
   "name": "python3"
  },
  "language_info": {
   "codemirror_mode": {
    "name": "ipython",
    "version": 3
   },
   "file_extension": ".py",
   "mimetype": "text/x-python",
   "name": "python",
   "nbconvert_exporter": "python",
   "pygments_lexer": "ipython3",
   "version": "3.8.5"
  },
  "toc": {
   "base_numbering": 1,
   "nav_menu": {},
   "number_sections": true,
   "sideBar": true,
   "skip_h1_title": false,
   "title_cell": "Table of Contents",
   "title_sidebar": "Contents",
   "toc_cell": false,
   "toc_position": {
    "height": "calc(100% - 180px)",
    "left": "10px",
    "top": "150px",
    "width": "165px"
   },
   "toc_section_display": true,
   "toc_window_display": true
  }
 },
 "nbformat": 4,
 "nbformat_minor": 4
}
