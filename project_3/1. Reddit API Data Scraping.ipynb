{
 "cells": [
  {
   "cell_type": "markdown",
   "metadata": {},
   "source": [
    "# 1. Reddit API Data Scraping"
   ]
  },
  {
   "cell_type": "markdown",
   "metadata": {},
   "source": [
    "In this notebook, I will demonstrate how I collect the data via reddit API. \n",
    "\n",
    "**Note:** Rerunning this notebook will give you a more recent post. Data that has been saved and used for this project was collected on 26th November. "
   ]
  },
  {
   "cell_type": "code",
   "execution_count": 1,
   "metadata": {},
   "outputs": [],
   "source": [
    "#import packages\n",
    "import requests\n",
    "import pandas as pd\n",
    "import time\n",
    "import random"
   ]
  },
  {
   "cell_type": "markdown",
   "metadata": {},
   "source": [
    "## Kayaking SubReddit"
   ]
  },
  {
   "cell_type": "markdown",
   "metadata": {},
   "source": [
    "Let's check the status code of our url before we start collecting the data."
   ]
  },
  {
   "cell_type": "code",
   "execution_count": 2,
   "metadata": {},
   "outputs": [
    {
     "data": {
      "text/plain": [
       "200"
      ]
     },
     "execution_count": 2,
     "metadata": {},
     "output_type": "execute_result"
    }
   ],
   "source": [
    "url_k = 'https://www.reddit.com/r/Kayaking/.json'\n",
    "res_k = requests.get(url_k, headers={'User-agent': 'Pony Inc 1.0'})\n",
    "res_k.status_code"
   ]
  },
  {
   "cell_type": "markdown",
   "metadata": {},
   "source": [
    "200 means that our connection is good! We can proceed to collect the data from the subreddit. Instantiating a loop to collect multiple pages of posts from the kayaking subreddit."
   ]
  },
  {
   "cell_type": "code",
   "execution_count": 3,
   "metadata": {},
   "outputs": [
    {
     "name": "stdout",
     "output_type": "stream",
     "text": [
      "https://www.reddit.com/r/Kayaking/.json\n",
      "5\n",
      "https://www.reddit.com/r/Kayaking/.json?after=t3_jzjxtf\n",
      "5\n",
      "https://www.reddit.com/r/Kayaking/.json?after=t3_jyzxgp\n",
      "2\n",
      "https://www.reddit.com/r/Kayaking/.json?after=t3_jy1x8b\n",
      "2\n",
      "https://www.reddit.com/r/Kayaking/.json?after=t3_jvbb8n\n",
      "2\n",
      "https://www.reddit.com/r/Kayaking/.json?after=t3_ju85yn\n",
      "5\n",
      "https://www.reddit.com/r/Kayaking/.json?after=t3_jsye8f\n",
      "4\n",
      "https://www.reddit.com/r/Kayaking/.json?after=t3_jrbfi1\n",
      "4\n",
      "https://www.reddit.com/r/Kayaking/.json?after=t3_jqp8k5\n",
      "3\n",
      "https://www.reddit.com/r/Kayaking/.json?after=t3_jpg84x\n",
      "5\n",
      "https://www.reddit.com/r/Kayaking/.json?after=t3_jn8b97\n",
      "3\n",
      "https://www.reddit.com/r/Kayaking/.json?after=t3_jlv9c2\n",
      "5\n",
      "https://www.reddit.com/r/Kayaking/.json?after=t3_jkduta\n",
      "5\n",
      "https://www.reddit.com/r/Kayaking/.json?after=t3_jinbl6\n",
      "6\n",
      "https://www.reddit.com/r/Kayaking/.json?after=t3_jhqhtq\n",
      "6\n",
      "https://www.reddit.com/r/Kayaking/.json?after=t3_jg9uoc\n",
      "5\n",
      "https://www.reddit.com/r/Kayaking/.json?after=t3_jexl4p\n",
      "6\n",
      "https://www.reddit.com/r/Kayaking/.json?after=t3_jdrh6i\n",
      "5\n",
      "https://www.reddit.com/r/Kayaking/.json?after=t3_jdnoul\n",
      "5\n",
      "https://www.reddit.com/r/Kayaking/.json?after=t3_jdcaug\n",
      "4\n",
      "https://www.reddit.com/r/Kayaking/.json?after=t3_jc1hyc\n",
      "4\n",
      "https://www.reddit.com/r/Kayaking/.json?after=t3_ja53zt\n",
      "6\n",
      "https://www.reddit.com/r/Kayaking/.json?after=t3_j9drsr\n",
      "3\n",
      "https://www.reddit.com/r/Kayaking/.json?after=t3_j95sx2\n",
      "4\n",
      "https://www.reddit.com/r/Kayaking/.json?after=t3_j7zfut\n",
      "5\n",
      "https://www.reddit.com/r/Kayaking/.json?after=t3_j79mfu\n",
      "2\n",
      "https://www.reddit.com/r/Kayaking/.json?after=t3_j5n7t2\n",
      "5\n",
      "https://www.reddit.com/r/Kayaking/.json?after=t3_j533r6\n",
      "5\n",
      "https://www.reddit.com/r/Kayaking/.json?after=t3_j4muiy\n",
      "4\n",
      "https://www.reddit.com/r/Kayaking/.json?after=t3_j3zm2i\n",
      "4\n",
      "https://www.reddit.com/r/Kayaking/.json?after=t3_j2gsnb\n",
      "5\n",
      "https://www.reddit.com/r/Kayaking/.json?after=t3_j1gzki\n",
      "4\n",
      "https://www.reddit.com/r/Kayaking/.json?after=t3_j1384k\n",
      "5\n",
      "https://www.reddit.com/r/Kayaking/.json?after=t3_j0ixtm\n",
      "2\n",
      "https://www.reddit.com/r/Kayaking/.json?after=t3_izmf30\n",
      "4\n",
      "https://www.reddit.com/r/Kayaking/.json?after=t3_iybfld\n",
      "3\n",
      "https://www.reddit.com/r/Kayaking/.json?after=t3_ixf69f\n",
      "6\n",
      "https://www.reddit.com/r/Kayaking/.json?after=t3_iwhsh1\n",
      "6\n",
      "https://www.reddit.com/r/Kayaking/.json?after=t3_iw0tok\n",
      "3\n",
      "https://www.reddit.com/r/Kayaking/.json?after=t3_iuvh8n\n",
      "4\n"
     ]
    }
   ],
   "source": [
    "posts_k = []\n",
    "after_k = None\n",
    "\n",
    "for a in range(40):\n",
    "    if after_k == None:\n",
    "        current_url_k = url_k\n",
    "    else:\n",
    "        current_url_k = url_k + '?after=' + after_k\n",
    "    print(current_url_k)\n",
    "    res_k = requests.get(current_url_k, headers={'User-agent': 'Pony Inc 1.0'})\n",
    "    \n",
    "    if res_k.status_code != 200:\n",
    "        print('Status error', res_k.status_code)\n",
    "        break\n",
    "    \n",
    "    reddit_k = res_k.json()\n",
    "    rk_posts = [p['data'] for p in reddit_k['data']['children']]\n",
    "    posts_k.extend(rk_posts)\n",
    "    after_k = reddit_k['data']['after']\n",
    "    \n",
    "    # COMPLETE THE CODE!\n",
    "    if a > 0:\n",
    "        prev_posts = pd.read_csv('./data/kayaking.csv')\n",
    "        reddit_k = pd.DataFrame()\n",
    "        \n",
    "    else:\n",
    "        pd.DataFrame(rk_posts).to_csv('./data/kayaking.csv', index = False)\n",
    "\n",
    "    # generate a random sleep duration to look more 'natural'\n",
    "    sleep_duration = random.randint(2,6)\n",
    "    print(sleep_duration)\n",
    "    time.sleep(sleep_duration)"
   ]
  },
  {
   "cell_type": "code",
   "execution_count": 4,
   "metadata": {},
   "outputs": [
    {
     "data": {
      "text/plain": [
       "998"
      ]
     },
     "execution_count": 4,
     "metadata": {},
     "output_type": "execute_result"
    }
   ],
   "source": [
    "#checking the length of observations\n",
    "len(posts_k)"
   ]
  },
  {
   "cell_type": "code",
   "execution_count": 8,
   "metadata": {},
   "outputs": [],
   "source": [
    "#converting to dataframe and save to csv\n",
    "pd.DataFrame(posts_k).to_csv('./data/reddit_kayaking.csv', index = False)"
   ]
  },
  {
   "cell_type": "markdown",
   "metadata": {},
   "source": [
    "## Surfing SubReddit"
   ]
  },
  {
   "cell_type": "markdown",
   "metadata": {},
   "source": [
    "Let's check the status code of our url before we start collecting the data."
   ]
  },
  {
   "cell_type": "code",
   "execution_count": 5,
   "metadata": {},
   "outputs": [
    {
     "data": {
      "text/plain": [
       "200"
      ]
     },
     "execution_count": 5,
     "metadata": {},
     "output_type": "execute_result"
    }
   ],
   "source": [
    "url_s = 'https://www.reddit.com/r/surfing/.json'\n",
    "res_s = requests.get(url_s, headers={'User-agent': 'Pony Inc 1.0'})\n",
    "res_s.status_code"
   ]
  },
  {
   "cell_type": "markdown",
   "metadata": {},
   "source": [
    "200 means that our connection is good! We can proceed to collect the data from the subreddit. Instantiating a loop to collect multiple pages of posts from the surfing subreddit."
   ]
  },
  {
   "cell_type": "code",
   "execution_count": 6,
   "metadata": {},
   "outputs": [
    {
     "name": "stdout",
     "output_type": "stream",
     "text": [
      "https://www.reddit.com/r/surfing/.json\n",
      "5\n",
      "https://www.reddit.com/r/surfing/.json?after=t3_k0p1sw\n",
      "4\n",
      "https://www.reddit.com/r/surfing/.json?after=t3_k0dqzb\n",
      "6\n",
      "https://www.reddit.com/r/surfing/.json?after=t3_k07ywk\n",
      "3\n",
      "https://www.reddit.com/r/surfing/.json?after=t3_jyv16g\n",
      "4\n",
      "https://www.reddit.com/r/surfing/.json?after=t3_jyqnnn\n",
      "2\n",
      "https://www.reddit.com/r/surfing/.json?after=t3_jy0awj\n",
      "4\n",
      "https://www.reddit.com/r/surfing/.json?after=t3_jwz597\n",
      "6\n",
      "https://www.reddit.com/r/surfing/.json?after=t3_jws3cz\n",
      "4\n",
      "https://www.reddit.com/r/surfing/.json?after=t3_jv9zq0\n",
      "5\n",
      "https://www.reddit.com/r/surfing/.json?after=t3_jv5ua4\n",
      "4\n",
      "https://www.reddit.com/r/surfing/.json?after=t3_jux4zj\n",
      "3\n",
      "https://www.reddit.com/r/surfing/.json?after=t3_jtqrmv\n",
      "6\n",
      "https://www.reddit.com/r/surfing/.json?after=t3_jtdu4y\n",
      "4\n",
      "https://www.reddit.com/r/surfing/.json?after=t3_jt5czu\n",
      "6\n",
      "https://www.reddit.com/r/surfing/.json?after=t3_jskyl4\n",
      "2\n",
      "https://www.reddit.com/r/surfing/.json?after=t3_jsjtqz\n",
      "6\n",
      "https://www.reddit.com/r/surfing/.json?after=t3_jsb3ul\n",
      "2\n",
      "https://www.reddit.com/r/surfing/.json?after=t3_jrf0ao\n",
      "2\n",
      "https://www.reddit.com/r/surfing/.json?after=t3_jquimw\n",
      "3\n",
      "https://www.reddit.com/r/surfing/.json?after=t3_jqwqzl\n",
      "6\n",
      "https://www.reddit.com/r/surfing/.json?after=t3_jpydsx\n",
      "2\n",
      "https://www.reddit.com/r/surfing/.json?after=t3_jpi2eb\n",
      "6\n",
      "https://www.reddit.com/r/surfing/.json?after=t3_jpdq8t\n",
      "6\n",
      "https://www.reddit.com/r/surfing/.json?after=t3_jojk25\n",
      "5\n",
      "https://www.reddit.com/r/surfing/.json?after=t3_jo4859\n",
      "2\n",
      "https://www.reddit.com/r/surfing/.json?after=t3_jnqhru\n",
      "3\n",
      "https://www.reddit.com/r/surfing/.json?after=t3_jmr8dg\n",
      "4\n",
      "https://www.reddit.com/r/surfing/.json?after=t3_jmhmni\n",
      "6\n",
      "https://www.reddit.com/r/surfing/.json?after=t3_jlywbt\n",
      "2\n",
      "https://www.reddit.com/r/surfing/.json?after=t3_jkxzu9\n",
      "6\n",
      "https://www.reddit.com/r/surfing/.json?after=t3_jknj0j\n",
      "2\n",
      "https://www.reddit.com/r/surfing/.json?after=t3_jjwl0k\n",
      "4\n",
      "https://www.reddit.com/r/surfing/.json?after=t3_jk2325\n",
      "3\n",
      "https://www.reddit.com/r/surfing/.json?after=t3_jjqn07\n",
      "3\n",
      "https://www.reddit.com/r/surfing/.json?after=t3_jj4ek8\n",
      "6\n",
      "https://www.reddit.com/r/surfing/.json?after=t3_jioonu\n",
      "4\n",
      "https://www.reddit.com/r/surfing/.json?after=t3_jhjthm\n",
      "5\n",
      "https://www.reddit.com/r/surfing/.json\n",
      "3\n",
      "https://www.reddit.com/r/surfing/.json?after=t3_k0p1sw\n",
      "3\n"
     ]
    }
   ],
   "source": [
    "posts_s = []\n",
    "after_s = None\n",
    "\n",
    "for a in range(40):\n",
    "    if after_s == None:\n",
    "        current_url_s = url_s\n",
    "    else:\n",
    "        current_url_s = url_s + '?after=' + after_s\n",
    "    print(current_url_s)\n",
    "    res_s = requests.get(current_url_s, headers={'User-agent': 'Pony Inc 1.0'})\n",
    "    \n",
    "    if res_s.status_code != 200:\n",
    "        print('Status error', res_s.status_code)\n",
    "        break\n",
    "    \n",
    "    reddit_s = res_s.json()\n",
    "    rs_posts = [p['data'] for p in reddit_s['data']['children']]\n",
    "    posts_s.extend(rs_posts)\n",
    "    after_s = reddit_s['data']['after']\n",
    "    \n",
    "    # COMPLETE THE CODE!\n",
    "    if a > 0:\n",
    "        prev_posts = pd.read_csv('./data/surfing.csv')\n",
    "        reddit_s = pd.DataFrame()\n",
    "        \n",
    "    else:\n",
    "        pd.DataFrame(rs_posts).to_csv('./data/surfing.csv', index = False)\n",
    "\n",
    "    # generate a random sleep duration to look more 'natural'\n",
    "    sleep_duration = random.randint(2,6)\n",
    "    print(sleep_duration)\n",
    "    time.sleep(sleep_duration)"
   ]
  },
  {
   "cell_type": "code",
   "execution_count": 7,
   "metadata": {},
   "outputs": [
    {
     "data": {
      "text/plain": [
       "996"
      ]
     },
     "execution_count": 7,
     "metadata": {},
     "output_type": "execute_result"
    }
   ],
   "source": [
    "#checking length of observations\n",
    "len(posts_s)"
   ]
  },
  {
   "cell_type": "code",
   "execution_count": 9,
   "metadata": {},
   "outputs": [],
   "source": [
    "#converting to dataframe and save to csv\n",
    "pd.DataFrame(posts_s).to_csv('./data/reddit_surfing.csv', index = False)"
   ]
  }
 ],
 "metadata": {
  "kernelspec": {
   "display_name": "Python 3",
   "language": "python",
   "name": "python3"
  },
  "language_info": {
   "codemirror_mode": {
    "name": "ipython",
    "version": 3
   },
   "file_extension": ".py",
   "mimetype": "text/x-python",
   "name": "python",
   "nbconvert_exporter": "python",
   "pygments_lexer": "ipython3",
   "version": "3.8.5"
  }
 },
 "nbformat": 4,
 "nbformat_minor": 4
}
